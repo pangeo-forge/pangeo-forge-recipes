{
 "cells": [
  {
   "cell_type": "markdown",
   "metadata": {},
   "source": [
    "### TODO\n",
    "- add links to read more where applicable"
   ]
  },
  {
   "cell_type": "markdown",
   "metadata": {},
   "source": [
    "# Introduction Tutorial (Part 1 - Creating a Recipe)\n",
    "\n",
    "Welcome to the Pangeo Forge introduction tutorial!\n",
    "\n",
    "This tutorial has two parts:\n",
    "1. creating and testing a recipe locally\n",
    "2. setting up a recipe to run in the cloud\n",
    "\n",
    "We will assume that you already have `pangeo-forge-recipes` installed (write file and insert link). If you have an environment setup where you can run `import pangeo_forge_recipes` in Python you have likely done that already.\n",
    "\n",
    "For this tutorial we are going to convert NOAA OISST to zarr. This is an ocean sea surface temperature dataset originally stored as a netCDF. By the end of this tutorial sequence you will have converted some OISST data to zarr and be able to access it on your computer!"
   ]
  },
  {
   "cell_type": "markdown",
   "metadata": {},
   "source": [
    "## Steps to Creating a Recipe\n",
    "\n",
    "The two major pieces of creating a recipe are:\n",
    "1. Defining a File Pattern\n",
    "2. Defining a Recipe Class\n",
    "\n",
    "We will talk about each of these steps in turn."
   ]
  },
  {
   "cell_type": "markdown",
   "metadata": {},
   "source": [
    "We will define both of these steps in a single file, which we will call `recipe.py`. For now you can also do this in a Jupyter Notebook if you prefer. (**Question -- I imagine this will have to be in a script by the time it gets pushed to GH, correct?**)To start, create a new file with this name and open up your favorite IDE or text editor to get coding."
   ]
  },
  {
   "cell_type": "markdown",
   "metadata": {},
   "source": [
    "## The OISST Dataset\n",
    "\n",
    "Like many datasets, OISST is availble via an http url that can be explored. By putting the url https://www.ncei.noaa.gov/data/sea-surface-temperature-optimum-interpolation/v2.1/access/avhrr/ into a webbrowser we can explore the organization of the OISST url. Going to that web url displays a page that as the following info on it:"
   ]
  },
  {
   "cell_type": "markdown",
   "metadata": {},
   "source": [
    "```\n",
    "Parent Directory\t \t-\t \n",
    "198109/\t2020-05-15 17:08\t-\t \n",
    "198110/\t2020-05-15 17:08\t-\t \n",
    "198111/\t2020-05-15 17:08\t-\t \n",
    "198112/\t2020-05-15 17:08\t-\t \n",
    "198201/\t2020-05-15 17:08\t-\t \n",
    "198202/\t2020-05-15 17:08\t-\t \n",
    "198203/\t2020-05-15 17:08\t-\t \n",
    "198204/\t2020-05-15 17:08\t-\t \n",
    "198205/\t2020-05-15 17:08\t-\t \n",
    "198206/\t2020-05-15 17:08\t-\t\n",
    "```"
   ]
  },
  {
   "cell_type": "markdown",
   "metadata": {},
   "source": [
    "We see that each folder on this page is listing a 4-digit year followed by 2-digit month. Clicking on a particular month (for examle `198112/`) we see:"
   ]
  },
  {
   "cell_type": "markdown",
   "metadata": {},
   "source": [
    "```\n",
    "Parent Directory\t \t-\t \n",
    "oisst-avhrr-v02r01.19811201.nc\t2020-05-15 11:14\t1.6M\t \n",
    "oisst-avhrr-v02r01.19811202.nc\t2020-05-15 11:15\t1.6M\t \n",
    "oisst-avhrr-v02r01.19811203.nc\t2020-05-15 11:07\t1.6M\t \n",
    "oisst-avhrr-v02r01.19811204.nc\t2020-05-15 11:07\t1.6M\t \n",
    "oisst-avhrr-v02r01.19811205.nc\t2020-05-15 11:08\t1.6M\t \n",
    "oisst-avhrr-v02r01.19811206.nc\t2020-05-15 11:07\t1.6M\t \n",
    "oisst-avhrr-v02r01.19811207.nc\t2020-05-15 11:08\t1.6M\t \n",
    "oisst-avhrr-v02r01.19811208.nc\t2020-05-15 11:08\t1.6M\t \n",
    "oisst-avhrr-v02r01.19811209.nc\t2020-05-15 11:10\t1.6M\t \n",
    "```"
   ]
  },
  {
   "cell_type": "markdown",
   "metadata": {},
   "source": [
    "By putting together the url with a single file we can see that the OISST dataset for December 9th, 1981 would be accessed using the url:\n",
    "https://www.ncei.noaa.gov/data/sea-surface-temperature-optimum-interpolation/v2.1/access/avhrr/198112/oisst-avhrr-v02r01.19811209.nc\n",
    "\n",
    "Copying and pasting that url into a webbrowser will download that single file to your computer."
   ]
  },
  {
   "cell_type": "markdown",
   "metadata": {},
   "source": [
    "Pangeo Forge File Patterns are built on the premise that datasets accessible by URL will be organized in a predictable way that also tells us something about the structure of the dataset. This leads us to the next step of creating a recipe - defining the file pattern."
   ]
  },
  {
   "cell_type": "markdown",
   "metadata": {},
   "source": [
    "## Defining a File Pattern\n",
    "\n",
    "We saw by exploring the remote url that the OISST dataset has a url that is organized in the format:\n",
    "\n",
    "`https://www.ncei.noaa.gov/data/sea-surface-temperature-optimum-interpolation/v2.1/access/avhrr/<year-month>/oisst-avhrr-v02r01.<year-month-day>.nc`\n",
    "\n",
    "There are several different ways to define File Patterns in Pangeo Forge, but in this tutorial we are going to use `pattern_from_file_sequence`. `pattern_from_file_sequence` takes as an input a list of urls to the files of the dataset that we want to convert. To create this list we will use the library `pandas` and Python format strings."
   ]
  },
  {
   "cell_type": "markdown",
   "metadata": {},
   "source": [
    "### Programatically create a dataset url\n",
    "\n",
    "First, let's use `pd.date_range()` to create a list of dates. We will just define the first month of data for this tutorial, but in practice you could define the date range to be the entire range of the dataset. We will also use `freq='D'` because OISST is a daily dataset."
   ]
  },
  {
   "cell_type": "code",
   "execution_count": 1,
   "metadata": {},
   "outputs": [],
   "source": [
    "import pandas as pd"
   ]
  },
  {
   "cell_type": "code",
   "execution_count": 5,
   "metadata": {},
   "outputs": [
    {
     "name": "stdout",
     "output_type": "stream",
     "text": [
      "DatetimeIndex(['1982-01-01', '1982-01-02', '1982-01-03', '1982-01-04',\n",
      "               '1982-01-05', '1982-01-06', '1982-01-07', '1982-01-08',\n",
      "               '1982-01-09', '1982-01-10'],\n",
      "              dtype='datetime64[ns]', freq='D')\n"
     ]
    }
   ],
   "source": [
    "dates = pd.date_range('1982-01-01', '1982-02-01', freq='D')\n",
    "print(dates[:10])"
   ]
  },
  {
   "cell_type": "markdown",
   "metadata": {},
   "source": [
    "Great, we have our dates. Now we want to create a Python format string that we can fill with each of the dates in our `dates` list. For OISST that url looks like this:"
   ]
  },
  {
   "cell_type": "code",
   "execution_count": 7,
   "metadata": {},
   "outputs": [],
   "source": [
    "input_url_pattern = (\n",
    "    'https://www.ncei.noaa.gov/data/sea-surface-temperature-optimum-interpolation/'\n",
    "    'v2.1/access/avhrr/{yyyymm}/oisst-avhrr-v02r01.{yyyymmdd}.nc'\n",
    "    )"
   ]
  },
  {
   "cell_type": "markdown",
   "metadata": {},
   "source": [
    "We have subsituted the parts of the URL that change with `{}`. The `{}` allow us to use pythons `.format()` function for strings and the `.strftime()` method for datetime objects to create each file's url. For example, we could create the format string for the first day of the dataset like this:"
   ]
  },
  {
   "cell_type": "code",
   "execution_count": 8,
   "metadata": {},
   "outputs": [
    {
     "data": {
      "text/plain": [
       "'https://www.ncei.noaa.gov/data/sea-surface-temperature-optimum-interpolation/v2.1/access/avhrr/198201/oisst-avhrr-v02r01.19820101.nc'"
      ]
     },
     "execution_count": 8,
     "metadata": {},
     "output_type": "execute_result"
    }
   ],
   "source": [
    "input_url_pattern.format(\n",
    "    yyyymm=dates[0].strftime('%Y%m'), yyyymmdd=dates[0].strftime('%Y%m%d')\n",
    ")"
   ]
  },
  {
   "cell_type": "markdown",
   "metadata": {},
   "source": [
    "We created a url for the first file! You can view a reference for the the `.strftime()` format specifiers [here](https://strftime.org/)."
   ]
  },
  {
   "cell_type": "markdown",
   "metadata": {},
   "source": [
    "### Create a list of all the dataset urls\n",
    "\n",
    "Now let's put these pieces together - the `dates` sequence, the `input_url_pattern` format string, and the `.format()` function - into a list comprehension to create the urls for all the files in 1 month of the OISST dataset."
   ]
  },
  {
   "cell_type": "code",
   "execution_count": 10,
   "metadata": {},
   "outputs": [],
   "source": [
    "dates = pd.date_range('1990-06-01', '1990-06-30', freq='D')\n",
    "input_urls = [\n",
    "    input_url_pattern.format(\n",
    "        yyyymm=day.strftime('%Y%m'), yyyymmdd=day.strftime('%Y%m%d')\n",
    "    )\n",
    "    for day in dates\n",
    "]"
   ]
  },
  {
   "cell_type": "code",
   "execution_count": 16,
   "metadata": {},
   "outputs": [
    {
     "name": "stdout",
     "output_type": "stream",
     "text": [
      "['https://www.ncei.noaa.gov/data/sea-surface-temperature-optimum-interpolation/v2.1/access/avhrr/199006/oisst-avhrr-v02r01.19900601.nc', 'https://www.ncei.noaa.gov/data/sea-surface-temperature-optimum-interpolation/v2.1/access/avhrr/199006/oisst-avhrr-v02r01.19900602.nc', 'https://www.ncei.noaa.gov/data/sea-surface-temperature-optimum-interpolation/v2.1/access/avhrr/199006/oisst-avhrr-v02r01.19900603.nc', 'https://www.ncei.noaa.gov/data/sea-surface-temperature-optimum-interpolation/v2.1/access/avhrr/199006/oisst-avhrr-v02r01.19900604.nc', 'https://www.ncei.noaa.gov/data/sea-surface-temperature-optimum-interpolation/v2.1/access/avhrr/199006/oisst-avhrr-v02r01.19900605.nc']\n"
     ]
    }
   ],
   "source": [
    "print(input_urls[:5])"
   ]
  },
  {
   "cell_type": "markdown",
   "metadata": {},
   "source": [
    "There we have it!  A list of urls for the OISST dataset."
   ]
  },
  {
   "cell_type": "markdown",
   "metadata": {},
   "source": [
    "### Create the File Pattern object\n",
    "\n",
    "Now we return to our `pattern_from_file_sequence` function. The implementation looks like this:"
   ]
  },
  {
   "cell_type": "code",
   "execution_count": 13,
   "metadata": {},
   "outputs": [],
   "source": [
    "from pangeo_forge_recipes.patterns import pattern_from_file_sequence"
   ]
  },
  {
   "cell_type": "code",
   "execution_count": 14,
   "metadata": {},
   "outputs": [],
   "source": [
    "pattern = pattern_from_file_sequence(input_urls, 'time', nitems_per_file=1)"
   ]
  },
  {
   "cell_type": "markdown",
   "metadata": {},
   "source": [
    "The inputs are:\n",
    "* `input_urls` - the list of file urls we just created\n",
    "* `'time'` - indicates which variable is changing between files\n",
    "* `nitems_per_file` - specifies that each OISST file contains a single timestep"
   ]
  },
  {
   "cell_type": "code",
   "execution_count": 15,
   "metadata": {},
   "outputs": [
    {
     "data": {
      "text/plain": [
       "<FilePattern {'time': 30}>"
      ]
     },
     "execution_count": 15,
     "metadata": {},
     "output_type": "execute_result"
    }
   ],
   "source": [
    "pattern"
   ]
  },
  {
   "cell_type": "markdown",
   "metadata": {},
   "source": [
    "_Question for Charles -- is another way to look at this?_"
   ]
  },
  {
   "cell_type": "markdown",
   "metadata": {},
   "source": [
    "## Defining a Recipe Class\n",
    "\n",
    "Now that we have our File Pattern object the Recipe Class comes pretty easily. In this tutorial we want to convert our dataset to zarr, so we will use the `XarrayZarrRecipe` class.  All we need to do to create the object is input:\n",
    "1. the FilePattern object\n",
    "2. indicate how many files should go into a single chunk"
   ]
  },
  {
   "cell_type": "code",
   "execution_count": 17,
   "metadata": {},
   "outputs": [],
   "source": [
    "from pangeo_forge_recipes.recipes import XarrayZarrRecipe"
   ]
  },
  {
   "cell_type": "code",
   "execution_count": 18,
   "metadata": {},
   "outputs": [],
   "source": [
    "recipe = XarrayZarrRecipe(pattern, inputs_per_chunk=10)"
   ]
  },
  {
   "cell_type": "code",
   "execution_count": 19,
   "metadata": {},
   "outputs": [
    {
     "data": {
      "text/plain": [
       "XarrayZarrRecipe(file_pattern=<FilePattern {'time': 30}>, inputs_per_chunk=10, target_chunks={}, target=None, input_cache=None, metadata_cache=None, cache_inputs=True, copy_input_to_local_file=False, consolidate_zarr=True, consolidate_dimension_coordinates=True, xarray_open_kwargs={}, xarray_concat_kwargs={}, delete_input_encoding=True, process_input=None, process_chunk=None, lock_timeout=None, subset_inputs={}, open_input_with_fsspec_reference=False)"
      ]
     },
     "execution_count": 19,
     "metadata": {},
     "output_type": "execute_result"
    }
   ],
   "source": [
    "recipe"
   ]
  },
  {
   "cell_type": "markdown",
   "metadata": {},
   "source": [
    "TODO - how to read the repr"
   ]
  },
  {
   "cell_type": "markdown",
   "metadata": {},
   "source": [
    "And there you have your first recipe object! This object holds all the information about the dataset that it needs to run.\n",
    "\n",
    "In part 2 of the tutorial we will use our recipe to convert some data locally."
   ]
  }
 ],
 "metadata": {
  "interpreter": {
   "hash": "872ea42c32c3f63d8f4b36be21cfb5d37e4f64dbfc719d9980b5e00daca69998"
  },
  "kernelspec": {
   "display_name": "Python 3.9.9 ('pangeo-forge-recipes')",
   "language": "python",
   "name": "python3"
  },
  "language_info": {
   "codemirror_mode": {
    "name": "ipython",
    "version": 3
   },
   "file_extension": ".py",
   "mimetype": "text/x-python",
   "name": "python",
   "nbconvert_exporter": "python",
   "pygments_lexer": "ipython3",
   "version": "3.9.9"
  },
  "orig_nbformat": 4
 },
 "nbformat": 4,
 "nbformat_minor": 2
}
