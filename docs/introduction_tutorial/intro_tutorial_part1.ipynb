{
 "cells": [
  {
   "cell_type": "markdown",
   "metadata": {},
   "source": [
    "# Defining a Recipe (Intro Tutorial Part 1)\n",
    "\n",
    "Welcome to the Pangeo Forge introduction tutorial!\n",
    "\n",
    "This tutorial is split into three parts:\n",
    "1. Defining a recipe\n",
    "1. Running a recipe locally\n",
    "2. Setting up a recipe to run in the cloud\n",
    "\n",
    "Throughout this tutorial we are going to convert NOAA OISST stored in netCDF to Zarr. OISST is a global, gridded ocean sea surface temperature dataset at daily 1/4 degree resolution. By the end of this tutorial sequence you will have converted some OISST data to zarr, be able to access a sample on your computer, and see how to propose the recipe for cloud deployment!\n",
    "\n",
    "Here we tackle **Part 1 - Defining a Recipe**. We will assume that you already have `pangeo-forge-recipes` installed."
   ]
  },
  {
   "cell_type": "markdown",
   "metadata": {},
   "source": [
    "## Steps to Creating a Recipe\n",
    "\n",
    "The two major pieces of creating a recipe are:\n",
    "\n",
    "1. Creating a generalized URL pattern\n",
    "1. Defining a `FilePattern` object\n",
    "2. Defining a Recipe Class object\n",
    "\n",
    "We will talk about each of these steps in turn."
   ]
  },
  {
   "cell_type": "markdown",
   "metadata": {},
   "source": [
    "### Where should I write this code?\n",
    "Eventually, all of the code defining the recipe will need to go in a file called `recipe.py`. If you typically work in a text editor and want to start that way from the beginning that is great. It is also totally fine to work on your recipe code in a Jupyter Notebook and then copy the final code to a single `.py` file later. The choice between the two is personal preference."
   ]
  },
  {
   "cell_type": "markdown",
   "metadata": {},
   "source": [
    "## A Generalized URL Pattern for OISST\n",
    "\n",
    "### Explore the structure\n",
    "\n",
    "Like many datasets, OISST is availble via an HTTP URL.\n",
    "\n",
    "[https://www.ncei.noaa.gov/data/sea-surface-temperature-optimum-interpolation/v2.1/access/avhrr/](https://www.ncei.noaa.gov/data/sea-surface-temperature-optimum-interpolation/v2.1/access/avhrr/)\n",
    "\n",
    "By putting the URL into a webbrowser we can explore the organization of OISST. This is important because Pangeo Forge relies on the organization of a dataset URL to scale data access."
   ]
  },
  {
   "cell_type": "markdown",
   "metadata": {},
   "source": [
    "The link above shows data by month. Wihin each month there is data for individual days. We could represent the file structure that OISST is following like this:"
   ]
  },
  {
   "cell_type": "markdown",
   "metadata": {},
   "source": [
    "https://www.ncei.noaa.gov/data/sea-surface-temperature-optimum-interpolation/v2.1/access/avhrr/\n",
    "```\n",
    " │\n",
    " ├──198109/\n",
    " │   ├──oisst-avhrr-v02r01.19810901.nc\n",
    " │  ...\n",
    " │   └──oisst-avhrr-v02r01.19810930.nc\n",
    "...\n",
    " └──202201/\n",
    "      ├──oisst-avhrr-v02r01.20220101.nc\n",
    "     ...\n",
    "      └──oisst-avhrr-v02r01.20220131.nc\n",
    "```"
   ]
  },
  {
   "cell_type": "markdown",
   "metadata": {},
   "source": [
    "The important takeaways from this structure exploration are:\n",
    "- 1 file = 1 day\n",
    "- Folders separate months"
   ]
  },
  {
   "cell_type": "markdown",
   "metadata": {},
   "source": [
    "### A single URL\n",
    "\n",
    "By putting together the full URL for a single file we can see that the OISST dataset for December 9th, 1981 would be accessed using the URL:\n",
    "\n",
    "[https://www.ncei.noaa.gov/data/sea-surface-temperature-optimum-interpolation/v2.1/access/avhrr/198112/oisst-avhrr-v02r01.19811209.nc](https://www.ncei.noaa.gov/data/sea-surface-temperature-optimum-interpolation/v2.1/access/avhrr/198112/oisst-avhrr-v02r01.19811209.nc)\n",
    "\n",
    "Copying and pasting that url into a webbrowser will download that single file to your computer."
   ]
  },
  {
   "cell_type": "markdown",
   "metadata": {},
   "source": [
    "### A generalized URL pattern\n",
    "We can generalize the URL to say that OISST datasets are accessed using a URL of the format:\n",
    "\n",
    "`https://www.ncei.noaa.gov/data/sea-surface-temperature-optimum-interpolation/v2.1/access/avhrr/{year-month}/oisst-avhrr-v02r01.{year-month-day}.nc`\n",
    "\n",
    "where `{year-month}` and `{year-month-day}` change for each file. Of the three dimensions of this dataset - latitude, longitude and time - the individual files are split up by time."
   ]
  },
  {
   "cell_type": "markdown",
   "metadata": {},
   "source": [
    "### Why does this matter so much?\n",
    "A Pangeo Forge `FilePattern` is built on the premise that 1) datasets are accessible by URL will be organized in a predictable way 2) the URL organization tells us something about the structure of the dataset. Knowing the generalized structure of the OISST URL leads us to the next step of creating a recipe - defining a `FilePattern`."
   ]
  },
  {
   "cell_type": "markdown",
   "metadata": {},
   "source": [
    "## Defining a `FilePattern` object\n",
    "\n",
    "There are several different ways to define a [`FilePattern`](https://pangeo-forge.readthedocs.io/en/latest/recipe_user_guide/file_patterns.html) in Pangeo Forge. In this tutorial we are going to use `pattern_from_file_sequence`.  The input to the `pattern_from_file_sequence` function is a list of urls to the files of the dataset that we want to convert.  In other words, our goal is to create a list that looks like this:\n",
    "\n",
    "```\n",
    "[\"https://www.ncei.noaa.gov/data/sea-surface-temperature-optimum-interpolation/v2.1/access/avhrr/199006/oisst-avhrr-v02r01.19900601.nc\", \"https://www.ncei.noaa.gov/data/sea-surface-temperature-optimum-interpolation/v2.1/access/avhrr/199006/oisst-avhrr-v02r01.19900602.nc\", \"https://www.ncei.noaa.gov/data/sea-surface-temperature-optimum-interpolation/v2.1/access/avhrr/199006/oisst-avhrr-v02r01.19900603.nc\", ... ]\n",
    "```\n",
    "\n",
    "To create the list of URLs we will use the library `pandas` and Python format strings."
   ]
  },
  {
   "cell_type": "markdown",
   "metadata": {},
   "source": [
    "### Create a format string & function\n",
    "\n",
    "First, let's use `pd.date_range()` to create a list of dates. We will put in the beginning and ending dates of the dataset - in this case September 1st, 1981 through February 1st, 2022. We will also use `freq='D'` because OISST is a daily dataset."
   ]
  },
  {
   "cell_type": "code",
   "execution_count": 1,
   "metadata": {},
   "outputs": [],
   "source": [
    "import pandas as pd"
   ]
  },
  {
   "cell_type": "code",
   "execution_count": 10,
   "metadata": {},
   "outputs": [
    {
     "name": "stdout",
     "output_type": "stream",
     "text": [
      "DatetimeIndex(['1981-09-01', '1981-09-02', '1981-09-03', '1981-09-04',\n",
      "               '1981-09-05', '1981-09-06', '1981-09-07', '1981-09-08',\n",
      "               '1981-09-09', '1981-09-10'],\n",
      "              dtype='datetime64[ns]', freq='D')\n"
     ]
    }
   ],
   "source": [
    "dates = pd.date_range('1981-09-01', '2022-02-01', freq='D')\n",
    "# print the first 10 dates\n",
    "print(dates[:10])"
   ]
  },
  {
   "cell_type": "markdown",
   "metadata": {},
   "source": [
    "Great, we have our dates in a list. Now we want to create a Python format string so that we can use this list of dates to programatically create all of our URLs. \n",
    "\n",
    "For OISST the format string for our generalized URL looks like this:"
   ]
  },
  {
   "cell_type": "code",
   "execution_count": 3,
   "metadata": {},
   "outputs": [],
   "source": [
    "input_url_pattern = (\n",
    "    'https://www.ncei.noaa.gov/data/sea-surface-temperature-optimum-interpolation/'\n",
    "    'v2.1/access/avhrr/{yyyymm}/oisst-avhrr-v02r01.{yyyymmdd}.nc'\n",
    "    )"
   ]
  },
  {
   "cell_type": "markdown",
   "metadata": {},
   "source": [
    "We have subsituted the parts of the URL that change for each file with `{}`. The `{}` allow us to use Python's `.format()` function for strings and the `.strftime()` method for Python dates to create each file's url. For example, we could create the format string for the first day of the dataset like this:"
   ]
  },
  {
   "cell_type": "code",
   "execution_count": 4,
   "metadata": {},
   "outputs": [
    {
     "name": "stdout",
     "output_type": "stream",
     "text": [
      "formating OISST URL for the date  1981-09-01 00:00:00\n"
     ]
    },
    {
     "data": {
      "text/plain": [
       "'https://www.ncei.noaa.gov/data/sea-surface-temperature-optimum-interpolation/v2.1/access/avhrr/198109/oisst-avhrr-v02r01.19810901.nc'"
      ]
     },
     "execution_count": 4,
     "metadata": {},
     "output_type": "execute_result"
    }
   ],
   "source": [
    "print('formating OISST URL for the date ', dates[0])\n",
    "\n",
    "input_url_pattern.format(\n",
    "    yyyymm=dates[0].strftime('%Y%m'), yyyymmdd=dates[0].strftime('%Y%m%d')\n",
    ")"
   ]
  },
  {
   "cell_type": "markdown",
   "metadata": {},
   "source": [
    "`%Y%m` and `%Y%m%d` are the format specifiers that describe `{year-month}` and `{year-month-day}` as they appeared in the generalized OISST URL. You can view a reference for `.strftime()` format specifiers [here](https://strftime.org/)."
   ]
  },
  {
   "cell_type": "markdown",
   "metadata": {},
   "source": [
    "We programatically created a URL string for the first file! "
   ]
  },
  {
   "cell_type": "markdown",
   "metadata": {},
   "source": [
    "### Create a list of all the dataset urls\n",
    "\n",
    "Now let's put these pieces together. We will put our 3 parts\n",
    "1. the `dates` sequence\n",
    "2. the `input_url_pattern` format string\n",
    "3. the `.format()` function\n",
    "\n",
    "into a list comprehension to create the urls for all the files in 1 month of the OISST dataset."
   ]
  },
  {
   "cell_type": "code",
   "execution_count": 5,
   "metadata": {},
   "outputs": [],
   "source": [
    "input_urls = [\n",
    "    input_url_pattern.format(\n",
    "        yyyymm=day.strftime('%Y%m'), yyyymmdd=day.strftime('%Y%m%d')\n",
    "    )\n",
    "    for day in dates\n",
    "]"
   ]
  },
  {
   "cell_type": "markdown",
   "metadata": {},
   "source": [
    "TESTing pre commit"
   ]
  },
  {
   "cell_type": "code",
   "execution_count": 9,
   "metadata": {},
   "outputs": [
    {
     "name": "stdout",
     "output_type": "stream",
     "text": [
      "['https://www.ncei.noaa.gov/data/sea-surface-temperature-optimum-interpolation/v2.1/access/avhrr/198109/oisst-avhrr-v02r01.19810901.nc', 'https://www.ncei.noaa.gov/data/sea-surface-temperature-optimum-interpolation/v2.1/access/avhrr/198109/oisst-avhrr-v02r01.19810902.nc', 'https://www.ncei.noaa.gov/data/sea-surface-temperature-optimum-interpolation/v2.1/access/avhrr/198109/oisst-avhrr-v02r01.19810903.nc']\n"
     ]
    }
   ],
   "source": [
    "# Print the first 3 urls\n",
    "print(input_urls[:3])"
   ]
  },
  {
   "cell_type": "markdown",
   "metadata": {},
   "source": [
    "There we have it!  A list of URLs for the OISST dataset. By changing the dates in the `pandas` `pd.date_range()` function we could generate data access URLs for the full OISST dataset."
   ]
  },
  {
   "cell_type": "markdown",
   "metadata": {},
   "source": [
    "### Create the File Pattern object\n",
    "\n",
    "Now we return to our `pattern_from_file_sequence` function. The implementation looks like this:"
   ]
  },
  {
   "cell_type": "code",
   "execution_count": 7,
   "metadata": {},
   "outputs": [],
   "source": [
    "from pangeo_forge_recipes.patterns import pattern_from_file_sequence"
   ]
  },
  {
   "cell_type": "code",
   "execution_count": 8,
   "metadata": {},
   "outputs": [],
   "source": [
    "pattern = pattern_from_file_sequence(input_urls, 'time', nitems_per_file=1)"
   ]
  },
  {
   "cell_type": "markdown",
   "metadata": {},
   "source": [
    "The arguments are:\n",
    "* `input_urls` - the list of file urls we just created\n",
    "* `'time'` - indicates which variable is changing between files. Because each file of OISST is a new day of data with the same variable (sea surface temperature) and spatial extent, `time` is the input for OISST.\n",
    "* `nitems_per_file` - specifies that each OISST file contains a single timestep (1 day per file for OISST)"
   ]
  },
  {
   "cell_type": "markdown",
   "metadata": {},
   "source": [
    "When we print `pattern` we see that it is a `FilePattern` object with 32 timesteps."
   ]
  },
  {
   "cell_type": "code",
   "execution_count": 14,
   "metadata": {},
   "outputs": [
    {
     "data": {
      "text/plain": [
       "<FilePattern {'time': 14764}>"
      ]
     },
     "execution_count": 14,
     "metadata": {},
     "output_type": "execute_result"
    }
   ],
   "source": [
    "pattern"
   ]
  },
  {
   "cell_type": "markdown",
   "metadata": {},
   "source": [
    "### Inspecting a `FilePattern`"
   ]
  },
  {
   "cell_type": "code",
   "execution_count": 17,
   "metadata": {},
   "outputs": [
    {
     "name": "stdout",
     "output_type": "stream",
     "text": [
      "Index({DimIndex(name='time', index=0, sequence_len=14764, operation=<CombineOp.CONCAT: 2>)}) https://www.ncei.noaa.gov/data/sea-surface-temperature-optimum-interpolation/v2.1/access/avhrr/198109/oisst-avhrr-v02r01.19810901.nc\n",
      "Index({DimIndex(name='time', index=1, sequence_len=14764, operation=<CombineOp.CONCAT: 2>)}) https://www.ncei.noaa.gov/data/sea-surface-temperature-optimum-interpolation/v2.1/access/avhrr/198109/oisst-avhrr-v02r01.19810902.nc\n",
      "Index({DimIndex(name='time', index=2, sequence_len=14764, operation=<CombineOp.CONCAT: 2>)}) https://www.ncei.noaa.gov/data/sea-surface-temperature-optimum-interpolation/v2.1/access/avhrr/198109/oisst-avhrr-v02r01.19810903.nc\n"
     ]
    }
   ],
   "source": [
    "for index, url in pattern.items():\n",
    "    print(index, url)\n",
    "    # Stop after the 4th kasfjlksdjf;\n",
    "    if '19810903' in url:\n",
    "        break"
   ]
  },
  {
   "cell_type": "markdown",
   "metadata": {},
   "source": [
    "What we iterated through a `FilePattern` we saw that it has two things:\n",
    "1. An index object\n",
    "2. A dataset url\n",
    "Together, these two things describe the files of the dataset (with #2) and how those files relate to one another (with #1)."
   ]
  },
  {
   "cell_type": "markdown",
   "metadata": {},
   "source": [
    "## Defining a Recipe Class object\n",
    "\n",
    "Now that we have our `FilePattern` object the [Recipe Class](https://pangeo-forge.readthedocs.io/en/latest/recipe_user_guide/recipes.html) comes pretty quickly. In this tutorial we want to convert our dataset to zarr, so we will use the `XarrayZarrRecipe` class. Implementing the class looks like this:"
   ]
  },
  {
   "cell_type": "code",
   "execution_count": 17,
   "metadata": {},
   "outputs": [],
   "source": [
    "from pangeo_forge_recipes.recipes import XarrayZarrRecipe"
   ]
  },
  {
   "cell_type": "code",
   "execution_count": 18,
   "metadata": {},
   "outputs": [],
   "source": [
    "recipe = XarrayZarrRecipe(pattern, inputs_per_chunk=10)"
   ]
  },
  {
   "cell_type": "markdown",
   "metadata": {},
   "source": [
    "The arguments are:\n",
    "1. the `FilePattern` object\n",
    "2. `inputs_per_chunk` - indicates how many files should go into a single chunk of the zarr store\n",
    "\n",
    "In more complex recipes additional arguments that may get used, but for this tutorial these two are all we need."
   ]
  },
  {
   "cell_type": "markdown",
   "metadata": {},
   "source": [
    "## End of Part 1\n",
    "And there you have it - your first recipe object! Inside that object is all the information about the dataset that is needed to run the data conversion. Pretty compact!\n",
    "\n",
    "In part 2 of the tutorial, we will use our recipe object, `recipe` to convert some data locally.\n",
    "\n",
    "### Code Summary\n",
    "The code written in part 1 could all be written together as:"
   ]
  },
  {
   "cell_type": "code",
   "execution_count": null,
   "metadata": {},
   "outputs": [],
   "source": [
    "import pandas as pd\n",
    "\n",
    "from pangeo_forge_recipes.patterns import pattern_from_file_sequence\n",
    "from pangeo_forge_recipes.recipes import XarrayZarrRecipe"
   ]
  },
  {
   "cell_type": "code",
   "execution_count": null,
   "metadata": {},
   "outputs": [],
   "source": [
    "input_url_pattern = (\n",
    "    'https://www.ncei.noaa.gov/data/sea-surface-temperature-optimum-interpolation/'\n",
    "    'v2.1/access/avhrr/{yyyymm}/oisst-avhrr-v02r01.{yyyymmdd}.nc'\n",
    "    )\n",
    "\n",
    "dates = pd.date_range('1982-01-01', '1982-02-01', freq='D')\n",
    "input_urls = [\n",
    "    input_url_pattern.format(\n",
    "        yyyymm=day.strftime('%Y%m'), yyyymmdd=day.strftime('%Y%m%d')\n",
    "    )\n",
    "    for day in dates\n",
    "]\n",
    "\n",
    "pattern = pattern_from_file_sequence(input_urls, 'time', nitems_per_file=1)\n",
    "recipe = XarrayZarrRecipe(pattern, inputs_per_chunk=10)"
   ]
  },
  {
   "cell_type": "code",
   "execution_count": null,
   "metadata": {},
   "outputs": [],
   "source": []
  }
 ],
 "metadata": {
  "interpreter": {
   "hash": "872ea42c32c3f63d8f4b36be21cfb5d37e4f64dbfc719d9980b5e00daca69998"
  },
  "kernelspec": {
   "display_name": "Python 3.9.9 ('pangeo-forge-recipes')",
   "language": "python",
   "name": "python3"
  },
  "language_info": {
   "codemirror_mode": {
    "name": "ipython",
    "version": 3
   },
   "file_extension": ".py",
   "mimetype": "text/x-python",
   "name": "python",
   "nbconvert_exporter": "python",
   "pygments_lexer": "ipython3",
   "version": "3.9.9"
  },
  "orig_nbformat": 4
 },
 "nbformat": 4,
 "nbformat_minor": 2
}
