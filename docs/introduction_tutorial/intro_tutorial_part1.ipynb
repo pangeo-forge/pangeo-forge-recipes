{
 "cells": [
  {
   "cell_type": "markdown",
   "metadata": {},
   "source": [
    "# Defining a `FilePattern`\n",
    "\n",
    "Welcome to the Pangeo Forge introduction tutorial! This is the 1st part in a sequence, the flow of which is described {doc}`here </introduction_tutorial/index>`."
   ]
  },
  {
   "cell_type": "markdown",
   "metadata": {},
   "source": [
    "## Part 1 Outline\n",
    "\n",
    "The main goal of the first two parts of this tutorial are to create and run a **recipe**, the object that defines our data transformation. \n",
    "\n",
    "In part 1 we create a `FilePattern` object. A `FilePattern` contains everything Pangeo Forge needs to know about where the input data are coming from and how the individual files should be organized into the output. They are a huge step toward creating a recipe.\n",
    "\n",
    "The steps to creating a `FilePattern` are:\n",
    "\n",
    "1. Understand the URL Pattern for OISST & Create a Template String\n",
    "1. Define the **Combine Dimension** object\n",
    "1. Create a Format Function\n",
    "1. Define a `FilePattern`\n",
    "\n",
    "We will talk about each of these one at a time."
   ]
  },
  {
   "cell_type": "markdown",
   "metadata": {},
   "source": [
    "### Where should I write this code?\n",
    "Eventually, all of the code defining the recipe will go in a file called `recipe.py`, so one option for development is to develop your recipe directly in that file. Alternately, if you prefer the interactivity of a notebook you can work on your recipe code in a Jupyter Notebook and then copy the final code to a single `.py` file later. The choice between the two is personal preference."
   ]
  },
  {
   "cell_type": "markdown",
   "metadata": {},
   "source": [
    "## Understand the URL Pattern for OISST & Create a Template String\n",
    "\n",
    "\n",
    "### Explore the structure\n",
    "\n",
    "In order to create our Recipe, we have to understand how the data are organized on the server.\n",
    "Like many datasets, OISST is available over the internet via the HTTP protocol.\n",
    "We can browse the the files at this URL:\n",
    "\n",
    "<https://www.ncei.noaa.gov/data/sea-surface-temperature-optimum-interpolation/v2.1/access/avhrr/>\n",
    "\n",
    "By clicking the link, we can explore the organization of the dataset, which we need to do in order to build our Recipe."
   ]
  },
  {
   "cell_type": "markdown",
   "metadata": {},
   "source": [
    "The link above shows folders grouped by month. Within each month there is data for individual days. We could represent the file structure like this:"
   ]
  },
  {
   "cell_type": "markdown",
   "metadata": {},
   "source": [
    "![OISST file structure](../images/OISST_URL_structure.png)"
   ]
  },
  {
   "cell_type": "markdown",
   "metadata": {},
   "source": [
    "The important takeaways from this structure exploration are:\n",
    "- 1 file = 1 day\n",
    "- Folders separate months"
   ]
  },
  {
   "cell_type": "markdown",
   "metadata": {},
   "source": [
    "### A single URL\n",
    "\n",
    "By putting together the full URL for a single file we can see that the OISST dataset for December 9th, 1981 would be accessed using the URL:\n",
    "\n",
    "[https://www.ncei.noaa.gov/data/sea-surface-temperature-optimum-interpolation/v2.1/access/avhrr/198112/oisst-avhrr-v02r01.19811209.nc](https://www.ncei.noaa.gov/data/sea-surface-temperature-optimum-interpolation/v2.1/access/avhrr/198112/oisst-avhrr-v02r01.19811209.nc)\n",
    "\n",
    "Copying and pasting that url into a web browser will download that single file to your computer.\n",
    "\n",
    "If we just have a few files, we can just manually type out the URLs for each of them.\n",
    "But that isn't practical when we have thousands of files.\n",
    "We need to understand the _pattern_."
   ]
  },
  {
   "cell_type": "markdown",
   "metadata": {},
   "source": [
    "### Create a URL Template String\n",
    "We can generalize the URL to say that OISST datasets are accessed using a URL of the format:\n",
    "\n",
    "`https://www.ncei.noaa.gov/data/sea-surface-temperature-optimum-interpolation/v2.1/access/avhrr/{time:%Y%m}/oisst-avhrr-v02r01.{time:%Y%m%d}.nc`\n",
    "\n",
    "where `{time:%Y%m}` (representing a year and a month) and `{time:%Y%m%d}` (representing a year, month, and day) change for each file. (We're using direct string interpolation of `datetime` objects here, anything that [strftime](https://strftime.org/) supports can be put in). Of the three dimensions of this dataset - latitude, longitude and time - the individual files are split up by time.\n",
    "Our goal is to combine, or _concatenate_, these files along the time dimension into a single Zarr dataset."
   ]
  },
  {
   "cell_type": "markdown",
   "metadata": {},
   "source": [
    "![OISST file structure conversion](../images/OISST_structure_conversion.png)"
   ]
  },
  {
   "cell_type": "markdown",
   "metadata": {},
   "source": [
    "### Why does this matter so much?\n",
    "\n",
    "A Pangeo Forge {class}`FilePattern <pangeo_forge_recipes.patterns.FilePattern>` is built on the premise that\n",
    "\n",
    "1. We want to combine many individual small files into a larger dataset along one or more dimensions using either \"concatenate\" or \"merge\" style operations.\n",
    "1. The individual files are accessible by URL and organized in a predictable way.\n",
    "2. There is a some kind of correspondance, or mapping, between the dimensions of the combination process and the actual URLs.\n",
    "\n",
    "Knowing the generalized structure of the OISST URL leads us to start building the pieces of a `FilePattern`."
   ]
  },
  {
   "cell_type": "markdown",
   "metadata": {},
   "source": [
    "## About the `FilePattern` object\n",
    "\n",
    "```{note}\n",
    "`FilePattern`s are probably the most abstract part of Pangeo Forge.\n",
    "It may take some time and experience to become comfortable with the `FilePattern` concept.\n",
    "```\n",
    "\n",
    "The goal of the `FilePattern` is to describe how the files in the generalized URL template string should be organized when they get combined together into a single zarr datastore.\n",
    "\n",
    "In order to define a `FilePattern` we need to:\n",
    "1. Know the dimension of data that will be used to combine the files. In the case of OISST the dimension is time.\n",
    "2. Define the values of the dimension that correspond to each file, called the `key`s\n",
    "3. Create a function that converts the `key`s to the specific URL for each file. We call this the Format Function.\n",
    "\n",
    "The first two pieces together are called the **Combine Dimension**. Let's start by defining that.\n"
   ]
  },
  {
   "cell_type": "markdown",
   "metadata": {},
   "source": [
    "## Define the **Combine Dimension**\n",
    "\n",
    "The {class}`Combine Dimenion <pangeo_forge_recipes.patterns.ConcatDim>` describes the relationship between files. In this dataset we only have one combine dimension: time. There is one file per day, and we want to concatenate the files in time. We will use the Pangeo Forge object `ConcatDim()`.\n",
    "\n",
    "We also want to define the values of time that correspond to each file. These are called the `key`s. For OISST this means creating a list of every day covered by the dataset. The easiest way to do this is with the Pandas `date_range` function."
   ]
  },
  {
   "cell_type": "code",
   "execution_count": 1,
   "metadata": {},
   "outputs": [
    {
     "data": {
      "text/plain": [
       "DatetimeIndex(['1981-09-01', '1981-09-02', '1981-09-03', '1981-09-04'], dtype='datetime64[ns]', freq='D')"
      ]
     },
     "execution_count": 1,
     "metadata": {},
     "output_type": "execute_result"
    }
   ],
   "source": [
    "import pandas as pd\n",
    "\n",
    "dates = pd.date_range('1981-09-01', '2022-02-01', freq='D')\n",
    "# print the first 4 dates\n",
    "dates[:4]"
   ]
  },
  {
   "cell_type": "markdown",
   "metadata": {},
   "source": [
    "These will be the `key`s for our **Combine Dimension**.\n",
    "We now define a {class}`ConcatDim <pangeo_forge_recipes.patterns.ConcatDim>` object as follows:"
   ]
  },
  {
   "cell_type": "code",
   "execution_count": 2,
   "metadata": {},
   "outputs": [
    {
     "data": {
      "text/plain": [
       "ConcatDim(name='time', nitems_per_file=1)"
      ]
     },
     "execution_count": 2,
     "metadata": {},
     "output_type": "execute_result"
    }
   ],
   "source": [
    "from pangeo_forge_recipes.patterns import ConcatDim\n",
    "\n",
    "time_concat_dim = ConcatDim(\"time\", dates, nitems_per_file=1)\n",
    "time_concat_dim"
   ]
  },
  {
   "cell_type": "markdown",
   "metadata": {},
   "source": [
    "The `nitems_per_file=1` option is a hint we can give to Pangeo Forge. It means, \"we know there is only one timestep in each file\".\n",
    "Providing this hint is not necessary, but it makes some things more efficient down the line."
   ]
  },
  {
   "cell_type": "markdown",
   "metadata": {
    "tags": []
   },
   "source": [
    "## Define a Format Function\n",
    "\n",
    "Next we we need to write a function that takes a single key (here representing one day) and translates it into a URL to a data file.\n",
    "This is just a standard Python function.\n",
    "\n",
    "```{caution}\n",
    "If you're not comfortable with writing Python functions, this may be a good time to review\n",
    "the [official Python tutorial](https://docs.python.org/3/tutorial/controlflow.html#defining-functions)\n",
    "on this topic.\n",
    "```\n",
    "\n",
    "So we need to write a function that takes a date as its argument and returns the correct URL for the OISST file with that date."
   ]
  },
  {
   "cell_type": "markdown",
   "metadata": {},
   "source": [
    "![Format Function Flow](../images/Format_function.png)"
   ]
  },
  {
   "cell_type": "markdown",
   "metadata": {},
   "source": [
    "Because python's string interpolation directly supports formatting datetime objects, all we need to do is call `.format(time=...)` with a datetime object (the supported arguments as the same as the python [strftime](https://strftime.org/) function).\n",
    "For example"
   ]
  },
  {
   "cell_type": "code",
   "execution_count": 3,
   "metadata": {},
   "outputs": [
    {
     "data": {
      "text/plain": [
       "'1981-09-01'"
      ]
     },
     "execution_count": 3,
     "metadata": {},
     "output_type": "execute_result"
    }
   ],
   "source": [
    "\"{time:%Y-%m-%d}\".format(time=dates[0])"
   ]
  },
  {
   "cell_type": "markdown",
   "metadata": {},
   "source": [
    "Armed with this, we can now write our function calling `.format(...)` on the URL_FORMAT string we created earlier"
   ]
  },
  {
   "cell_type": "code",
   "execution_count": 4,
   "metadata": {},
   "outputs": [],
   "source": [
    "URL_FORMAT = (\n",
    "    \"https://www.ncei.noaa.gov/data/sea-surface-temperature-optimum-interpolation/\"\n",
    "    \"v2.1/access/avhrr/{time:%Y%m}/oisst-avhrr-v02r01.{time:%Y%m%d}.nc\"\n",
    ")\n",
    "\n",
    "def make_url(time):\n",
    "    return URL_FORMAT.format(time=time)"
   ]
  },
  {
   "cell_type": "markdown",
   "metadata": {},
   "source": [
    "Let's test it out:"
   ]
  },
  {
   "cell_type": "code",
   "execution_count": 5,
   "metadata": {},
   "outputs": [
    {
     "data": {
      "text/plain": [
       "'https://www.ncei.noaa.gov/data/sea-surface-temperature-optimum-interpolation/v2.1/access/avhrr/198109/oisst-avhrr-v02r01.19810901.nc'"
      ]
     },
     "execution_count": 5,
     "metadata": {},
     "output_type": "execute_result"
    }
   ],
   "source": [
    "make_url(dates[0])"
   ]
  },
  {
   "cell_type": "markdown",
   "metadata": {},
   "source": [
    "It looks good! 🤩 \n",
    "\n",
    "Before we move on, there are a couple of important things to note about this function:\n",
    "\n",
    "- It must have the _same number of arguments as the number of Combine Dimensions_. In our case, this is just one.\n",
    "- The name of the argument must match the `name` of the the Combine Dimension. In our case, this is `time`.\n",
    "\n",
    "These are ideas that will become increasingly relevant as you approach more complex datasets. For now, keep them in mind and we can move on to make our `FilePattern`."
   ]
  },
  {
   "cell_type": "markdown",
   "metadata": {},
   "source": [
    "## Define the `FilePattern`"
   ]
  },
  {
   "cell_type": "markdown",
   "metadata": {},
   "source": [
    "We now have the two ingredients we need for our {class}`FilePattern <pangeo_forge_recipes.patterns.FilePattern>`.\n",
    "1. the Format Function\n",
    "2. the **Combine Dimension** (`ConcatDim`, in this case)\n",
    "\n",
    "At this point, it's pretty quick:"
   ]
  },
  {
   "cell_type": "code",
   "execution_count": 6,
   "metadata": {},
   "outputs": [
    {
     "data": {
      "text/plain": [
       "<FilePattern {'time': 14764}>"
      ]
     },
     "execution_count": 6,
     "metadata": {},
     "output_type": "execute_result"
    }
   ],
   "source": [
    "from pangeo_forge_recipes.patterns import FilePattern\n",
    "\n",
    "pattern = FilePattern(make_url, time_concat_dim)\n",
    "pattern"
   ]
  },
  {
   "cell_type": "markdown",
   "metadata": {},
   "source": [
    "```{note}\n",
    "You'll notice that we are using a function as an argument to another function here. If that pattern is new to you that's alright. It is a very powerful technique, so it is used semi-frequently in Pangeo Forge.\n",
    "```"
   ]
  },
  {
   "cell_type": "markdown",
   "metadata": {},
   "source": [
    "The `FilePattern` object contains everything Pangeo Forge needs to know about where the data are coming from and how the individual files should be combined. This is huge progress toward making a recipe!"
   ]
  },
  {
   "cell_type": "markdown",
   "metadata": {},
   "source": [
    "To summarize our process, we made a `ConcatDim` object, our **combine dimension**, which specifies `\"time\"` as the axis of concatenation and lists the dates. The Format function converts the dates to URLs and the `FilePattern` object keeps track of the URLs and how they relate to each other."
   ]
  },
  {
   "cell_type": "markdown",
   "metadata": {
    "tags": []
   },
   "source": [
    "### Iterating through a `FilePattern`\n",
    "\n",
    "While not necessary for the recipe, if you want to interact with the `FilePattern` object a bit (for example, for debugging) more you can iterate through it using `.items()`.\n",
    "To keep the output concise, we use an if statement to stop the iteration after a few filepaths."
   ]
  },
  {
   "cell_type": "code",
   "execution_count": 7,
   "metadata": {},
   "outputs": [
    {
     "name": "stdout",
     "output_type": "stream",
     "text": [
      "Index({DimIndex(name='time', index=0, sequence_len=14764, operation=<CombineOp.CONCAT: 2>)})\n",
      "https://www.ncei.noaa.gov/data/sea-surface-temperature-optimum-interpolation/v2.1/access/avhrr/198109/oisst-avhrr-v02r01.19810901.nc\n",
      "Index({DimIndex(name='time', index=1, sequence_len=14764, operation=<CombineOp.CONCAT: 2>)})\n",
      "https://www.ncei.noaa.gov/data/sea-surface-temperature-optimum-interpolation/v2.1/access/avhrr/198109/oisst-avhrr-v02r01.19810902.nc\n",
      "Index({DimIndex(name='time', index=2, sequence_len=14764, operation=<CombineOp.CONCAT: 2>)})\n",
      "https://www.ncei.noaa.gov/data/sea-surface-temperature-optimum-interpolation/v2.1/access/avhrr/198109/oisst-avhrr-v02r01.19810903.nc\n"
     ]
    }
   ],
   "source": [
    "for index, url in pattern.items():\n",
    "    print(index)\n",
    "    print(url)\n",
    "    # Stop after the 3rd filepath (September 3rd, 1981)\n",
    "    if '19810903' in url:\n",
    "        break"
   ]
  },
  {
   "cell_type": "markdown",
   "metadata": {},
   "source": [
    "The `index` is an object used internally by Pangeo Forge. The url corresponds to the actual file we want to download."
   ]
  },
  {
   "cell_type": "markdown",
   "metadata": {},
   "source": [
    "## End of Part 1\n",
    "And there you have it - your first `FilePattern` object! That object describes 1) all of the URLs to the files that we are planning to convert as well as 2) how we want each of the files to be organized in the output object. Pretty compact!\n",
    "\n",
    "In part 2 of the tutorial, we will move on to creating a recipe object, and then use it to convert some data locally.\n",
    "\n",
    "### Code Summary\n",
    "The code written in part 1 could all be written together as:"
   ]
  },
  {
   "cell_type": "code",
   "execution_count": 8,
   "metadata": {},
   "outputs": [],
   "source": [
    "import pandas as pd\n",
    "\n",
    "from pangeo_forge_recipes.patterns import ConcatDim, FilePattern\n",
    "from pangeo_forge_recipes.recipes import XarrayZarrRecipe\n",
    "\n",
    "dates = pd.date_range('1981-09-01', '2022-02-01', freq='D')\n",
    "\n",
    "URL_FORMAT = (\n",
    "    \"https://www.ncei.noaa.gov/data/sea-surface-temperature-optimum-interpolation/\"\n",
    "    \"v2.1/access/avhrr/{time:%Y%m}/oisst-avhrr-v02r01.{time:%Y%m%d}.nc\"\n",
    ")\n",
    "\n",
    "def make_url(time):\n",
    "    return URL_FORMAT.format(time=time)\n",
    "\n",
    "time_concat_dim = ConcatDim(\"time\", dates, nitems_per_file=1)\n",
    "pattern = FilePattern(make_url, time_concat_dim)"
   ]
  },
  {
   "cell_type": "code",
   "execution_count": null,
   "metadata": {},
   "outputs": [],
   "source": []
  }
 ],
 "metadata": {
  "interpreter": {
   "hash": "872ea42c32c3f63d8f4b36be21cfb5d37e4f64dbfc719d9980b5e00daca69998"
  },
  "kernelspec": {
   "display_name": "Python 3 (ipykernel)",
   "language": "python",
   "name": "python3"
  },
  "language_info": {
   "codemirror_mode": {
    "name": "ipython",
    "version": 3
   },
   "file_extension": ".py",
   "mimetype": "text/x-python",
   "name": "python",
   "nbconvert_exporter": "python",
   "pygments_lexer": "ipython3",
   "version": "3.8.13"
  }
 },
 "nbformat": 4,
 "nbformat_minor": 4
}
