{
 "cells": [
  {
   "cell_type": "markdown",
   "metadata": {},
   "source": [
    "# Defining a Recipe (Intro Tutorial Part 1)\n",
    "\n",
    "Welcome to the Pangeo Forge introduction tutorial!\n",
    "\n",
    "This tutorial is split into three parts:\n",
    "1. Defining a recipe\n",
    "1. Running a recipe locally\n",
    "2. Setting up a recipe to run in the cloud\n",
    "\n",
    "Throughout this tutorial we are going to convert NOAA OISST stored in netCDF to Zarr. OISST is a global, gridded ocean sea surface temperature dataset at daily 1/4 degree resolution. By the end of this tutorial sequence you will have converted some OISST data to zarr, be able to access a sample on your computer, and see how to propose the recipe for cloud deployment!\n",
    "\n",
    "Here we tackle **Part 1 - Defining a Recipe**. We will assume that you already have `pangeo-forge-recipes` installed."
   ]
  },
  {
   "cell_type": "markdown",
   "metadata": {},
   "source": [
    "## Steps to Creating a Recipe\n",
    "\n",
    "The two major pieces of creating a recipe are:\n",
    "\n",
    "1. Creating a generalized URL pattern\n",
    "1. Defining a `FilePattern` object\n",
    "2. Defining a Recipe Class object\n",
    "\n",
    "We will talk about each of these steps in turn."
   ]
  },
  {
   "cell_type": "markdown",
   "metadata": {},
   "source": [
    "### Where should I write this code?\n",
    "Eventually, all of the code defining the recipe will need to go in a file called `recipe.py`. If you typically work in a text editor and want to start that way from the beginning that is great. It is also totally fine to work on your recipe code in a Jupyter Notebook and then copy the final code to a single `.py` file later. The choice between the two is personal preference."
   ]
  },
  {
   "cell_type": "markdown",
   "metadata": {},
   "source": [
    "## Understanding the URL Pattern for OISST\n",
    "\n",
    "\n",
    "### Explore the structure\n",
    "\n",
    "In order to create our Recipe, we have to understand how the data are organized on the server.\n",
    "Like many datasets, OISST is availble over the internet via the HTTP protocol.\n",
    "We can browse the the files at this URL:\n",
    "\n",
    "<https://www.ncei.noaa.gov/data/sea-surface-temperature-optimum-interpolation/v2.1/access/avhrr/>\n",
    "\n",
    "By putting the URL into a web browser, we can explore the organization of the dataset.\n",
    "We need to understand this organization in order to build our Recipe."
   ]
  },
  {
   "cell_type": "markdown",
   "metadata": {},
   "source": [
    "The link above shows folders grouped by month. Wihin each month there is data for individual days. We could represent the file structure that OISST is following like this:"
   ]
  },
  {
   "cell_type": "markdown",
   "metadata": {},
   "source": [
    "https://www.ncei.noaa.gov/data/sea-surface-temperature-optimum-interpolation/v2.1/access/avhrr/\n",
    "```\n",
    " │\n",
    " ├──198109/\n",
    " │   ├──oisst-avhrr-v02r01.19810901.nc\n",
    " │  ...\n",
    " │   └──oisst-avhrr-v02r01.19810930.nc\n",
    "...\n",
    " └──202201/\n",
    "      ├──oisst-avhrr-v02r01.20220101.nc\n",
    "     ...\n",
    "      └──oisst-avhrr-v02r01.20220131.nc\n",
    "```"
   ]
  },
  {
   "cell_type": "markdown",
   "metadata": {},
   "source": [
    "The important takeaways from this structure exploration are:\n",
    "- 1 file = 1 day\n",
    "- Folders separate months"
   ]
  },
  {
   "cell_type": "markdown",
   "metadata": {},
   "source": [
    "### A single URL\n",
    "\n",
    "By putting together the full URL for a single file we can see that the OISST dataset for December 9th, 1981 would be accessed using the URL:\n",
    "\n",
    "[https://www.ncei.noaa.gov/data/sea-surface-temperature-optimum-interpolation/v2.1/access/avhrr/198112/oisst-avhrr-v02r01.19811209.nc](https://www.ncei.noaa.gov/data/sea-surface-temperature-optimum-interpolation/v2.1/access/avhrr/198112/oisst-avhrr-v02r01.19811209.nc)\n",
    "\n",
    "Copying and pasting that url into a web browser will download that single file to your computer.\n",
    "\n",
    "If we just have a few files, we can just manually type out the URLs for each of them.\n",
    "But that isn't practical when we have thousands of files.\n",
    "We need to understand the _pattern_."
   ]
  },
  {
   "cell_type": "markdown",
   "metadata": {},
   "source": [
    "### A generalized URL pattern\n",
    "We can generalize the URL to say that OISST datasets are accessed using a URL of the format:\n",
    "\n",
    "`https://www.ncei.noaa.gov/data/sea-surface-temperature-optimum-interpolation/v2.1/access/avhrr/{year-month}/oisst-avhrr-v02r01.{year-month-day}.nc`\n",
    "\n",
    "where `{year-month}` and `{year-month-day}` change for each file. Of the three dimensions of this dataset - latitude, longitude and time - the individual files are split up by time.\n",
    "Our goal is to combine, or _concatenate_, these files into a single Zarr dataset."
   ]
  },
  {
   "cell_type": "markdown",
   "metadata": {},
   "source": [
    "### Why does this matter so much?\n",
    "\n",
    "A Pangeo Forge {class}`FilePattern <pangeo_forge_recipes.patterns.FilePattern>` is built on the premise that\n",
    "\n",
    "1. We want to combine many individual small files into a larger dataset along one or more dimensions using either \"concatentate\" or \"merge\" style operations. \n",
    "1. The individual files are accessible by URL and organized in a predictable way.\n",
    "2. There is a some kind of mapping between the dimensions of the combination process and the actual URLs.\n",
    "\n",
    "Knowing the generalized structure of the OISST URL leads us to the next step of creating a recipe - defining a `FilePattern`."
   ]
  },
  {
   "cell_type": "markdown",
   "metadata": {},
   "source": [
    "## Creating a `FilePattern` object\n",
    "\n",
    "```{note}\n",
    "`FilePattern`s are probably the most abstract part of Pangeo Forge.\n",
    "It may take some time and experience to become comfortable with the `FilePattern` concept.\n",
    "```\n",
    "\n",
    "In order to define a `FilePattern` we need to:\n",
    "\n",
    "- Define the {ref}`Combine Dimensions` and associated `keys`\n",
    "- Write a python function that maps these `keys` to actual URLs \n",
    "\n",
    "Let's start with the Combine Dimension.\n"
   ]
  },
  {
   "cell_type": "markdown",
   "metadata": {},
   "source": [
    "### Define Combine Dimension\n",
    "\n",
    "This File Pattern is pretty straightforward.\n",
    "There is only one Combine Dimenion: time.\n",
    "There is one file per day, and we want to concatenate the files in time.\n",
    "\n",
    "We start by creating an index of every day covered by the dataset.\n",
    "The easiest way to do this is with the Pandas `date_range` function.\n"
   ]
  },
  {
   "cell_type": "code",
   "execution_count": 1,
   "metadata": {},
   "outputs": [
    {
     "data": {
      "text/plain": [
       "DatetimeIndex(['1981-09-01', '1981-09-02', '1981-09-03', '1981-09-04'], dtype='datetime64[ns]', freq='D')"
      ]
     },
     "execution_count": 1,
     "metadata": {},
     "output_type": "execute_result"
    }
   ],
   "source": [
    "import pandas as pd\n",
    "\n",
    "dates = pd.date_range('1981-09-01', '2022-02-01', freq='D')\n",
    "# print the first 4 dates\n",
    "dates[:4]"
   ]
  },
  {
   "cell_type": "markdown",
   "metadata": {},
   "source": [
    "These will be the `keys` for our `ConcatDim`.\n",
    "We now define a {class}`ConcatDim <pangeo_forge_recipes.patterns.ConcatDim>` as follows:"
   ]
  },
  {
   "cell_type": "code",
   "execution_count": 2,
   "metadata": {},
   "outputs": [
    {
     "data": {
      "text/plain": [
       "ConcatDim(name='time', nitems_per_file=1)"
      ]
     },
     "execution_count": 2,
     "metadata": {},
     "output_type": "execute_result"
    }
   ],
   "source": [
    "from pangeo_forge_recipes.patterns import ConcatDim\n",
    "\n",
    "time_concat_dim = ConcatDim(\"time\", dates, nitems_per_file=1)\n",
    "time_concat_dim"
   ]
  },
  {
   "cell_type": "markdown",
   "metadata": {},
   "source": [
    "The `nitems_per_file=1` option is a hint we can give to Pangeo Forge. It means, \"we know there is only one timestep in each file\".\n",
    "Providing this hint is not necessary, but it makes some things more efficient down the line."
   ]
  },
  {
   "cell_type": "markdown",
   "metadata": {
    "tags": []
   },
   "source": [
    "### Define Format Function\n",
    "\n",
    "Next we we need to write a function that takes a single key and translates it to a URL.\n",
    "This is just a standard Python function.\n",
    "\n",
    "```{caution}\n",
    "If you're not comfortable with writing Python functions, this may be a good time to review\n",
    "the [official Python tutorial](https://docs.python.org/3/tutorial/controlflow.html#defining-functions)\n",
    "on this topic.\n",
    "```\n",
    "\n",
    "There are a couple of important things to note about this function:\n",
    "\n",
    "- It must have the _same number of arguments as the number of Combine Dimensions_. In our case, this is just one.\n",
    "- The name of the argument must match the `name` of the the Combine Dimension. In our case, this is `time`.\n",
    "\n",
    "So we need to write a function that takes `time` as its argument and returns the correct URL for the OISST file for that date.\n",
    "A very useful helper for this is the [strftime](https://docs.python.org/3/library/datetime.html#strftime-strptime-behavior) function,\n",
    "which is a method on each item in the `dates` array.\n",
    "For example"
   ]
  },
  {
   "cell_type": "code",
   "execution_count": 3,
   "metadata": {},
   "outputs": [
    {
     "data": {
      "text/plain": [
       "'1981'"
      ]
     },
     "execution_count": 3,
     "metadata": {},
     "output_type": "execute_result"
    }
   ],
   "source": [
    "dates[0].strftime('%Y')"
   ]
  },
  {
   "cell_type": "markdown",
   "metadata": {},
   "source": [
    "Armed with this, we can now write our function"
   ]
  },
  {
   "cell_type": "code",
   "execution_count": 4,
   "metadata": {},
   "outputs": [],
   "source": [
    "def make_url(time):\n",
    "    yyyymm = time.strftime('%Y%m')\n",
    "    yyyymmdd = time.strftime('%Y%m%d')\n",
    "    return (\n",
    "        'https://www.ncei.noaa.gov/data/sea-surface-temperature-optimum-interpolation/'\n",
    "        f'v2.1/access/avhrr/{yyyymm}/oisst-avhrr-v02r01.{yyyymmdd}.nc'\n",
    "    )"
   ]
  },
  {
   "cell_type": "markdown",
   "metadata": {},
   "source": [
    "Let's test it out:"
   ]
  },
  {
   "cell_type": "code",
   "execution_count": 5,
   "metadata": {},
   "outputs": [
    {
     "data": {
      "text/plain": [
       "'https://www.ncei.noaa.gov/data/sea-surface-temperature-optimum-interpolation/v2.1/access/avhrr/198109/oisst-avhrr-v02r01.19810901.nc'"
      ]
     },
     "execution_count": 5,
     "metadata": {},
     "output_type": "execute_result"
    }
   ],
   "source": [
    "make_url(dates[0])"
   ]
  },
  {
   "cell_type": "markdown",
   "metadata": {},
   "source": [
    "It looks good! 🤩 \n",
    "\n",
    "We are now ready to make our `FilePattern`"
   ]
  },
  {
   "cell_type": "markdown",
   "metadata": {},
   "source": [
    "### Define the `FilePattern`\n",
    "\n",
    "We now have the two ingredients need for our {class}`FilePattern <pangeo_forge_recipes.patterns.FilePattern>`.\n",
    "At this point, it's pretty simple:"
   ]
  },
  {
   "cell_type": "code",
   "execution_count": 6,
   "metadata": {},
   "outputs": [
    {
     "data": {
      "text/plain": [
       "<FilePattern {'time': 14764}>"
      ]
     },
     "execution_count": 6,
     "metadata": {},
     "output_type": "execute_result"
    }
   ],
   "source": [
    "from pangeo_forge_recipes.patterns import FilePattern\n",
    "\n",
    "pattern = FilePattern(make_url, time_concat_dim)\n",
    "pattern"
   ]
  },
  {
   "cell_type": "markdown",
   "metadata": {},
   "source": [
    "This object contains everything Pangeo Forge needs to know about where the data are coming from and how they should be combined."
   ]
  },
  {
   "cell_type": "markdown",
   "metadata": {
    "tags": []
   },
   "source": [
    "### Optional: Iterating through a `FilePattern`\n",
    "\n",
    "While optional, if you want to interact with the `FilePattern` object a bit (for example, for debugging) more you can iterate through it using `.items()`.\n",
    "To keep the output concise, we use an if statement to stop the iteration after a few filepaths."
   ]
  },
  {
   "cell_type": "code",
   "execution_count": 7,
   "metadata": {},
   "outputs": [
    {
     "name": "stdout",
     "output_type": "stream",
     "text": [
      "Index({DimIndex(name='time', index=0, sequence_len=14764, operation=<CombineOp.CONCAT: 2>)})\n",
      "https://www.ncei.noaa.gov/data/sea-surface-temperature-optimum-interpolation/v2.1/access/avhrr/198109/oisst-avhrr-v02r01.19810901.nc\n",
      "Index({DimIndex(name='time', index=1, sequence_len=14764, operation=<CombineOp.CONCAT: 2>)})\n",
      "https://www.ncei.noaa.gov/data/sea-surface-temperature-optimum-interpolation/v2.1/access/avhrr/198109/oisst-avhrr-v02r01.19810902.nc\n",
      "Index({DimIndex(name='time', index=2, sequence_len=14764, operation=<CombineOp.CONCAT: 2>)})\n",
      "https://www.ncei.noaa.gov/data/sea-surface-temperature-optimum-interpolation/v2.1/access/avhrr/198109/oisst-avhrr-v02r01.19810903.nc\n"
     ]
    }
   ],
   "source": [
    "for index, url in pattern.items():\n",
    "    print(index)\n",
    "    print(url)\n",
    "    # Stop after the 3rd filepath (September 3rd, 1981)\n",
    "    if '19810903' in url:\n",
    "        break"
   ]
  },
  {
   "cell_type": "markdown",
   "metadata": {},
   "source": [
    "The `index` is an object used internally by Pangeo Forge. The url corresponds to the actual file we want to download."
   ]
  },
  {
   "cell_type": "markdown",
   "metadata": {},
   "source": [
    "## Defining a Recipe Class object\n",
    "\n",
    "Now that we have our `FilePattern` object the [Recipe Class](https://pangeo-forge.readthedocs.io/en/latest/recipe_user_guide/recipes.html) comes pretty quickly. In this tutorial we want to convert our dataset to zarr, so we will use the `XarrayZarrRecipe` class. Implementing the class looks like this:"
   ]
  },
  {
   "cell_type": "code",
   "execution_count": 8,
   "metadata": {},
   "outputs": [
    {
     "data": {
      "text/plain": [
       "XarrayZarrRecipe(file_pattern=<FilePattern {'time': 14764}>, storage_config=StorageConfig(target=FSSpecTarget(fs=<fsspec.implementations.local.LocalFileSystem object at 0x7fc218887610>, root_path='/var/folders/dt/n99tg72n61v8d22px_jm78yh0000gn/T/tmpsx8yd6wz/f28yA6FS'), cache=CacheFSSpecTarget(fs=<fsspec.implementations.local.LocalFileSystem object at 0x7fc218887610>, root_path='/var/folders/dt/n99tg72n61v8d22px_jm78yh0000gn/T/tmpsx8yd6wz/WH9JoNEB'), metadata=MetadataTarget(fs=<fsspec.implementations.local.LocalFileSystem object at 0x7fc218887610>, root_path='/var/folders/dt/n99tg72n61v8d22px_jm78yh0000gn/T/tmpsx8yd6wz/kH1FPsrZ')), inputs_per_chunk=10, target_chunks={}, cache_inputs=True, copy_input_to_local_file=False, consolidate_zarr=True, consolidate_dimension_coordinates=True, xarray_open_kwargs={}, xarray_concat_kwargs={}, delete_input_encoding=True, process_input=None, process_chunk=None, lock_timeout=None, subset_inputs={}, open_input_with_fsspec_reference=False)"
      ]
     },
     "execution_count": 8,
     "metadata": {},
     "output_type": "execute_result"
    }
   ],
   "source": [
    "from pangeo_forge_recipes.recipes import XarrayZarrRecipe\n",
    "\n",
    "recipe = XarrayZarrRecipe(pattern, inputs_per_chunk=10)\n",
    "recipe"
   ]
  },
  {
   "cell_type": "markdown",
   "metadata": {},
   "source": [
    "The arguments are:\n",
    "1. the `FilePattern` object\n",
    "2. `inputs_per_chunk` - indicates how many files should go into a single chunk of the zarr store\n",
    "\n",
    "In more complex recipes additional arguments that may get used, but for this tutorial these two are all we need."
   ]
  },
  {
   "cell_type": "markdown",
   "metadata": {},
   "source": [
    "## End of Part 1\n",
    "And there you have it - your first recipe object! Inside that object is all the information about the dataset that is needed to run the data conversion. Pretty compact!\n",
    "\n",
    "In part 2 of the tutorial, we will use our recipe object, `recipe` to convert some data locally.\n",
    "\n",
    "### Code Summary\n",
    "The code written in part 1 could all be written together as:"
   ]
  },
  {
   "cell_type": "code",
   "execution_count": 12,
   "metadata": {},
   "outputs": [],
   "source": [
    "import pandas as pd\n",
    "\n",
    "from pangeo_forge_recipes.patterns import ConcatDim, FilePattern\n",
    "from pangeo_forge_recipes.recipes import XarrayZarrRecipe\n",
    "\n",
    "dates = pd.date_range('1981-09-01', '2022-02-01', freq='D')\n",
    "\n",
    "def make_url(time):\n",
    "    yyyymm = time.strftime('%Y%m')\n",
    "    yyyymmdd = time.strftime('%Y%m%d')\n",
    "    return (\n",
    "        'https://www.ncei.noaa.gov/data/sea-surface-temperature-optimum-interpolation/'\n",
    "        f'v2.1/access/avhrr/{yyyymm}/oisst-avhrr-v02r01.{yyyymmdd}.nc'\n",
    "    )\n",
    "\n",
    "time_concat_dim = ConcatDim(\"time\", dates, nitems_per_file=1)\n",
    "pattern = FilePattern(make_url, time_concat_dim)\n",
    "recipe = XarrayZarrRecipe(pattern, inputs_per_chunk=10)"
   ]
  },
  {
   "cell_type": "code",
   "execution_count": null,
   "metadata": {},
   "outputs": [],
   "source": []
  }
 ],
 "metadata": {
  "interpreter": {
   "hash": "872ea42c32c3f63d8f4b36be21cfb5d37e4f64dbfc719d9980b5e00daca69998"
  },
  "kernelspec": {
   "display_name": "Python 3 (ipykernel)",
   "language": "python",
   "name": "python3"
  },
  "language_info": {
   "codemirror_mode": {
    "name": "ipython",
    "version": 3
   },
   "file_extension": ".py",
   "mimetype": "text/x-python",
   "name": "python",
   "nbconvert_exporter": "python",
   "pygments_lexer": "ipython3",
   "version": "3.8.12"
  }
 },
 "nbformat": 4,
 "nbformat_minor": 4
}
