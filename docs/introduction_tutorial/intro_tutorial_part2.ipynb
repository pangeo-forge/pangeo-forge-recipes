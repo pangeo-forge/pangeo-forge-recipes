{
 "cells": [
  {
   "cell_type": "markdown",
   "metadata": {},
   "source": [
    "# Running a Recipe Locally\n",
    "Welcome to the Pangeo Forge introduction tutorial! This is the 2nd part in a sequence, the flow of which is described {doc}`here </introduction_tutorial/index>`.\n"
   ]
  },
  {
   "cell_type": "markdown",
   "metadata": {},
   "source": [
    "### Code from Part 1\n",
    "You'll need the `FilePattern` that was created in Part 1 to work on Part 2.  The Part 1 code is copied here."
   ]
  },
  {
   "cell_type": "code",
   "execution_count": 1,
   "metadata": {},
   "outputs": [],
   "source": [
    "import pandas as pd\n",
    "\n",
    "from pangeo_forge_recipes.patterns import ConcatDim, FilePattern\n",
    "from pangeo_forge_recipes.recipes import XarrayZarrRecipe\n",
    "\n",
    "dates = pd.date_range('1981-09-01', '2022-02-01', freq='D')\n",
    "\n",
    "def make_url(time):\n",
    "    yyyymm = time.strftime('%Y%m')\n",
    "    yyyymmdd = time.strftime('%Y%m%d')\n",
    "    return (\n",
    "        'https://www.ncei.noaa.gov/data/sea-surface-temperature-optimum-interpolation/'\n",
    "        f'v2.1/access/avhrr/{yyyymm}/oisst-avhrr-v02r01.{yyyymmdd}.nc'\n",
    "    )\n",
    "\n",
    "time_concat_dim = ConcatDim(\"time\", dates, nitems_per_file=1)\n",
    "\n",
    "\n",
    "pattern = FilePattern(make_url, time_concat_dim)"
   ]
  },
  {
   "cell_type": "markdown",
   "metadata": {},
   "source": [
    "## Part 2 Outline\n",
    "\n",
    "The main goal of the first two parts of this tutorial are to create and run a **recipe**, the object that defines our data transformation. \n",
    "\n",
    "In part 2 of this tutorial we wil be using the `FilePattern` we defined in Part 1 to create a recipe and use it to create some cloud optimized data on our own computer!\n",
    "\n",
    "The steps to doing this are:\n",
    "1. Create the Recipe object\n",
    "1. Set up logging\n",
    "1. Prune the recipe\n",
    "1. Run the recipe\n",
    "1. Check output data\n",
    "\n",
    "Step 1 creates the recipe, steps 2-4 run the recipe, and in step 5 we look at the output of the recipe run. It's all about the recipe. 📃🍰🥧\n"
   ]
  },
  {
   "cell_type": "markdown",
   "metadata": {},
   "source": [
    "## Create the Recipe object\n",
    "\n",
    "While the `FilePattern` object for this dataset took several steps, the [Recipe Class](https://pangeo-forge.readthedocs.io/en/latest/recipe_user_guide/recipes.html) comes pretty quickly. We want to convert our dataset to zarr, so we will use the `XarrayZarrRecipe` class. Implementing the class looks like this:"
   ]
  },
  {
   "cell_type": "code",
   "execution_count": 2,
   "metadata": {},
   "outputs": [
    {
     "data": {
      "text/plain": [
       "XarrayZarrRecipe(file_pattern=<FilePattern {'time': 14764}>, storage_config=StorageConfig(target=FSSpecTarget(fs=<fsspec.implementations.local.LocalFileSystem object at 0x104766c70>, root_path='/var/folders/f8/rh42xb3d1tnbw2bxsjwgym1c0000gn/T/tmp25a_oom5/Mw9c6VQu'), cache=CacheFSSpecTarget(fs=<fsspec.implementations.local.LocalFileSystem object at 0x104766c70>, root_path='/var/folders/f8/rh42xb3d1tnbw2bxsjwgym1c0000gn/T/tmp25a_oom5/IDmyTYrR'), metadata=MetadataTarget(fs=<fsspec.implementations.local.LocalFileSystem object at 0x104766c70>, root_path='/var/folders/f8/rh42xb3d1tnbw2bxsjwgym1c0000gn/T/tmp25a_oom5/LZKaI8j6')), inputs_per_chunk=10, target_chunks={}, cache_inputs=True, copy_input_to_local_file=False, consolidate_zarr=True, consolidate_dimension_coordinates=True, xarray_open_kwargs={}, xarray_concat_kwargs={}, delete_input_encoding=True, process_input=None, process_chunk=None, lock_timeout=None, subset_inputs={}, open_input_with_fsspec_reference=False)"
      ]
     },
     "execution_count": 2,
     "metadata": {},
     "output_type": "execute_result"
    }
   ],
   "source": [
    "from pangeo_forge_recipes.recipes import XarrayZarrRecipe\n",
    "\n",
    "recipe = XarrayZarrRecipe(pattern, inputs_per_chunk=10)\n",
    "recipe"
   ]
  },
  {
   "cell_type": "markdown",
   "metadata": {},
   "source": [
    "The arguments are:\n",
    "1. the `FilePattern` object\n",
    "2. `inputs_per_chunk` - indicates how many files should go into a single chunk of the zarr store. \n",
    "\n",
    "Here we choose a value of 10 because each OISST file is ~10MB, resulting approximately 100MB chunks. We can check how big each file is by downloading it from the source URL, explored in Part 1.\n",
    "\n",
    "In more complex recipes additional arguments may get used, but for this tutorial these two are all we need."
   ]
  },
  {
   "cell_type": "markdown",
   "metadata": {},
   "source": [
    "## Set up logging"
   ]
  },
  {
   "cell_type": "markdown",
   "metadata": {},
   "source": [
    "It's often useful for debugging to turn on logging, which will print additional statements of output while the recipe runs. Logs produce a finer scale update of the downloading, organizing, and converting that happens behind the scenes while a recipe is run."
   ]
  },
  {
   "cell_type": "code",
   "execution_count": 3,
   "metadata": {},
   "outputs": [],
   "source": [
    "from pangeo_forge_recipes.recipes import setup_logging"
   ]
  },
  {
   "cell_type": "code",
   "execution_count": 4,
   "metadata": {},
   "outputs": [],
   "source": [
    "setup_logging()"
   ]
  },
  {
   "cell_type": "markdown",
   "metadata": {},
   "source": [
    "## Prune the recipe\n",
    "\n",
    "Currently our recipe is set up to convert over 3 decades worth of data. That is much more data than we need to run a test (and probably more data than fits on our computer). What we want instead is to run a subset of the data, just to make sure the recipe is working. \n",
    "\n",
    "Pangeo Forge has a built in function for getting a smaller test-appropriate chunk. The `.copy_pruned()` function duplicates the recipe it is called on and outputs a new recipe object that references just a subset of the data. `.copy_pruned()` is used mainly for testing. "
   ]
  },
  {
   "cell_type": "code",
   "execution_count": 5,
   "metadata": {},
   "outputs": [],
   "source": [
    "recipe_pruned = recipe.copy_pruned()"
   ]
  },
  {
   "cell_type": "markdown",
   "metadata": {},
   "source": [
    "We can see that our new recipe object, `recipe_pruned`, is smaller than the original `recipe` by looking at the `FilePattern` associated with each one. The original `recipe` object has 14,764 time steps, while the new `recipe_pruned` has just two."
   ]
  },
  {
   "cell_type": "code",
   "execution_count": 6,
   "metadata": {},
   "outputs": [
    {
     "data": {
      "text/plain": [
       "<FilePattern {'time': 14764}>"
      ]
     },
     "execution_count": 6,
     "metadata": {},
     "output_type": "execute_result"
    }
   ],
   "source": [
    "recipe.file_pattern"
   ]
  },
  {
   "cell_type": "code",
   "execution_count": 7,
   "metadata": {},
   "outputs": [
    {
     "data": {
      "text/plain": [
       "<FilePattern {'time': 2}>"
      ]
     },
     "execution_count": 7,
     "metadata": {},
     "output_type": "execute_result"
    }
   ],
   "source": [
    "recipe_pruned.file_pattern"
   ]
  },
  {
   "cell_type": "markdown",
   "metadata": {},
   "source": [
    "## Run the recipe\n",
    "\n",
    "The time is here, to run the recipe! There are [multiple ways](https://pangeo-forge.readthedocs.io/en/latest/recipe_user_guide/execution.html) to run the recipe. Here we are going to use the `.to_function()` method to convert our recipe object into a Python function. The output of this method is an actual Python function with the name of the variable you assigned (a function that _creates_ a function!). It can be run like any other function in Python - by using `()`."
   ]
  },
  {
   "cell_type": "code",
   "execution_count": 6,
   "metadata": {},
   "outputs": [],
   "source": [
    "run_function = recipe_pruned.to_function()"
   ]
  },
  {
   "cell_type": "code",
   "execution_count": 7,
   "metadata": {
    "tags": [
     "hide-output"
    ]
   },
   "outputs": [
    {
     "data": {
      "text/html": [
       "<pre style=\"white-space:pre;overflow-x:auto;line-height:normal;font-family:Menlo,'DejaVu Sans Mono',consolas,'Courier New',monospace\"><span style=\"color: #7fbfbf; text-decoration-color: #7fbfbf\">[03/03/22 17:13:40] </span><span style=\"color: #000080; text-decoration-color: #000080\">INFO    </span> Caching input <span style=\"color: #008000; text-decoration-color: #008000\">'Index({DimIndex(name='</span>time',   <a href=\"file:///Users/rwegener/repos/pangeo-forge-recipes/pangeo_forge_recipes/recipes/xarray_zarr.py\"><span style=\"color: #7f7f7f; text-decoration-color: #7f7f7f\">xarray_zarr.py</span></a><span style=\"color: #7f7f7f; text-decoration-color: #7f7f7f\">:</span><a href=\"file:///Users/rwegener/repos/pangeo-forge-recipes/pangeo_forge_recipes/recipes/xarray_zarr.py#149\"><span style=\"color: #7f7f7f; text-decoration-color: #7f7f7f\">149</span></a>\n",
       "<span style=\"color: #7fbfbf; text-decoration-color: #7fbfbf\">                    </span>         <span style=\"color: #808000; text-decoration-color: #808000\">index</span>=<span style=\"color: #008080; text-decoration-color: #008080; font-weight: bold\">0</span>, <span style=\"color: #808000; text-decoration-color: #808000\">sequence_len</span>=<span style=\"color: #008080; text-decoration-color: #008080; font-weight: bold\">2</span>,                      <span style=\"color: #7f7f7f; text-decoration-color: #7f7f7f\">                  </span>\n",
       "<span style=\"color: #7fbfbf; text-decoration-color: #7fbfbf\">                    </span>         <span style=\"color: #808000; text-decoration-color: #808000\">operation</span>=<span style=\"font-weight: bold\">&lt;</span><span style=\"color: #ff00ff; text-decoration-color: #ff00ff; font-weight: bold\">CombineOp.CONCAT:</span><span style=\"color: #000000; text-decoration-color: #000000\"> </span><span style=\"color: #008080; text-decoration-color: #008080; font-weight: bold\">2</span><span style=\"font-weight: bold\">&gt;)})</span>'           <span style=\"color: #7f7f7f; text-decoration-color: #7f7f7f\">                  </span>\n",
       "</pre>\n"
      ],
      "text/plain": [
       "\u001b[2;36m[03/03/22 17:13:40]\u001b[0m\u001b[2;36m \u001b[0m\u001b[34mINFO    \u001b[0m Caching input \u001b[32m'Index\u001b[0m\u001b[32m(\u001b[0m\u001b[32m{\u001b[0m\u001b[32mDimIndex\u001b[0m\u001b[32m(\u001b[0m\u001b[32mname\u001b[0m\u001b[32m='\u001b[0mtime',   \u001b]8;id=921021;file:///Users/rwegener/repos/pangeo-forge-recipes/pangeo_forge_recipes/recipes/xarray_zarr.py\u001b\\\u001b[2mxarray_zarr.py\u001b[0m\u001b]8;;\u001b\\\u001b[2m:\u001b[0m\u001b]8;id=958311;file:///Users/rwegener/repos/pangeo-forge-recipes/pangeo_forge_recipes/recipes/xarray_zarr.py#149\u001b\\\u001b[2m149\u001b[0m\u001b]8;;\u001b\\\n",
       "\u001b[2;36m                    \u001b[0m         \u001b[33mindex\u001b[0m=\u001b[1;36m0\u001b[0m, \u001b[33msequence_len\u001b[0m=\u001b[1;36m2\u001b[0m,                      \u001b[2m                  \u001b[0m\n",
       "\u001b[2;36m                    \u001b[0m         \u001b[33moperation\u001b[0m=\u001b[1m<\u001b[0m\u001b[1;95mCombineOp.CONCAT:\u001b[0m\u001b[39m \u001b[0m\u001b[1;36m2\u001b[0m\u001b[1m>\u001b[0m\u001b[1m)\u001b[0m\u001b[1m}\u001b[0m\u001b[1m)\u001b[0m'           \u001b[2m                  \u001b[0m\n"
      ]
     },
     "metadata": {},
     "output_type": "display_data"
    },
    {
     "data": {
      "text/html": [
       "<pre style=\"white-space:pre;overflow-x:auto;line-height:normal;font-family:Menlo,'DejaVu Sans Mono',consolas,'Courier New',monospace\"><span style=\"color: #7fbfbf; text-decoration-color: #7fbfbf\">                    </span><span style=\"color: #000080; text-decoration-color: #000080\">INFO    </span> Caching file <span style=\"color: #008000; text-decoration-color: #008000\">'https://www.ncei.noaa.gov/data/sea-</span> <a href=\"file:///Users/rwegener/repos/pangeo-forge-recipes/pangeo_forge_recipes/storage.py\"><span style=\"color: #7f7f7f; text-decoration-color: #7f7f7f\">storage.py</span></a><span style=\"color: #7f7f7f; text-decoration-color: #7f7f7f\">:</span><a href=\"file:///Users/rwegener/repos/pangeo-forge-recipes/pangeo_forge_recipes/storage.py#154\"><span style=\"color: #7f7f7f; text-decoration-color: #7f7f7f\">154</span></a>\n",
       "<span style=\"color: #7fbfbf; text-decoration-color: #7fbfbf\">                    </span>         <span style=\"color: #008000; text-decoration-color: #008000\">surface-temperature-optimum-interpolation/v2.1/ac</span> <span style=\"color: #7f7f7f; text-decoration-color: #7f7f7f\">              </span>\n",
       "<span style=\"color: #7fbfbf; text-decoration-color: #7fbfbf\">                    </span>         <span style=\"color: #008000; text-decoration-color: #008000\">cess/avhrr/198109/oisst-avhrr-v02r01.19810901.nc'</span> <span style=\"color: #7f7f7f; text-decoration-color: #7f7f7f\">              </span>\n",
       "</pre>\n"
      ],
      "text/plain": [
       "\u001b[2;36m                   \u001b[0m\u001b[2;36m \u001b[0m\u001b[34mINFO    \u001b[0m Caching file \u001b[32m'https://www.ncei.noaa.gov/data/sea-\u001b[0m \u001b]8;id=795982;file:///Users/rwegener/repos/pangeo-forge-recipes/pangeo_forge_recipes/storage.py\u001b\\\u001b[2mstorage.py\u001b[0m\u001b]8;;\u001b\\\u001b[2m:\u001b[0m\u001b]8;id=70975;file:///Users/rwegener/repos/pangeo-forge-recipes/pangeo_forge_recipes/storage.py#154\u001b\\\u001b[2m154\u001b[0m\u001b]8;;\u001b\\\n",
       "\u001b[2;36m                    \u001b[0m         \u001b[32msurface-temperature-optimum-interpolation/v2.1/ac\u001b[0m \u001b[2m              \u001b[0m\n",
       "\u001b[2;36m                    \u001b[0m         \u001b[32mcess/avhrr/198109/oisst-avhrr-v02r01.19810901.nc'\u001b[0m \u001b[2m              \u001b[0m\n"
      ]
     },
     "metadata": {},
     "output_type": "display_data"
    },
    {
     "data": {
      "text/html": [
       "<pre style=\"white-space:pre;overflow-x:auto;line-height:normal;font-family:Menlo,'DejaVu Sans Mono',consolas,'Courier New',monospace\"><span style=\"color: #7fbfbf; text-decoration-color: #7fbfbf\">                    </span><span style=\"color: #000080; text-decoration-color: #000080\">INFO    </span> Copying remote file <span style=\"color: #008000; text-decoration-color: #008000\">'https://www.ncei.noaa.gov/da</span> <a href=\"file:///Users/rwegener/repos/pangeo-forge-recipes/pangeo_forge_recipes/storage.py\"><span style=\"color: #7f7f7f; text-decoration-color: #7f7f7f\">storage.py</span></a><span style=\"color: #7f7f7f; text-decoration-color: #7f7f7f\">:</span><a href=\"file:///Users/rwegener/repos/pangeo-forge-recipes/pangeo_forge_recipes/storage.py#165\"><span style=\"color: #7f7f7f; text-decoration-color: #7f7f7f\">165</span></a>\n",
       "<span style=\"color: #7fbfbf; text-decoration-color: #7fbfbf\">                    </span>         <span style=\"color: #008000; text-decoration-color: #008000\">ta/sea-surface-temperature-optimum-interpolation/</span> <span style=\"color: #7f7f7f; text-decoration-color: #7f7f7f\">              </span>\n",
       "<span style=\"color: #7fbfbf; text-decoration-color: #7fbfbf\">                    </span>         <span style=\"color: #008000; text-decoration-color: #008000\">v2.1/access/avhrr/198109/oisst-avhrr-v02r01.19810</span> <span style=\"color: #7f7f7f; text-decoration-color: #7f7f7f\">              </span>\n",
       "<span style=\"color: #7fbfbf; text-decoration-color: #7fbfbf\">                    </span>         <span style=\"color: #008000; text-decoration-color: #008000\">901.nc'</span> to cache                                  <span style=\"color: #7f7f7f; text-decoration-color: #7f7f7f\">              </span>\n",
       "</pre>\n"
      ],
      "text/plain": [
       "\u001b[2;36m                   \u001b[0m\u001b[2;36m \u001b[0m\u001b[34mINFO    \u001b[0m Copying remote file \u001b[32m'https://www.ncei.noaa.gov/da\u001b[0m \u001b]8;id=853666;file:///Users/rwegener/repos/pangeo-forge-recipes/pangeo_forge_recipes/storage.py\u001b\\\u001b[2mstorage.py\u001b[0m\u001b]8;;\u001b\\\u001b[2m:\u001b[0m\u001b]8;id=299833;file:///Users/rwegener/repos/pangeo-forge-recipes/pangeo_forge_recipes/storage.py#165\u001b\\\u001b[2m165\u001b[0m\u001b]8;;\u001b\\\n",
       "\u001b[2;36m                    \u001b[0m         \u001b[32mta/sea-surface-temperature-optimum-interpolation/\u001b[0m \u001b[2m              \u001b[0m\n",
       "\u001b[2;36m                    \u001b[0m         \u001b[32mv2.1/access/avhrr/198109/oisst-avhrr-v02r01.19810\u001b[0m \u001b[2m              \u001b[0m\n",
       "\u001b[2;36m                    \u001b[0m         \u001b[32m901.nc'\u001b[0m to cache                                  \u001b[2m              \u001b[0m\n"
      ]
     },
     "metadata": {},
     "output_type": "display_data"
    },
    {
     "data": {
      "text/html": [
       "<pre style=\"white-space:pre;overflow-x:auto;line-height:normal;font-family:Menlo,'DejaVu Sans Mono',consolas,'Courier New',monospace\"><span style=\"color: #7fbfbf; text-decoration-color: #7fbfbf\">[03/03/22 17:13:41] </span><span style=\"color: #000080; text-decoration-color: #000080\">INFO    </span> Caching input <span style=\"color: #008000; text-decoration-color: #008000\">'Index({DimIndex(name='</span>time',   <a href=\"file:///Users/rwegener/repos/pangeo-forge-recipes/pangeo_forge_recipes/recipes/xarray_zarr.py\"><span style=\"color: #7f7f7f; text-decoration-color: #7f7f7f\">xarray_zarr.py</span></a><span style=\"color: #7f7f7f; text-decoration-color: #7f7f7f\">:</span><a href=\"file:///Users/rwegener/repos/pangeo-forge-recipes/pangeo_forge_recipes/recipes/xarray_zarr.py#149\"><span style=\"color: #7f7f7f; text-decoration-color: #7f7f7f\">149</span></a>\n",
       "<span style=\"color: #7fbfbf; text-decoration-color: #7fbfbf\">                    </span>         <span style=\"color: #808000; text-decoration-color: #808000\">index</span>=<span style=\"color: #008080; text-decoration-color: #008080; font-weight: bold\">1</span>, <span style=\"color: #808000; text-decoration-color: #808000\">sequence_len</span>=<span style=\"color: #008080; text-decoration-color: #008080; font-weight: bold\">2</span>,                      <span style=\"color: #7f7f7f; text-decoration-color: #7f7f7f\">                  </span>\n",
       "<span style=\"color: #7fbfbf; text-decoration-color: #7fbfbf\">                    </span>         <span style=\"color: #808000; text-decoration-color: #808000\">operation</span>=<span style=\"font-weight: bold\">&lt;</span><span style=\"color: #ff00ff; text-decoration-color: #ff00ff; font-weight: bold\">CombineOp.CONCAT:</span><span style=\"color: #000000; text-decoration-color: #000000\"> </span><span style=\"color: #008080; text-decoration-color: #008080; font-weight: bold\">2</span><span style=\"font-weight: bold\">&gt;)})</span>'           <span style=\"color: #7f7f7f; text-decoration-color: #7f7f7f\">                  </span>\n",
       "</pre>\n"
      ],
      "text/plain": [
       "\u001b[2;36m[03/03/22 17:13:41]\u001b[0m\u001b[2;36m \u001b[0m\u001b[34mINFO    \u001b[0m Caching input \u001b[32m'Index\u001b[0m\u001b[32m(\u001b[0m\u001b[32m{\u001b[0m\u001b[32mDimIndex\u001b[0m\u001b[32m(\u001b[0m\u001b[32mname\u001b[0m\u001b[32m='\u001b[0mtime',   \u001b]8;id=293930;file:///Users/rwegener/repos/pangeo-forge-recipes/pangeo_forge_recipes/recipes/xarray_zarr.py\u001b\\\u001b[2mxarray_zarr.py\u001b[0m\u001b]8;;\u001b\\\u001b[2m:\u001b[0m\u001b]8;id=702103;file:///Users/rwegener/repos/pangeo-forge-recipes/pangeo_forge_recipes/recipes/xarray_zarr.py#149\u001b\\\u001b[2m149\u001b[0m\u001b]8;;\u001b\\\n",
       "\u001b[2;36m                    \u001b[0m         \u001b[33mindex\u001b[0m=\u001b[1;36m1\u001b[0m, \u001b[33msequence_len\u001b[0m=\u001b[1;36m2\u001b[0m,                      \u001b[2m                  \u001b[0m\n",
       "\u001b[2;36m                    \u001b[0m         \u001b[33moperation\u001b[0m=\u001b[1m<\u001b[0m\u001b[1;95mCombineOp.CONCAT:\u001b[0m\u001b[39m \u001b[0m\u001b[1;36m2\u001b[0m\u001b[1m>\u001b[0m\u001b[1m)\u001b[0m\u001b[1m}\u001b[0m\u001b[1m)\u001b[0m'           \u001b[2m                  \u001b[0m\n"
      ]
     },
     "metadata": {},
     "output_type": "display_data"
    },
    {
     "data": {
      "text/html": [
       "<pre style=\"white-space:pre;overflow-x:auto;line-height:normal;font-family:Menlo,'DejaVu Sans Mono',consolas,'Courier New',monospace\"><span style=\"color: #7fbfbf; text-decoration-color: #7fbfbf\">                    </span><span style=\"color: #000080; text-decoration-color: #000080\">INFO    </span> Caching file <span style=\"color: #008000; text-decoration-color: #008000\">'https://www.ncei.noaa.gov/data/sea-</span> <a href=\"file:///Users/rwegener/repos/pangeo-forge-recipes/pangeo_forge_recipes/storage.py\"><span style=\"color: #7f7f7f; text-decoration-color: #7f7f7f\">storage.py</span></a><span style=\"color: #7f7f7f; text-decoration-color: #7f7f7f\">:</span><a href=\"file:///Users/rwegener/repos/pangeo-forge-recipes/pangeo_forge_recipes/storage.py#154\"><span style=\"color: #7f7f7f; text-decoration-color: #7f7f7f\">154</span></a>\n",
       "<span style=\"color: #7fbfbf; text-decoration-color: #7fbfbf\">                    </span>         <span style=\"color: #008000; text-decoration-color: #008000\">surface-temperature-optimum-interpolation/v2.1/ac</span> <span style=\"color: #7f7f7f; text-decoration-color: #7f7f7f\">              </span>\n",
       "<span style=\"color: #7fbfbf; text-decoration-color: #7fbfbf\">                    </span>         <span style=\"color: #008000; text-decoration-color: #008000\">cess/avhrr/198109/oisst-avhrr-v02r01.19810902.nc'</span> <span style=\"color: #7f7f7f; text-decoration-color: #7f7f7f\">              </span>\n",
       "</pre>\n"
      ],
      "text/plain": [
       "\u001b[2;36m                   \u001b[0m\u001b[2;36m \u001b[0m\u001b[34mINFO    \u001b[0m Caching file \u001b[32m'https://www.ncei.noaa.gov/data/sea-\u001b[0m \u001b]8;id=557830;file:///Users/rwegener/repos/pangeo-forge-recipes/pangeo_forge_recipes/storage.py\u001b\\\u001b[2mstorage.py\u001b[0m\u001b]8;;\u001b\\\u001b[2m:\u001b[0m\u001b]8;id=976515;file:///Users/rwegener/repos/pangeo-forge-recipes/pangeo_forge_recipes/storage.py#154\u001b\\\u001b[2m154\u001b[0m\u001b]8;;\u001b\\\n",
       "\u001b[2;36m                    \u001b[0m         \u001b[32msurface-temperature-optimum-interpolation/v2.1/ac\u001b[0m \u001b[2m              \u001b[0m\n",
       "\u001b[2;36m                    \u001b[0m         \u001b[32mcess/avhrr/198109/oisst-avhrr-v02r01.19810902.nc'\u001b[0m \u001b[2m              \u001b[0m\n"
      ]
     },
     "metadata": {},
     "output_type": "display_data"
    },
    {
     "data": {
      "text/html": [
       "<pre style=\"white-space:pre;overflow-x:auto;line-height:normal;font-family:Menlo,'DejaVu Sans Mono',consolas,'Courier New',monospace\"><span style=\"color: #7fbfbf; text-decoration-color: #7fbfbf\">                    </span><span style=\"color: #000080; text-decoration-color: #000080\">INFO    </span> Copying remote file <span style=\"color: #008000; text-decoration-color: #008000\">'https://www.ncei.noaa.gov/da</span> <a href=\"file:///Users/rwegener/repos/pangeo-forge-recipes/pangeo_forge_recipes/storage.py\"><span style=\"color: #7f7f7f; text-decoration-color: #7f7f7f\">storage.py</span></a><span style=\"color: #7f7f7f; text-decoration-color: #7f7f7f\">:</span><a href=\"file:///Users/rwegener/repos/pangeo-forge-recipes/pangeo_forge_recipes/storage.py#165\"><span style=\"color: #7f7f7f; text-decoration-color: #7f7f7f\">165</span></a>\n",
       "<span style=\"color: #7fbfbf; text-decoration-color: #7fbfbf\">                    </span>         <span style=\"color: #008000; text-decoration-color: #008000\">ta/sea-surface-temperature-optimum-interpolation/</span> <span style=\"color: #7f7f7f; text-decoration-color: #7f7f7f\">              </span>\n",
       "<span style=\"color: #7fbfbf; text-decoration-color: #7fbfbf\">                    </span>         <span style=\"color: #008000; text-decoration-color: #008000\">v2.1/access/avhrr/198109/oisst-avhrr-v02r01.19810</span> <span style=\"color: #7f7f7f; text-decoration-color: #7f7f7f\">              </span>\n",
       "<span style=\"color: #7fbfbf; text-decoration-color: #7fbfbf\">                    </span>         <span style=\"color: #008000; text-decoration-color: #008000\">902.nc'</span> to cache                                  <span style=\"color: #7f7f7f; text-decoration-color: #7f7f7f\">              </span>\n",
       "</pre>\n"
      ],
      "text/plain": [
       "\u001b[2;36m                   \u001b[0m\u001b[2;36m \u001b[0m\u001b[34mINFO    \u001b[0m Copying remote file \u001b[32m'https://www.ncei.noaa.gov/da\u001b[0m \u001b]8;id=360660;file:///Users/rwegener/repos/pangeo-forge-recipes/pangeo_forge_recipes/storage.py\u001b\\\u001b[2mstorage.py\u001b[0m\u001b]8;;\u001b\\\u001b[2m:\u001b[0m\u001b]8;id=890582;file:///Users/rwegener/repos/pangeo-forge-recipes/pangeo_forge_recipes/storage.py#165\u001b\\\u001b[2m165\u001b[0m\u001b]8;;\u001b\\\n",
       "\u001b[2;36m                    \u001b[0m         \u001b[32mta/sea-surface-temperature-optimum-interpolation/\u001b[0m \u001b[2m              \u001b[0m\n",
       "\u001b[2;36m                    \u001b[0m         \u001b[32mv2.1/access/avhrr/198109/oisst-avhrr-v02r01.19810\u001b[0m \u001b[2m              \u001b[0m\n",
       "\u001b[2;36m                    \u001b[0m         \u001b[32m902.nc'\u001b[0m to cache                                  \u001b[2m              \u001b[0m\n"
      ]
     },
     "metadata": {},
     "output_type": "display_data"
    },
    {
     "name": "stderr",
     "output_type": "stream",
     "text": [
      "/Users/rwegener/repos/pangeo-forge-recipes/pangeo_forge_recipes/recipes/xarray_zarr.py:111: RuntimeWarning: Failed to open Zarr store with consolidated metadata, falling back to try reading non-consolidated metadata. This is typically much slower for opening a dataset. To silence this warning, consider:\n",
      "1. Consolidating metadata in this existing store with zarr.consolidate_metadata().\n",
      "2. Explicitly setting consolidated=False, to avoid trying to read consolidate metadata, or\n",
      "3. Explicitly setting consolidated=True, to raise an error in this case instead of falling back to try reading non-consolidated metadata.\n",
      "  return xr.open_zarr(target.get_mapper())\n"
     ]
    },
    {
     "data": {
      "text/html": [
       "<pre style=\"white-space:pre;overflow-x:auto;line-height:normal;font-family:Menlo,'DejaVu Sans Mono',consolas,'Courier New',monospace\"><span style=\"color: #7fbfbf; text-decoration-color: #7fbfbf\">                    </span><span style=\"color: #000080; text-decoration-color: #000080\">INFO    </span> Creating a new dataset in target              <a href=\"file:///Users/rwegener/repos/pangeo-forge-recipes/pangeo_forge_recipes/recipes/xarray_zarr.py\"><span style=\"color: #7f7f7f; text-decoration-color: #7f7f7f\">xarray_zarr.py</span></a><span style=\"color: #7f7f7f; text-decoration-color: #7f7f7f\">:</span><a href=\"file:///Users/rwegener/repos/pangeo-forge-recipes/pangeo_forge_recipes/recipes/xarray_zarr.py#451\"><span style=\"color: #7f7f7f; text-decoration-color: #7f7f7f\">451</span></a>\n",
       "</pre>\n"
      ],
      "text/plain": [
       "\u001b[2;36m                   \u001b[0m\u001b[2;36m \u001b[0m\u001b[34mINFO    \u001b[0m Creating a new dataset in target              \u001b]8;id=797816;file:///Users/rwegener/repos/pangeo-forge-recipes/pangeo_forge_recipes/recipes/xarray_zarr.py\u001b\\\u001b[2mxarray_zarr.py\u001b[0m\u001b]8;;\u001b\\\u001b[2m:\u001b[0m\u001b]8;id=694658;file:///Users/rwegener/repos/pangeo-forge-recipes/pangeo_forge_recipes/recipes/xarray_zarr.py#451\u001b\\\u001b[2m451\u001b[0m\u001b]8;;\u001b\\\n"
      ]
     },
     "metadata": {},
     "output_type": "display_data"
    },
    {
     "data": {
      "text/html": [
       "<pre style=\"white-space:pre;overflow-x:auto;line-height:normal;font-family:Menlo,'DejaVu Sans Mono',consolas,'Courier New',monospace\"><span style=\"color: #7fbfbf; text-decoration-color: #7fbfbf\">                    </span><span style=\"color: #000080; text-decoration-color: #000080\">INFO    </span> Opening inputs for chunk                      <a href=\"file:///Users/rwegener/repos/pangeo-forge-recipes/pangeo_forge_recipes/recipes/xarray_zarr.py\"><span style=\"color: #7f7f7f; text-decoration-color: #7f7f7f\">xarray_zarr.py</span></a><span style=\"color: #7f7f7f; text-decoration-color: #7f7f7f\">:</span><a href=\"file:///Users/rwegener/repos/pangeo-forge-recipes/pangeo_forge_recipes/recipes/xarray_zarr.py#333\"><span style=\"color: #7f7f7f; text-decoration-color: #7f7f7f\">333</span></a>\n",
       "<span style=\"color: #7fbfbf; text-decoration-color: #7fbfbf\">                    </span>         <span style=\"color: #800080; text-decoration-color: #800080; font-weight: bold\">Index</span><span style=\"font-weight: bold\">({</span><span style=\"color: #800080; text-decoration-color: #800080; font-weight: bold\">DimIndex</span><span style=\"font-weight: bold\">(</span><span style=\"color: #808000; text-decoration-color: #808000\">name</span>=<span style=\"color: #008000; text-decoration-color: #008000\">'time'</span>, <span style=\"color: #808000; text-decoration-color: #808000\">index</span>=<span style=\"color: #008080; text-decoration-color: #008080; font-weight: bold\">0</span>,         <span style=\"color: #7f7f7f; text-decoration-color: #7f7f7f\">                  </span>\n",
       "<span style=\"color: #7fbfbf; text-decoration-color: #7fbfbf\">                    </span>         <span style=\"color: #808000; text-decoration-color: #808000\">sequence_len</span>=<span style=\"color: #008080; text-decoration-color: #008080; font-weight: bold\">1</span>, <span style=\"color: #808000; text-decoration-color: #808000\">operation</span>=<span style=\"font-weight: bold\">&lt;</span><span style=\"color: #ff00ff; text-decoration-color: #ff00ff; font-weight: bold\">CombineOp.CONCAT:</span><span style=\"color: #000000; text-decoration-color: #000000\"> </span> <span style=\"color: #7f7f7f; text-decoration-color: #7f7f7f\">                  </span>\n",
       "<span style=\"color: #7fbfbf; text-decoration-color: #7fbfbf\">                    </span>         <span style=\"color: #008080; text-decoration-color: #008080; font-weight: bold\">2</span><span style=\"font-weight: bold\">&gt;)})</span>                                         <span style=\"color: #7f7f7f; text-decoration-color: #7f7f7f\">                  </span>\n",
       "</pre>\n"
      ],
      "text/plain": [
       "\u001b[2;36m                   \u001b[0m\u001b[2;36m \u001b[0m\u001b[34mINFO    \u001b[0m Opening inputs for chunk                      \u001b]8;id=469238;file:///Users/rwegener/repos/pangeo-forge-recipes/pangeo_forge_recipes/recipes/xarray_zarr.py\u001b\\\u001b[2mxarray_zarr.py\u001b[0m\u001b]8;;\u001b\\\u001b[2m:\u001b[0m\u001b]8;id=234651;file:///Users/rwegener/repos/pangeo-forge-recipes/pangeo_forge_recipes/recipes/xarray_zarr.py#333\u001b\\\u001b[2m333\u001b[0m\u001b]8;;\u001b\\\n",
       "\u001b[2;36m                    \u001b[0m         \u001b[1;35mIndex\u001b[0m\u001b[1m(\u001b[0m\u001b[1m{\u001b[0m\u001b[1;35mDimIndex\u001b[0m\u001b[1m(\u001b[0m\u001b[33mname\u001b[0m=\u001b[32m'time'\u001b[0m, \u001b[33mindex\u001b[0m=\u001b[1;36m0\u001b[0m,         \u001b[2m                  \u001b[0m\n",
       "\u001b[2;36m                    \u001b[0m         \u001b[33msequence_len\u001b[0m=\u001b[1;36m1\u001b[0m, \u001b[33moperation\u001b[0m=\u001b[1m<\u001b[0m\u001b[1;95mCombineOp.CONCAT:\u001b[0m\u001b[39m \u001b[0m \u001b[2m                  \u001b[0m\n",
       "\u001b[2;36m                    \u001b[0m         \u001b[1;36m2\u001b[0m\u001b[1m>\u001b[0m\u001b[1m)\u001b[0m\u001b[1m}\u001b[0m\u001b[1m)\u001b[0m                                         \u001b[2m                  \u001b[0m\n"
      ]
     },
     "metadata": {},
     "output_type": "display_data"
    },
    {
     "data": {
      "text/html": [
       "<pre style=\"white-space:pre;overflow-x:auto;line-height:normal;font-family:Menlo,'DejaVu Sans Mono',consolas,'Courier New',monospace\"><span style=\"color: #7fbfbf; text-decoration-color: #7fbfbf\">                    </span><span style=\"color: #000080; text-decoration-color: #000080\">INFO    </span> Opening input with Xarray                     <a href=\"file:///Users/rwegener/repos/pangeo-forge-recipes/pangeo_forge_recipes/recipes/xarray_zarr.py\"><span style=\"color: #7f7f7f; text-decoration-color: #7f7f7f\">xarray_zarr.py</span></a><span style=\"color: #7f7f7f; text-decoration-color: #7f7f7f\">:</span><a href=\"file:///Users/rwegener/repos/pangeo-forge-recipes/pangeo_forge_recipes/recipes/xarray_zarr.py#249\"><span style=\"color: #7f7f7f; text-decoration-color: #7f7f7f\">249</span></a>\n",
       "<span style=\"color: #7fbfbf; text-decoration-color: #7fbfbf\">                    </span>         <span style=\"color: #800080; text-decoration-color: #800080; font-weight: bold\">Index</span><span style=\"font-weight: bold\">({</span><span style=\"color: #800080; text-decoration-color: #800080; font-weight: bold\">DimIndex</span><span style=\"font-weight: bold\">(</span><span style=\"color: #808000; text-decoration-color: #808000\">name</span>=<span style=\"color: #008000; text-decoration-color: #008000\">'time'</span>, <span style=\"color: #808000; text-decoration-color: #808000\">index</span>=<span style=\"color: #008080; text-decoration-color: #008080; font-weight: bold\">0</span>,         <span style=\"color: #7f7f7f; text-decoration-color: #7f7f7f\">                  </span>\n",
       "<span style=\"color: #7fbfbf; text-decoration-color: #7fbfbf\">                    </span>         <span style=\"color: #808000; text-decoration-color: #808000\">sequence_len</span>=<span style=\"color: #008080; text-decoration-color: #008080; font-weight: bold\">2</span>, <span style=\"color: #808000; text-decoration-color: #808000\">operation</span>=<span style=\"font-weight: bold\">&lt;</span><span style=\"color: #ff00ff; text-decoration-color: #ff00ff; font-weight: bold\">CombineOp.CONCAT:</span><span style=\"color: #000000; text-decoration-color: #000000\"> </span> <span style=\"color: #7f7f7f; text-decoration-color: #7f7f7f\">                  </span>\n",
       "<span style=\"color: #7fbfbf; text-decoration-color: #7fbfbf\">                    </span>         <span style=\"color: #008080; text-decoration-color: #008080; font-weight: bold\">2</span><span style=\"font-weight: bold\">&gt;)})</span>: <span style=\"color: #008000; text-decoration-color: #008000\">'https://www.ncei.noaa.gov/data/sea-su</span> <span style=\"color: #7f7f7f; text-decoration-color: #7f7f7f\">                  </span>\n",
       "<span style=\"color: #7fbfbf; text-decoration-color: #7fbfbf\">                    </span>         <span style=\"color: #008000; text-decoration-color: #008000\">rface-temperature-optimum-interpolation/v2.1/</span> <span style=\"color: #7f7f7f; text-decoration-color: #7f7f7f\">                  </span>\n",
       "<span style=\"color: #7fbfbf; text-decoration-color: #7fbfbf\">                    </span>         <span style=\"color: #008000; text-decoration-color: #008000\">access/avhrr/198109/oisst-avhrr-v02r01.198109</span> <span style=\"color: #7f7f7f; text-decoration-color: #7f7f7f\">                  </span>\n",
       "<span style=\"color: #7fbfbf; text-decoration-color: #7fbfbf\">                    </span>         <span style=\"color: #008000; text-decoration-color: #008000\">01.nc'</span>                                        <span style=\"color: #7f7f7f; text-decoration-color: #7f7f7f\">                  </span>\n",
       "</pre>\n"
      ],
      "text/plain": [
       "\u001b[2;36m                   \u001b[0m\u001b[2;36m \u001b[0m\u001b[34mINFO    \u001b[0m Opening input with Xarray                     \u001b]8;id=916410;file:///Users/rwegener/repos/pangeo-forge-recipes/pangeo_forge_recipes/recipes/xarray_zarr.py\u001b\\\u001b[2mxarray_zarr.py\u001b[0m\u001b]8;;\u001b\\\u001b[2m:\u001b[0m\u001b]8;id=701469;file:///Users/rwegener/repos/pangeo-forge-recipes/pangeo_forge_recipes/recipes/xarray_zarr.py#249\u001b\\\u001b[2m249\u001b[0m\u001b]8;;\u001b\\\n",
       "\u001b[2;36m                    \u001b[0m         \u001b[1;35mIndex\u001b[0m\u001b[1m(\u001b[0m\u001b[1m{\u001b[0m\u001b[1;35mDimIndex\u001b[0m\u001b[1m(\u001b[0m\u001b[33mname\u001b[0m=\u001b[32m'time'\u001b[0m, \u001b[33mindex\u001b[0m=\u001b[1;36m0\u001b[0m,         \u001b[2m                  \u001b[0m\n",
       "\u001b[2;36m                    \u001b[0m         \u001b[33msequence_len\u001b[0m=\u001b[1;36m2\u001b[0m, \u001b[33moperation\u001b[0m=\u001b[1m<\u001b[0m\u001b[1;95mCombineOp.CONCAT:\u001b[0m\u001b[39m \u001b[0m \u001b[2m                  \u001b[0m\n",
       "\u001b[2;36m                    \u001b[0m         \u001b[1;36m2\u001b[0m\u001b[1m>\u001b[0m\u001b[1m)\u001b[0m\u001b[1m}\u001b[0m\u001b[1m)\u001b[0m: \u001b[32m'https://www.ncei.noaa.gov/data/sea-su\u001b[0m \u001b[2m                  \u001b[0m\n",
       "\u001b[2;36m                    \u001b[0m         \u001b[32mrface-temperature-optimum-interpolation/v2.1/\u001b[0m \u001b[2m                  \u001b[0m\n",
       "\u001b[2;36m                    \u001b[0m         \u001b[32maccess/avhrr/198109/oisst-avhrr-v02r01.198109\u001b[0m \u001b[2m                  \u001b[0m\n",
       "\u001b[2;36m                    \u001b[0m         \u001b[32m01.nc'\u001b[0m                                        \u001b[2m                  \u001b[0m\n"
      ]
     },
     "metadata": {},
     "output_type": "display_data"
    },
    {
     "data": {
      "text/html": [
       "<pre style=\"white-space:pre;overflow-x:auto;line-height:normal;font-family:Menlo,'DejaVu Sans Mono',consolas,'Courier New',monospace\"><span style=\"color: #7fbfbf; text-decoration-color: #7fbfbf\">                    </span><span style=\"color: #000080; text-decoration-color: #000080\">INFO    </span> Opening <span style=\"color: #008000; text-decoration-color: #008000\">'https://www.ncei.noaa.gov/data/sea-surfa</span> <a href=\"file:///Users/rwegener/repos/pangeo-forge-recipes/pangeo_forge_recipes/storage.py\"><span style=\"color: #7f7f7f; text-decoration-color: #7f7f7f\">storage.py</span></a><span style=\"color: #7f7f7f; text-decoration-color: #7f7f7f\">:</span><a href=\"file:///Users/rwegener/repos/pangeo-forge-recipes/pangeo_forge_recipes/storage.py#260\"><span style=\"color: #7f7f7f; text-decoration-color: #7f7f7f\">260</span></a>\n",
       "<span style=\"color: #7fbfbf; text-decoration-color: #7fbfbf\">                    </span>         <span style=\"color: #008000; text-decoration-color: #008000\">ce-temperature-optimum-interpolation/v2.1/access/</span> <span style=\"color: #7f7f7f; text-decoration-color: #7f7f7f\">              </span>\n",
       "<span style=\"color: #7fbfbf; text-decoration-color: #7fbfbf\">                    </span>         <span style=\"color: #008000; text-decoration-color: #008000\">avhrr/198109/oisst-avhrr-v02r01.19810901.nc'</span> from <span style=\"color: #7f7f7f; text-decoration-color: #7f7f7f\">              </span>\n",
       "<span style=\"color: #7fbfbf; text-decoration-color: #7fbfbf\">                    </span>         cache                                             <span style=\"color: #7f7f7f; text-decoration-color: #7f7f7f\">              </span>\n",
       "</pre>\n"
      ],
      "text/plain": [
       "\u001b[2;36m                   \u001b[0m\u001b[2;36m \u001b[0m\u001b[34mINFO    \u001b[0m Opening \u001b[32m'https://www.ncei.noaa.gov/data/sea-surfa\u001b[0m \u001b]8;id=757217;file:///Users/rwegener/repos/pangeo-forge-recipes/pangeo_forge_recipes/storage.py\u001b\\\u001b[2mstorage.py\u001b[0m\u001b]8;;\u001b\\\u001b[2m:\u001b[0m\u001b]8;id=468629;file:///Users/rwegener/repos/pangeo-forge-recipes/pangeo_forge_recipes/storage.py#260\u001b\\\u001b[2m260\u001b[0m\u001b]8;;\u001b\\\n",
       "\u001b[2;36m                    \u001b[0m         \u001b[32mce-temperature-optimum-interpolation/v2.1/access/\u001b[0m \u001b[2m              \u001b[0m\n",
       "\u001b[2;36m                    \u001b[0m         \u001b[32mavhrr/198109/oisst-avhrr-v02r01.19810901.nc'\u001b[0m from \u001b[2m              \u001b[0m\n",
       "\u001b[2;36m                    \u001b[0m         cache                                             \u001b[2m              \u001b[0m\n"
      ]
     },
     "metadata": {},
     "output_type": "display_data"
    },
    {
     "data": {
      "text/html": [
       "<pre style=\"white-space:pre;overflow-x:auto;line-height:normal;font-family:Menlo,'DejaVu Sans Mono',consolas,'Courier New',monospace\"><span style=\"color: #7fbfbf; text-decoration-color: #7fbfbf\">                    </span><span style=\"color: #000080; text-decoration-color: #000080\">INFO    </span> Opening input with Xarray                     <a href=\"file:///Users/rwegener/repos/pangeo-forge-recipes/pangeo_forge_recipes/recipes/xarray_zarr.py\"><span style=\"color: #7f7f7f; text-decoration-color: #7f7f7f\">xarray_zarr.py</span></a><span style=\"color: #7f7f7f; text-decoration-color: #7f7f7f\">:</span><a href=\"file:///Users/rwegener/repos/pangeo-forge-recipes/pangeo_forge_recipes/recipes/xarray_zarr.py#249\"><span style=\"color: #7f7f7f; text-decoration-color: #7f7f7f\">249</span></a>\n",
       "<span style=\"color: #7fbfbf; text-decoration-color: #7fbfbf\">                    </span>         <span style=\"color: #800080; text-decoration-color: #800080; font-weight: bold\">Index</span><span style=\"font-weight: bold\">({</span><span style=\"color: #800080; text-decoration-color: #800080; font-weight: bold\">DimIndex</span><span style=\"font-weight: bold\">(</span><span style=\"color: #808000; text-decoration-color: #808000\">name</span>=<span style=\"color: #008000; text-decoration-color: #008000\">'time'</span>, <span style=\"color: #808000; text-decoration-color: #808000\">index</span>=<span style=\"color: #008080; text-decoration-color: #008080; font-weight: bold\">1</span>,         <span style=\"color: #7f7f7f; text-decoration-color: #7f7f7f\">                  </span>\n",
       "<span style=\"color: #7fbfbf; text-decoration-color: #7fbfbf\">                    </span>         <span style=\"color: #808000; text-decoration-color: #808000\">sequence_len</span>=<span style=\"color: #008080; text-decoration-color: #008080; font-weight: bold\">2</span>, <span style=\"color: #808000; text-decoration-color: #808000\">operation</span>=<span style=\"font-weight: bold\">&lt;</span><span style=\"color: #ff00ff; text-decoration-color: #ff00ff; font-weight: bold\">CombineOp.CONCAT:</span><span style=\"color: #000000; text-decoration-color: #000000\"> </span> <span style=\"color: #7f7f7f; text-decoration-color: #7f7f7f\">                  </span>\n",
       "<span style=\"color: #7fbfbf; text-decoration-color: #7fbfbf\">                    </span>         <span style=\"color: #008080; text-decoration-color: #008080; font-weight: bold\">2</span><span style=\"font-weight: bold\">&gt;)})</span>: <span style=\"color: #008000; text-decoration-color: #008000\">'https://www.ncei.noaa.gov/data/sea-su</span> <span style=\"color: #7f7f7f; text-decoration-color: #7f7f7f\">                  </span>\n",
       "<span style=\"color: #7fbfbf; text-decoration-color: #7fbfbf\">                    </span>         <span style=\"color: #008000; text-decoration-color: #008000\">rface-temperature-optimum-interpolation/v2.1/</span> <span style=\"color: #7f7f7f; text-decoration-color: #7f7f7f\">                  </span>\n",
       "<span style=\"color: #7fbfbf; text-decoration-color: #7fbfbf\">                    </span>         <span style=\"color: #008000; text-decoration-color: #008000\">access/avhrr/198109/oisst-avhrr-v02r01.198109</span> <span style=\"color: #7f7f7f; text-decoration-color: #7f7f7f\">                  </span>\n",
       "<span style=\"color: #7fbfbf; text-decoration-color: #7fbfbf\">                    </span>         <span style=\"color: #008000; text-decoration-color: #008000\">02.nc'</span>                                        <span style=\"color: #7f7f7f; text-decoration-color: #7f7f7f\">                  </span>\n",
       "</pre>\n"
      ],
      "text/plain": [
       "\u001b[2;36m                   \u001b[0m\u001b[2;36m \u001b[0m\u001b[34mINFO    \u001b[0m Opening input with Xarray                     \u001b]8;id=371681;file:///Users/rwegener/repos/pangeo-forge-recipes/pangeo_forge_recipes/recipes/xarray_zarr.py\u001b\\\u001b[2mxarray_zarr.py\u001b[0m\u001b]8;;\u001b\\\u001b[2m:\u001b[0m\u001b]8;id=977773;file:///Users/rwegener/repos/pangeo-forge-recipes/pangeo_forge_recipes/recipes/xarray_zarr.py#249\u001b\\\u001b[2m249\u001b[0m\u001b]8;;\u001b\\\n",
       "\u001b[2;36m                    \u001b[0m         \u001b[1;35mIndex\u001b[0m\u001b[1m(\u001b[0m\u001b[1m{\u001b[0m\u001b[1;35mDimIndex\u001b[0m\u001b[1m(\u001b[0m\u001b[33mname\u001b[0m=\u001b[32m'time'\u001b[0m, \u001b[33mindex\u001b[0m=\u001b[1;36m1\u001b[0m,         \u001b[2m                  \u001b[0m\n",
       "\u001b[2;36m                    \u001b[0m         \u001b[33msequence_len\u001b[0m=\u001b[1;36m2\u001b[0m, \u001b[33moperation\u001b[0m=\u001b[1m<\u001b[0m\u001b[1;95mCombineOp.CONCAT:\u001b[0m\u001b[39m \u001b[0m \u001b[2m                  \u001b[0m\n",
       "\u001b[2;36m                    \u001b[0m         \u001b[1;36m2\u001b[0m\u001b[1m>\u001b[0m\u001b[1m)\u001b[0m\u001b[1m}\u001b[0m\u001b[1m)\u001b[0m: \u001b[32m'https://www.ncei.noaa.gov/data/sea-su\u001b[0m \u001b[2m                  \u001b[0m\n",
       "\u001b[2;36m                    \u001b[0m         \u001b[32mrface-temperature-optimum-interpolation/v2.1/\u001b[0m \u001b[2m                  \u001b[0m\n",
       "\u001b[2;36m                    \u001b[0m         \u001b[32maccess/avhrr/198109/oisst-avhrr-v02r01.198109\u001b[0m \u001b[2m                  \u001b[0m\n",
       "\u001b[2;36m                    \u001b[0m         \u001b[32m02.nc'\u001b[0m                                        \u001b[2m                  \u001b[0m\n"
      ]
     },
     "metadata": {},
     "output_type": "display_data"
    },
    {
     "data": {
      "text/html": [
       "<pre style=\"white-space:pre;overflow-x:auto;line-height:normal;font-family:Menlo,'DejaVu Sans Mono',consolas,'Courier New',monospace\"><span style=\"color: #7fbfbf; text-decoration-color: #7fbfbf\">                    </span><span style=\"color: #000080; text-decoration-color: #000080\">INFO    </span> Opening <span style=\"color: #008000; text-decoration-color: #008000\">'https://www.ncei.noaa.gov/data/sea-surfa</span> <a href=\"file:///Users/rwegener/repos/pangeo-forge-recipes/pangeo_forge_recipes/storage.py\"><span style=\"color: #7f7f7f; text-decoration-color: #7f7f7f\">storage.py</span></a><span style=\"color: #7f7f7f; text-decoration-color: #7f7f7f\">:</span><a href=\"file:///Users/rwegener/repos/pangeo-forge-recipes/pangeo_forge_recipes/storage.py#260\"><span style=\"color: #7f7f7f; text-decoration-color: #7f7f7f\">260</span></a>\n",
       "<span style=\"color: #7fbfbf; text-decoration-color: #7fbfbf\">                    </span>         <span style=\"color: #008000; text-decoration-color: #008000\">ce-temperature-optimum-interpolation/v2.1/access/</span> <span style=\"color: #7f7f7f; text-decoration-color: #7f7f7f\">              </span>\n",
       "<span style=\"color: #7fbfbf; text-decoration-color: #7fbfbf\">                    </span>         <span style=\"color: #008000; text-decoration-color: #008000\">avhrr/198109/oisst-avhrr-v02r01.19810902.nc'</span> from <span style=\"color: #7f7f7f; text-decoration-color: #7f7f7f\">              </span>\n",
       "<span style=\"color: #7fbfbf; text-decoration-color: #7fbfbf\">                    </span>         cache                                             <span style=\"color: #7f7f7f; text-decoration-color: #7f7f7f\">              </span>\n",
       "</pre>\n"
      ],
      "text/plain": [
       "\u001b[2;36m                   \u001b[0m\u001b[2;36m \u001b[0m\u001b[34mINFO    \u001b[0m Opening \u001b[32m'https://www.ncei.noaa.gov/data/sea-surfa\u001b[0m \u001b]8;id=449041;file:///Users/rwegener/repos/pangeo-forge-recipes/pangeo_forge_recipes/storage.py\u001b\\\u001b[2mstorage.py\u001b[0m\u001b]8;;\u001b\\\u001b[2m:\u001b[0m\u001b]8;id=854220;file:///Users/rwegener/repos/pangeo-forge-recipes/pangeo_forge_recipes/storage.py#260\u001b\\\u001b[2m260\u001b[0m\u001b]8;;\u001b\\\n",
       "\u001b[2;36m                    \u001b[0m         \u001b[32mce-temperature-optimum-interpolation/v2.1/access/\u001b[0m \u001b[2m              \u001b[0m\n",
       "\u001b[2;36m                    \u001b[0m         \u001b[32mavhrr/198109/oisst-avhrr-v02r01.19810902.nc'\u001b[0m from \u001b[2m              \u001b[0m\n",
       "\u001b[2;36m                    \u001b[0m         cache                                             \u001b[2m              \u001b[0m\n"
      ]
     },
     "metadata": {},
     "output_type": "display_data"
    },
    {
     "data": {
      "text/html": [
       "<pre style=\"white-space:pre;overflow-x:auto;line-height:normal;font-family:Menlo,'DejaVu Sans Mono',consolas,'Courier New',monospace\"><span style=\"color: #7fbfbf; text-decoration-color: #7fbfbf\">                    </span><span style=\"color: #000080; text-decoration-color: #000080\">INFO    </span> Combining inputs for chunk                    <a href=\"file:///Users/rwegener/repos/pangeo-forge-recipes/pangeo_forge_recipes/recipes/xarray_zarr.py\"><span style=\"color: #7f7f7f; text-decoration-color: #7f7f7f\">xarray_zarr.py</span></a><span style=\"color: #7f7f7f; text-decoration-color: #7f7f7f\">:</span><a href=\"file:///Users/rwegener/repos/pangeo-forge-recipes/pangeo_forge_recipes/recipes/xarray_zarr.py#351\"><span style=\"color: #7f7f7f; text-decoration-color: #7f7f7f\">351</span></a>\n",
       "<span style=\"color: #7fbfbf; text-decoration-color: #7fbfbf\">                    </span>         <span style=\"color: #008000; text-decoration-color: #008000\">'Index({DimIndex(name='</span>time', <span style=\"color: #808000; text-decoration-color: #808000\">index</span>=<span style=\"color: #008080; text-decoration-color: #008080; font-weight: bold\">0</span>,        <span style=\"color: #7f7f7f; text-decoration-color: #7f7f7f\">                  </span>\n",
       "<span style=\"color: #7fbfbf; text-decoration-color: #7fbfbf\">                    </span>         <span style=\"color: #808000; text-decoration-color: #808000\">sequence_len</span>=<span style=\"color: #008080; text-decoration-color: #008080; font-weight: bold\">1</span>, <span style=\"color: #808000; text-decoration-color: #808000\">operation</span>=<span style=\"font-weight: bold\">&lt;</span><span style=\"color: #ff00ff; text-decoration-color: #ff00ff; font-weight: bold\">CombineOp.CONCAT:</span><span style=\"color: #000000; text-decoration-color: #000000\"> </span> <span style=\"color: #7f7f7f; text-decoration-color: #7f7f7f\">                  </span>\n",
       "<span style=\"color: #7fbfbf; text-decoration-color: #7fbfbf\">                    </span>         <span style=\"color: #008080; text-decoration-color: #008080; font-weight: bold\">2</span><span style=\"font-weight: bold\">&gt;)})</span>'                                        <span style=\"color: #7f7f7f; text-decoration-color: #7f7f7f\">                  </span>\n",
       "</pre>\n"
      ],
      "text/plain": [
       "\u001b[2;36m                   \u001b[0m\u001b[2;36m \u001b[0m\u001b[34mINFO    \u001b[0m Combining inputs for chunk                    \u001b]8;id=538607;file:///Users/rwegener/repos/pangeo-forge-recipes/pangeo_forge_recipes/recipes/xarray_zarr.py\u001b\\\u001b[2mxarray_zarr.py\u001b[0m\u001b]8;;\u001b\\\u001b[2m:\u001b[0m\u001b]8;id=175752;file:///Users/rwegener/repos/pangeo-forge-recipes/pangeo_forge_recipes/recipes/xarray_zarr.py#351\u001b\\\u001b[2m351\u001b[0m\u001b]8;;\u001b\\\n",
       "\u001b[2;36m                    \u001b[0m         \u001b[32m'Index\u001b[0m\u001b[32m(\u001b[0m\u001b[32m{\u001b[0m\u001b[32mDimIndex\u001b[0m\u001b[32m(\u001b[0m\u001b[32mname\u001b[0m\u001b[32m='\u001b[0mtime', \u001b[33mindex\u001b[0m=\u001b[1;36m0\u001b[0m,        \u001b[2m                  \u001b[0m\n",
       "\u001b[2;36m                    \u001b[0m         \u001b[33msequence_len\u001b[0m=\u001b[1;36m1\u001b[0m, \u001b[33moperation\u001b[0m=\u001b[1m<\u001b[0m\u001b[1;95mCombineOp.CONCAT:\u001b[0m\u001b[39m \u001b[0m \u001b[2m                  \u001b[0m\n",
       "\u001b[2;36m                    \u001b[0m         \u001b[1;36m2\u001b[0m\u001b[1m>\u001b[0m\u001b[1m)\u001b[0m\u001b[1m}\u001b[0m\u001b[1m)\u001b[0m'                                        \u001b[2m                  \u001b[0m\n"
      ]
     },
     "metadata": {},
     "output_type": "display_data"
    },
    {
     "data": {
      "text/html": [
       "<pre style=\"white-space:pre;overflow-x:auto;line-height:normal;font-family:Menlo,'DejaVu Sans Mono',consolas,'Courier New',monospace\"><span style=\"color: #7fbfbf; text-decoration-color: #7fbfbf\">                    </span><span style=\"color: #000080; text-decoration-color: #000080\">INFO    </span> Storing dataset in <span style=\"color: #800080; text-decoration-color: #800080\">/var/folders/f8/rh42xb3d1t</span> <a href=\"file:///Users/rwegener/repos/pangeo-forge-recipes/pangeo_forge_recipes/recipes/xarray_zarr.py\"><span style=\"color: #7f7f7f; text-decoration-color: #7f7f7f\">xarray_zarr.py</span></a><span style=\"color: #7f7f7f; text-decoration-color: #7f7f7f\">:</span><a href=\"file:///Users/rwegener/repos/pangeo-forge-recipes/pangeo_forge_recipes/recipes/xarray_zarr.py#493\"><span style=\"color: #7f7f7f; text-decoration-color: #7f7f7f\">493</span></a>\n",
       "<span style=\"color: #7fbfbf; text-decoration-color: #7fbfbf\">                    </span>         <span style=\"color: #800080; text-decoration-color: #800080\">nbw2bxsjwgym1c0000gn/T/tmp25a_oom5/</span><span style=\"color: #ff00ff; text-decoration-color: #ff00ff\">Mw9c6VQu</span>   <span style=\"color: #7f7f7f; text-decoration-color: #7f7f7f\">                  </span>\n",
       "</pre>\n"
      ],
      "text/plain": [
       "\u001b[2;36m                   \u001b[0m\u001b[2;36m \u001b[0m\u001b[34mINFO    \u001b[0m Storing dataset in \u001b[35m/var/folders/f8/rh42xb3d1t\u001b[0m \u001b]8;id=163563;file:///Users/rwegener/repos/pangeo-forge-recipes/pangeo_forge_recipes/recipes/xarray_zarr.py\u001b\\\u001b[2mxarray_zarr.py\u001b[0m\u001b]8;;\u001b\\\u001b[2m:\u001b[0m\u001b]8;id=75326;file:///Users/rwegener/repos/pangeo-forge-recipes/pangeo_forge_recipes/recipes/xarray_zarr.py#493\u001b\\\u001b[2m493\u001b[0m\u001b]8;;\u001b\\\n",
       "\u001b[2;36m                    \u001b[0m         \u001b[35mnbw2bxsjwgym1c0000gn/T/tmp25a_oom5/\u001b[0m\u001b[95mMw9c6VQu\u001b[0m   \u001b[2m                  \u001b[0m\n"
      ]
     },
     "metadata": {},
     "output_type": "display_data"
    },
    {
     "data": {
      "text/html": [
       "<pre style=\"white-space:pre;overflow-x:auto;line-height:normal;font-family:Menlo,'DejaVu Sans Mono',consolas,'Courier New',monospace\"><span style=\"color: #7fbfbf; text-decoration-color: #7fbfbf\">                    </span><span style=\"color: #000080; text-decoration-color: #000080\">INFO    </span> Expanding target concat dim <span style=\"color: #008000; text-decoration-color: #008000\">'time'</span> to size <span style=\"color: #008080; text-decoration-color: #008080; font-weight: bold\">2</span>  <a href=\"file:///Users/rwegener/repos/pangeo-forge-recipes/pangeo_forge_recipes/recipes/xarray_zarr.py\"><span style=\"color: #7f7f7f; text-decoration-color: #7f7f7f\">xarray_zarr.py</span></a><span style=\"color: #7f7f7f; text-decoration-color: #7f7f7f\">:</span><a href=\"file:///Users/rwegener/repos/pangeo-forge-recipes/pangeo_forge_recipes/recipes/xarray_zarr.py#507\"><span style=\"color: #7f7f7f; text-decoration-color: #7f7f7f\">507</span></a>\n",
       "</pre>\n"
      ],
      "text/plain": [
       "\u001b[2;36m                   \u001b[0m\u001b[2;36m \u001b[0m\u001b[34mINFO    \u001b[0m Expanding target concat dim \u001b[32m'time'\u001b[0m to size \u001b[1;36m2\u001b[0m  \u001b]8;id=619579;file:///Users/rwegener/repos/pangeo-forge-recipes/pangeo_forge_recipes/recipes/xarray_zarr.py\u001b\\\u001b[2mxarray_zarr.py\u001b[0m\u001b]8;;\u001b\\\u001b[2m:\u001b[0m\u001b]8;id=179954;file:///Users/rwegener/repos/pangeo-forge-recipes/pangeo_forge_recipes/recipes/xarray_zarr.py#507\u001b\\\u001b[2m507\u001b[0m\u001b]8;;\u001b\\\n"
      ]
     },
     "metadata": {},
     "output_type": "display_data"
    },
    {
     "data": {
      "text/html": [
       "<pre style=\"white-space:pre;overflow-x:auto;line-height:normal;font-family:Menlo,'DejaVu Sans Mono',consolas,'Courier New',monospace\"><span style=\"color: #7fbfbf; text-decoration-color: #7fbfbf\">[03/03/22 17:13:42] </span><span style=\"color: #000080; text-decoration-color: #000080\">INFO    </span> Opening inputs for chunk                      <a href=\"file:///Users/rwegener/repos/pangeo-forge-recipes/pangeo_forge_recipes/recipes/xarray_zarr.py\"><span style=\"color: #7f7f7f; text-decoration-color: #7f7f7f\">xarray_zarr.py</span></a><span style=\"color: #7f7f7f; text-decoration-color: #7f7f7f\">:</span><a href=\"file:///Users/rwegener/repos/pangeo-forge-recipes/pangeo_forge_recipes/recipes/xarray_zarr.py#333\"><span style=\"color: #7f7f7f; text-decoration-color: #7f7f7f\">333</span></a>\n",
       "<span style=\"color: #7fbfbf; text-decoration-color: #7fbfbf\">                    </span>         <span style=\"color: #800080; text-decoration-color: #800080; font-weight: bold\">Index</span><span style=\"font-weight: bold\">({</span><span style=\"color: #800080; text-decoration-color: #800080; font-weight: bold\">DimIndex</span><span style=\"font-weight: bold\">(</span><span style=\"color: #808000; text-decoration-color: #808000\">name</span>=<span style=\"color: #008000; text-decoration-color: #008000\">'time'</span>, <span style=\"color: #808000; text-decoration-color: #808000\">index</span>=<span style=\"color: #008080; text-decoration-color: #008080; font-weight: bold\">0</span>,         <span style=\"color: #7f7f7f; text-decoration-color: #7f7f7f\">                  </span>\n",
       "<span style=\"color: #7fbfbf; text-decoration-color: #7fbfbf\">                    </span>         <span style=\"color: #808000; text-decoration-color: #808000\">sequence_len</span>=<span style=\"color: #008080; text-decoration-color: #008080; font-weight: bold\">1</span>, <span style=\"color: #808000; text-decoration-color: #808000\">operation</span>=<span style=\"font-weight: bold\">&lt;</span><span style=\"color: #ff00ff; text-decoration-color: #ff00ff; font-weight: bold\">CombineOp.CONCAT:</span><span style=\"color: #000000; text-decoration-color: #000000\"> </span> <span style=\"color: #7f7f7f; text-decoration-color: #7f7f7f\">                  </span>\n",
       "<span style=\"color: #7fbfbf; text-decoration-color: #7fbfbf\">                    </span>         <span style=\"color: #008080; text-decoration-color: #008080; font-weight: bold\">2</span><span style=\"font-weight: bold\">&gt;)})</span>                                         <span style=\"color: #7f7f7f; text-decoration-color: #7f7f7f\">                  </span>\n",
       "</pre>\n"
      ],
      "text/plain": [
       "\u001b[2;36m[03/03/22 17:13:42]\u001b[0m\u001b[2;36m \u001b[0m\u001b[34mINFO    \u001b[0m Opening inputs for chunk                      \u001b]8;id=186170;file:///Users/rwegener/repos/pangeo-forge-recipes/pangeo_forge_recipes/recipes/xarray_zarr.py\u001b\\\u001b[2mxarray_zarr.py\u001b[0m\u001b]8;;\u001b\\\u001b[2m:\u001b[0m\u001b]8;id=208126;file:///Users/rwegener/repos/pangeo-forge-recipes/pangeo_forge_recipes/recipes/xarray_zarr.py#333\u001b\\\u001b[2m333\u001b[0m\u001b]8;;\u001b\\\n",
       "\u001b[2;36m                    \u001b[0m         \u001b[1;35mIndex\u001b[0m\u001b[1m(\u001b[0m\u001b[1m{\u001b[0m\u001b[1;35mDimIndex\u001b[0m\u001b[1m(\u001b[0m\u001b[33mname\u001b[0m=\u001b[32m'time'\u001b[0m, \u001b[33mindex\u001b[0m=\u001b[1;36m0\u001b[0m,         \u001b[2m                  \u001b[0m\n",
       "\u001b[2;36m                    \u001b[0m         \u001b[33msequence_len\u001b[0m=\u001b[1;36m1\u001b[0m, \u001b[33moperation\u001b[0m=\u001b[1m<\u001b[0m\u001b[1;95mCombineOp.CONCAT:\u001b[0m\u001b[39m \u001b[0m \u001b[2m                  \u001b[0m\n",
       "\u001b[2;36m                    \u001b[0m         \u001b[1;36m2\u001b[0m\u001b[1m>\u001b[0m\u001b[1m)\u001b[0m\u001b[1m}\u001b[0m\u001b[1m)\u001b[0m                                         \u001b[2m                  \u001b[0m\n"
      ]
     },
     "metadata": {},
     "output_type": "display_data"
    },
    {
     "data": {
      "text/html": [
       "<pre style=\"white-space:pre;overflow-x:auto;line-height:normal;font-family:Menlo,'DejaVu Sans Mono',consolas,'Courier New',monospace\"><span style=\"color: #7fbfbf; text-decoration-color: #7fbfbf\">                    </span><span style=\"color: #000080; text-decoration-color: #000080\">INFO    </span> Opening input with Xarray                     <a href=\"file:///Users/rwegener/repos/pangeo-forge-recipes/pangeo_forge_recipes/recipes/xarray_zarr.py\"><span style=\"color: #7f7f7f; text-decoration-color: #7f7f7f\">xarray_zarr.py</span></a><span style=\"color: #7f7f7f; text-decoration-color: #7f7f7f\">:</span><a href=\"file:///Users/rwegener/repos/pangeo-forge-recipes/pangeo_forge_recipes/recipes/xarray_zarr.py#249\"><span style=\"color: #7f7f7f; text-decoration-color: #7f7f7f\">249</span></a>\n",
       "<span style=\"color: #7fbfbf; text-decoration-color: #7fbfbf\">                    </span>         <span style=\"color: #800080; text-decoration-color: #800080; font-weight: bold\">Index</span><span style=\"font-weight: bold\">({</span><span style=\"color: #800080; text-decoration-color: #800080; font-weight: bold\">DimIndex</span><span style=\"font-weight: bold\">(</span><span style=\"color: #808000; text-decoration-color: #808000\">name</span>=<span style=\"color: #008000; text-decoration-color: #008000\">'time'</span>, <span style=\"color: #808000; text-decoration-color: #808000\">index</span>=<span style=\"color: #008080; text-decoration-color: #008080; font-weight: bold\">0</span>,         <span style=\"color: #7f7f7f; text-decoration-color: #7f7f7f\">                  </span>\n",
       "<span style=\"color: #7fbfbf; text-decoration-color: #7fbfbf\">                    </span>         <span style=\"color: #808000; text-decoration-color: #808000\">sequence_len</span>=<span style=\"color: #008080; text-decoration-color: #008080; font-weight: bold\">2</span>, <span style=\"color: #808000; text-decoration-color: #808000\">operation</span>=<span style=\"font-weight: bold\">&lt;</span><span style=\"color: #ff00ff; text-decoration-color: #ff00ff; font-weight: bold\">CombineOp.CONCAT:</span><span style=\"color: #000000; text-decoration-color: #000000\"> </span> <span style=\"color: #7f7f7f; text-decoration-color: #7f7f7f\">                  </span>\n",
       "<span style=\"color: #7fbfbf; text-decoration-color: #7fbfbf\">                    </span>         <span style=\"color: #008080; text-decoration-color: #008080; font-weight: bold\">2</span><span style=\"font-weight: bold\">&gt;)})</span>: <span style=\"color: #008000; text-decoration-color: #008000\">'https://www.ncei.noaa.gov/data/sea-su</span> <span style=\"color: #7f7f7f; text-decoration-color: #7f7f7f\">                  </span>\n",
       "<span style=\"color: #7fbfbf; text-decoration-color: #7fbfbf\">                    </span>         <span style=\"color: #008000; text-decoration-color: #008000\">rface-temperature-optimum-interpolation/v2.1/</span> <span style=\"color: #7f7f7f; text-decoration-color: #7f7f7f\">                  </span>\n",
       "<span style=\"color: #7fbfbf; text-decoration-color: #7fbfbf\">                    </span>         <span style=\"color: #008000; text-decoration-color: #008000\">access/avhrr/198109/oisst-avhrr-v02r01.198109</span> <span style=\"color: #7f7f7f; text-decoration-color: #7f7f7f\">                  </span>\n",
       "<span style=\"color: #7fbfbf; text-decoration-color: #7fbfbf\">                    </span>         <span style=\"color: #008000; text-decoration-color: #008000\">01.nc'</span>                                        <span style=\"color: #7f7f7f; text-decoration-color: #7f7f7f\">                  </span>\n",
       "</pre>\n"
      ],
      "text/plain": [
       "\u001b[2;36m                   \u001b[0m\u001b[2;36m \u001b[0m\u001b[34mINFO    \u001b[0m Opening input with Xarray                     \u001b]8;id=879064;file:///Users/rwegener/repos/pangeo-forge-recipes/pangeo_forge_recipes/recipes/xarray_zarr.py\u001b\\\u001b[2mxarray_zarr.py\u001b[0m\u001b]8;;\u001b\\\u001b[2m:\u001b[0m\u001b]8;id=341338;file:///Users/rwegener/repos/pangeo-forge-recipes/pangeo_forge_recipes/recipes/xarray_zarr.py#249\u001b\\\u001b[2m249\u001b[0m\u001b]8;;\u001b\\\n",
       "\u001b[2;36m                    \u001b[0m         \u001b[1;35mIndex\u001b[0m\u001b[1m(\u001b[0m\u001b[1m{\u001b[0m\u001b[1;35mDimIndex\u001b[0m\u001b[1m(\u001b[0m\u001b[33mname\u001b[0m=\u001b[32m'time'\u001b[0m, \u001b[33mindex\u001b[0m=\u001b[1;36m0\u001b[0m,         \u001b[2m                  \u001b[0m\n",
       "\u001b[2;36m                    \u001b[0m         \u001b[33msequence_len\u001b[0m=\u001b[1;36m2\u001b[0m, \u001b[33moperation\u001b[0m=\u001b[1m<\u001b[0m\u001b[1;95mCombineOp.CONCAT:\u001b[0m\u001b[39m \u001b[0m \u001b[2m                  \u001b[0m\n",
       "\u001b[2;36m                    \u001b[0m         \u001b[1;36m2\u001b[0m\u001b[1m>\u001b[0m\u001b[1m)\u001b[0m\u001b[1m}\u001b[0m\u001b[1m)\u001b[0m: \u001b[32m'https://www.ncei.noaa.gov/data/sea-su\u001b[0m \u001b[2m                  \u001b[0m\n",
       "\u001b[2;36m                    \u001b[0m         \u001b[32mrface-temperature-optimum-interpolation/v2.1/\u001b[0m \u001b[2m                  \u001b[0m\n",
       "\u001b[2;36m                    \u001b[0m         \u001b[32maccess/avhrr/198109/oisst-avhrr-v02r01.198109\u001b[0m \u001b[2m                  \u001b[0m\n",
       "\u001b[2;36m                    \u001b[0m         \u001b[32m01.nc'\u001b[0m                                        \u001b[2m                  \u001b[0m\n"
      ]
     },
     "metadata": {},
     "output_type": "display_data"
    },
    {
     "data": {
      "text/html": [
       "<pre style=\"white-space:pre;overflow-x:auto;line-height:normal;font-family:Menlo,'DejaVu Sans Mono',consolas,'Courier New',monospace\"><span style=\"color: #7fbfbf; text-decoration-color: #7fbfbf\">                    </span><span style=\"color: #000080; text-decoration-color: #000080\">INFO    </span> Opening <span style=\"color: #008000; text-decoration-color: #008000\">'https://www.ncei.noaa.gov/data/sea-surfa</span> <a href=\"file:///Users/rwegener/repos/pangeo-forge-recipes/pangeo_forge_recipes/storage.py\"><span style=\"color: #7f7f7f; text-decoration-color: #7f7f7f\">storage.py</span></a><span style=\"color: #7f7f7f; text-decoration-color: #7f7f7f\">:</span><a href=\"file:///Users/rwegener/repos/pangeo-forge-recipes/pangeo_forge_recipes/storage.py#260\"><span style=\"color: #7f7f7f; text-decoration-color: #7f7f7f\">260</span></a>\n",
       "<span style=\"color: #7fbfbf; text-decoration-color: #7fbfbf\">                    </span>         <span style=\"color: #008000; text-decoration-color: #008000\">ce-temperature-optimum-interpolation/v2.1/access/</span> <span style=\"color: #7f7f7f; text-decoration-color: #7f7f7f\">              </span>\n",
       "<span style=\"color: #7fbfbf; text-decoration-color: #7fbfbf\">                    </span>         <span style=\"color: #008000; text-decoration-color: #008000\">avhrr/198109/oisst-avhrr-v02r01.19810901.nc'</span> from <span style=\"color: #7f7f7f; text-decoration-color: #7f7f7f\">              </span>\n",
       "<span style=\"color: #7fbfbf; text-decoration-color: #7fbfbf\">                    </span>         cache                                             <span style=\"color: #7f7f7f; text-decoration-color: #7f7f7f\">              </span>\n",
       "</pre>\n"
      ],
      "text/plain": [
       "\u001b[2;36m                   \u001b[0m\u001b[2;36m \u001b[0m\u001b[34mINFO    \u001b[0m Opening \u001b[32m'https://www.ncei.noaa.gov/data/sea-surfa\u001b[0m \u001b]8;id=344085;file:///Users/rwegener/repos/pangeo-forge-recipes/pangeo_forge_recipes/storage.py\u001b\\\u001b[2mstorage.py\u001b[0m\u001b]8;;\u001b\\\u001b[2m:\u001b[0m\u001b]8;id=590030;file:///Users/rwegener/repos/pangeo-forge-recipes/pangeo_forge_recipes/storage.py#260\u001b\\\u001b[2m260\u001b[0m\u001b]8;;\u001b\\\n",
       "\u001b[2;36m                    \u001b[0m         \u001b[32mce-temperature-optimum-interpolation/v2.1/access/\u001b[0m \u001b[2m              \u001b[0m\n",
       "\u001b[2;36m                    \u001b[0m         \u001b[32mavhrr/198109/oisst-avhrr-v02r01.19810901.nc'\u001b[0m from \u001b[2m              \u001b[0m\n",
       "\u001b[2;36m                    \u001b[0m         cache                                             \u001b[2m              \u001b[0m\n"
      ]
     },
     "metadata": {},
     "output_type": "display_data"
    },
    {
     "data": {
      "text/html": [
       "<pre style=\"white-space:pre;overflow-x:auto;line-height:normal;font-family:Menlo,'DejaVu Sans Mono',consolas,'Courier New',monospace\"><span style=\"color: #7fbfbf; text-decoration-color: #7fbfbf\">                    </span><span style=\"color: #000080; text-decoration-color: #000080\">INFO    </span> Opening input with Xarray                     <a href=\"file:///Users/rwegener/repos/pangeo-forge-recipes/pangeo_forge_recipes/recipes/xarray_zarr.py\"><span style=\"color: #7f7f7f; text-decoration-color: #7f7f7f\">xarray_zarr.py</span></a><span style=\"color: #7f7f7f; text-decoration-color: #7f7f7f\">:</span><a href=\"file:///Users/rwegener/repos/pangeo-forge-recipes/pangeo_forge_recipes/recipes/xarray_zarr.py#249\"><span style=\"color: #7f7f7f; text-decoration-color: #7f7f7f\">249</span></a>\n",
       "<span style=\"color: #7fbfbf; text-decoration-color: #7fbfbf\">                    </span>         <span style=\"color: #800080; text-decoration-color: #800080; font-weight: bold\">Index</span><span style=\"font-weight: bold\">({</span><span style=\"color: #800080; text-decoration-color: #800080; font-weight: bold\">DimIndex</span><span style=\"font-weight: bold\">(</span><span style=\"color: #808000; text-decoration-color: #808000\">name</span>=<span style=\"color: #008000; text-decoration-color: #008000\">'time'</span>, <span style=\"color: #808000; text-decoration-color: #808000\">index</span>=<span style=\"color: #008080; text-decoration-color: #008080; font-weight: bold\">1</span>,         <span style=\"color: #7f7f7f; text-decoration-color: #7f7f7f\">                  </span>\n",
       "<span style=\"color: #7fbfbf; text-decoration-color: #7fbfbf\">                    </span>         <span style=\"color: #808000; text-decoration-color: #808000\">sequence_len</span>=<span style=\"color: #008080; text-decoration-color: #008080; font-weight: bold\">2</span>, <span style=\"color: #808000; text-decoration-color: #808000\">operation</span>=<span style=\"font-weight: bold\">&lt;</span><span style=\"color: #ff00ff; text-decoration-color: #ff00ff; font-weight: bold\">CombineOp.CONCAT:</span><span style=\"color: #000000; text-decoration-color: #000000\"> </span> <span style=\"color: #7f7f7f; text-decoration-color: #7f7f7f\">                  </span>\n",
       "<span style=\"color: #7fbfbf; text-decoration-color: #7fbfbf\">                    </span>         <span style=\"color: #008080; text-decoration-color: #008080; font-weight: bold\">2</span><span style=\"font-weight: bold\">&gt;)})</span>: <span style=\"color: #008000; text-decoration-color: #008000\">'https://www.ncei.noaa.gov/data/sea-su</span> <span style=\"color: #7f7f7f; text-decoration-color: #7f7f7f\">                  </span>\n",
       "<span style=\"color: #7fbfbf; text-decoration-color: #7fbfbf\">                    </span>         <span style=\"color: #008000; text-decoration-color: #008000\">rface-temperature-optimum-interpolation/v2.1/</span> <span style=\"color: #7f7f7f; text-decoration-color: #7f7f7f\">                  </span>\n",
       "<span style=\"color: #7fbfbf; text-decoration-color: #7fbfbf\">                    </span>         <span style=\"color: #008000; text-decoration-color: #008000\">access/avhrr/198109/oisst-avhrr-v02r01.198109</span> <span style=\"color: #7f7f7f; text-decoration-color: #7f7f7f\">                  </span>\n",
       "<span style=\"color: #7fbfbf; text-decoration-color: #7fbfbf\">                    </span>         <span style=\"color: #008000; text-decoration-color: #008000\">02.nc'</span>                                        <span style=\"color: #7f7f7f; text-decoration-color: #7f7f7f\">                  </span>\n",
       "</pre>\n"
      ],
      "text/plain": [
       "\u001b[2;36m                   \u001b[0m\u001b[2;36m \u001b[0m\u001b[34mINFO    \u001b[0m Opening input with Xarray                     \u001b]8;id=350556;file:///Users/rwegener/repos/pangeo-forge-recipes/pangeo_forge_recipes/recipes/xarray_zarr.py\u001b\\\u001b[2mxarray_zarr.py\u001b[0m\u001b]8;;\u001b\\\u001b[2m:\u001b[0m\u001b]8;id=330188;file:///Users/rwegener/repos/pangeo-forge-recipes/pangeo_forge_recipes/recipes/xarray_zarr.py#249\u001b\\\u001b[2m249\u001b[0m\u001b]8;;\u001b\\\n",
       "\u001b[2;36m                    \u001b[0m         \u001b[1;35mIndex\u001b[0m\u001b[1m(\u001b[0m\u001b[1m{\u001b[0m\u001b[1;35mDimIndex\u001b[0m\u001b[1m(\u001b[0m\u001b[33mname\u001b[0m=\u001b[32m'time'\u001b[0m, \u001b[33mindex\u001b[0m=\u001b[1;36m1\u001b[0m,         \u001b[2m                  \u001b[0m\n",
       "\u001b[2;36m                    \u001b[0m         \u001b[33msequence_len\u001b[0m=\u001b[1;36m2\u001b[0m, \u001b[33moperation\u001b[0m=\u001b[1m<\u001b[0m\u001b[1;95mCombineOp.CONCAT:\u001b[0m\u001b[39m \u001b[0m \u001b[2m                  \u001b[0m\n",
       "\u001b[2;36m                    \u001b[0m         \u001b[1;36m2\u001b[0m\u001b[1m>\u001b[0m\u001b[1m)\u001b[0m\u001b[1m}\u001b[0m\u001b[1m)\u001b[0m: \u001b[32m'https://www.ncei.noaa.gov/data/sea-su\u001b[0m \u001b[2m                  \u001b[0m\n",
       "\u001b[2;36m                    \u001b[0m         \u001b[32mrface-temperature-optimum-interpolation/v2.1/\u001b[0m \u001b[2m                  \u001b[0m\n",
       "\u001b[2;36m                    \u001b[0m         \u001b[32maccess/avhrr/198109/oisst-avhrr-v02r01.198109\u001b[0m \u001b[2m                  \u001b[0m\n",
       "\u001b[2;36m                    \u001b[0m         \u001b[32m02.nc'\u001b[0m                                        \u001b[2m                  \u001b[0m\n"
      ]
     },
     "metadata": {},
     "output_type": "display_data"
    },
    {
     "data": {
      "text/html": [
       "<pre style=\"white-space:pre;overflow-x:auto;line-height:normal;font-family:Menlo,'DejaVu Sans Mono',consolas,'Courier New',monospace\"><span style=\"color: #7fbfbf; text-decoration-color: #7fbfbf\">                    </span><span style=\"color: #000080; text-decoration-color: #000080\">INFO    </span> Opening <span style=\"color: #008000; text-decoration-color: #008000\">'https://www.ncei.noaa.gov/data/sea-surfa</span> <a href=\"file:///Users/rwegener/repos/pangeo-forge-recipes/pangeo_forge_recipes/storage.py\"><span style=\"color: #7f7f7f; text-decoration-color: #7f7f7f\">storage.py</span></a><span style=\"color: #7f7f7f; text-decoration-color: #7f7f7f\">:</span><a href=\"file:///Users/rwegener/repos/pangeo-forge-recipes/pangeo_forge_recipes/storage.py#260\"><span style=\"color: #7f7f7f; text-decoration-color: #7f7f7f\">260</span></a>\n",
       "<span style=\"color: #7fbfbf; text-decoration-color: #7fbfbf\">                    </span>         <span style=\"color: #008000; text-decoration-color: #008000\">ce-temperature-optimum-interpolation/v2.1/access/</span> <span style=\"color: #7f7f7f; text-decoration-color: #7f7f7f\">              </span>\n",
       "<span style=\"color: #7fbfbf; text-decoration-color: #7fbfbf\">                    </span>         <span style=\"color: #008000; text-decoration-color: #008000\">avhrr/198109/oisst-avhrr-v02r01.19810902.nc'</span> from <span style=\"color: #7f7f7f; text-decoration-color: #7f7f7f\">              </span>\n",
       "<span style=\"color: #7fbfbf; text-decoration-color: #7fbfbf\">                    </span>         cache                                             <span style=\"color: #7f7f7f; text-decoration-color: #7f7f7f\">              </span>\n",
       "</pre>\n"
      ],
      "text/plain": [
       "\u001b[2;36m                   \u001b[0m\u001b[2;36m \u001b[0m\u001b[34mINFO    \u001b[0m Opening \u001b[32m'https://www.ncei.noaa.gov/data/sea-surfa\u001b[0m \u001b]8;id=263798;file:///Users/rwegener/repos/pangeo-forge-recipes/pangeo_forge_recipes/storage.py\u001b\\\u001b[2mstorage.py\u001b[0m\u001b]8;;\u001b\\\u001b[2m:\u001b[0m\u001b]8;id=825991;file:///Users/rwegener/repos/pangeo-forge-recipes/pangeo_forge_recipes/storage.py#260\u001b\\\u001b[2m260\u001b[0m\u001b]8;;\u001b\\\n",
       "\u001b[2;36m                    \u001b[0m         \u001b[32mce-temperature-optimum-interpolation/v2.1/access/\u001b[0m \u001b[2m              \u001b[0m\n",
       "\u001b[2;36m                    \u001b[0m         \u001b[32mavhrr/198109/oisst-avhrr-v02r01.19810902.nc'\u001b[0m from \u001b[2m              \u001b[0m\n",
       "\u001b[2;36m                    \u001b[0m         cache                                             \u001b[2m              \u001b[0m\n"
      ]
     },
     "metadata": {},
     "output_type": "display_data"
    },
    {
     "data": {
      "text/html": [
       "<pre style=\"white-space:pre;overflow-x:auto;line-height:normal;font-family:Menlo,'DejaVu Sans Mono',consolas,'Courier New',monospace\"><span style=\"color: #7fbfbf; text-decoration-color: #7fbfbf\">                    </span><span style=\"color: #000080; text-decoration-color: #000080\">INFO    </span> Combining inputs for chunk                    <a href=\"file:///Users/rwegener/repos/pangeo-forge-recipes/pangeo_forge_recipes/recipes/xarray_zarr.py\"><span style=\"color: #7f7f7f; text-decoration-color: #7f7f7f\">xarray_zarr.py</span></a><span style=\"color: #7f7f7f; text-decoration-color: #7f7f7f\">:</span><a href=\"file:///Users/rwegener/repos/pangeo-forge-recipes/pangeo_forge_recipes/recipes/xarray_zarr.py#351\"><span style=\"color: #7f7f7f; text-decoration-color: #7f7f7f\">351</span></a>\n",
       "<span style=\"color: #7fbfbf; text-decoration-color: #7fbfbf\">                    </span>         <span style=\"color: #008000; text-decoration-color: #008000\">'Index({DimIndex(name='</span>time', <span style=\"color: #808000; text-decoration-color: #808000\">index</span>=<span style=\"color: #008080; text-decoration-color: #008080; font-weight: bold\">0</span>,        <span style=\"color: #7f7f7f; text-decoration-color: #7f7f7f\">                  </span>\n",
       "<span style=\"color: #7fbfbf; text-decoration-color: #7fbfbf\">                    </span>         <span style=\"color: #808000; text-decoration-color: #808000\">sequence_len</span>=<span style=\"color: #008080; text-decoration-color: #008080; font-weight: bold\">1</span>, <span style=\"color: #808000; text-decoration-color: #808000\">operation</span>=<span style=\"font-weight: bold\">&lt;</span><span style=\"color: #ff00ff; text-decoration-color: #ff00ff; font-weight: bold\">CombineOp.CONCAT:</span><span style=\"color: #000000; text-decoration-color: #000000\"> </span> <span style=\"color: #7f7f7f; text-decoration-color: #7f7f7f\">                  </span>\n",
       "<span style=\"color: #7fbfbf; text-decoration-color: #7fbfbf\">                    </span>         <span style=\"color: #008080; text-decoration-color: #008080; font-weight: bold\">2</span><span style=\"font-weight: bold\">&gt;)})</span>'                                        <span style=\"color: #7f7f7f; text-decoration-color: #7f7f7f\">                  </span>\n",
       "</pre>\n"
      ],
      "text/plain": [
       "\u001b[2;36m                   \u001b[0m\u001b[2;36m \u001b[0m\u001b[34mINFO    \u001b[0m Combining inputs for chunk                    \u001b]8;id=152774;file:///Users/rwegener/repos/pangeo-forge-recipes/pangeo_forge_recipes/recipes/xarray_zarr.py\u001b\\\u001b[2mxarray_zarr.py\u001b[0m\u001b]8;;\u001b\\\u001b[2m:\u001b[0m\u001b]8;id=942922;file:///Users/rwegener/repos/pangeo-forge-recipes/pangeo_forge_recipes/recipes/xarray_zarr.py#351\u001b\\\u001b[2m351\u001b[0m\u001b]8;;\u001b\\\n",
       "\u001b[2;36m                    \u001b[0m         \u001b[32m'Index\u001b[0m\u001b[32m(\u001b[0m\u001b[32m{\u001b[0m\u001b[32mDimIndex\u001b[0m\u001b[32m(\u001b[0m\u001b[32mname\u001b[0m\u001b[32m='\u001b[0mtime', \u001b[33mindex\u001b[0m=\u001b[1;36m0\u001b[0m,        \u001b[2m                  \u001b[0m\n",
       "\u001b[2;36m                    \u001b[0m         \u001b[33msequence_len\u001b[0m=\u001b[1;36m1\u001b[0m, \u001b[33moperation\u001b[0m=\u001b[1m<\u001b[0m\u001b[1;95mCombineOp.CONCAT:\u001b[0m\u001b[39m \u001b[0m \u001b[2m                  \u001b[0m\n",
       "\u001b[2;36m                    \u001b[0m         \u001b[1;36m2\u001b[0m\u001b[1m>\u001b[0m\u001b[1m)\u001b[0m\u001b[1m}\u001b[0m\u001b[1m)\u001b[0m'                                        \u001b[2m                  \u001b[0m\n"
      ]
     },
     "metadata": {},
     "output_type": "display_data"
    },
    {
     "name": "stderr",
     "output_type": "stream",
     "text": [
      "/Users/rwegener/repos/pangeo-forge-recipes/pangeo_forge_recipes/chunk_grid.py:51: UserWarning: chunksize (10) > dimsize (2). Decreasing chunksize to 2\n",
      "  warnings.warn(\n"
     ]
    },
    {
     "data": {
      "text/html": [
       "<pre style=\"white-space:pre;overflow-x:auto;line-height:normal;font-family:Menlo,'DejaVu Sans Mono',consolas,'Courier New',monospace\"><span style=\"color: #7fbfbf; text-decoration-color: #7fbfbf\">                    </span><span style=\"color: #000080; text-decoration-color: #000080\">INFO    </span> Storing variable anom chunk                   <a href=\"file:///Users/rwegener/repos/pangeo-forge-recipes/pangeo_forge_recipes/recipes/xarray_zarr.py\"><span style=\"color: #7f7f7f; text-decoration-color: #7f7f7f\">xarray_zarr.py</span></a><span style=\"color: #7f7f7f; text-decoration-color: #7f7f7f\">:</span><a href=\"file:///Users/rwegener/repos/pangeo-forge-recipes/pangeo_forge_recipes/recipes/xarray_zarr.py#570\"><span style=\"color: #7f7f7f; text-decoration-color: #7f7f7f\">570</span></a>\n",
       "<span style=\"color: #7fbfbf; text-decoration-color: #7fbfbf\">                    </span>         <span style=\"color: #800080; text-decoration-color: #800080; font-weight: bold\">Index</span><span style=\"font-weight: bold\">({</span><span style=\"color: #800080; text-decoration-color: #800080; font-weight: bold\">DimIndex</span><span style=\"font-weight: bold\">(</span><span style=\"color: #808000; text-decoration-color: #808000\">name</span>=<span style=\"color: #008000; text-decoration-color: #008000\">'time'</span>, <span style=\"color: #808000; text-decoration-color: #808000\">index</span>=<span style=\"color: #008080; text-decoration-color: #008080; font-weight: bold\">0</span>,         <span style=\"color: #7f7f7f; text-decoration-color: #7f7f7f\">                  </span>\n",
       "<span style=\"color: #7fbfbf; text-decoration-color: #7fbfbf\">                    </span>         <span style=\"color: #808000; text-decoration-color: #808000\">sequence_len</span>=<span style=\"color: #008080; text-decoration-color: #008080; font-weight: bold\">1</span>, <span style=\"color: #808000; text-decoration-color: #808000\">operation</span>=<span style=\"font-weight: bold\">&lt;</span><span style=\"color: #ff00ff; text-decoration-color: #ff00ff; font-weight: bold\">CombineOp.CONCAT:</span><span style=\"color: #000000; text-decoration-color: #000000\"> </span> <span style=\"color: #7f7f7f; text-decoration-color: #7f7f7f\">                  </span>\n",
       "<span style=\"color: #7fbfbf; text-decoration-color: #7fbfbf\">                    </span>         <span style=\"color: #008080; text-decoration-color: #008080; font-weight: bold\">2</span><span style=\"font-weight: bold\">&gt;)})</span> to Zarr region <span style=\"font-weight: bold\">(</span><span style=\"color: #800080; text-decoration-color: #800080; font-weight: bold\">slice</span><span style=\"font-weight: bold\">(</span><span style=\"color: #008080; text-decoration-color: #008080; font-weight: bold\">0</span>, <span style=\"color: #008080; text-decoration-color: #008080; font-weight: bold\">2</span>, <span style=\"color: #800080; text-decoration-color: #800080; font-style: italic\">None</span><span style=\"font-weight: bold\">)</span>,      <span style=\"color: #7f7f7f; text-decoration-color: #7f7f7f\">                  </span>\n",
       "<span style=\"color: #7fbfbf; text-decoration-color: #7fbfbf\">                    </span>         <span style=\"color: #800080; text-decoration-color: #800080; font-weight: bold\">slice</span><span style=\"font-weight: bold\">(</span><span style=\"color: #800080; text-decoration-color: #800080; font-style: italic\">None</span>, <span style=\"color: #800080; text-decoration-color: #800080; font-style: italic\">None</span>, <span style=\"color: #800080; text-decoration-color: #800080; font-style: italic\">None</span><span style=\"font-weight: bold\">)</span>, <span style=\"color: #800080; text-decoration-color: #800080; font-weight: bold\">slice</span><span style=\"font-weight: bold\">(</span><span style=\"color: #800080; text-decoration-color: #800080; font-style: italic\">None</span>, <span style=\"color: #800080; text-decoration-color: #800080; font-style: italic\">None</span>,    <span style=\"color: #7f7f7f; text-decoration-color: #7f7f7f\">                  </span>\n",
       "<span style=\"color: #7fbfbf; text-decoration-color: #7fbfbf\">                    </span>         <span style=\"color: #800080; text-decoration-color: #800080; font-style: italic\">None</span><span style=\"font-weight: bold\">)</span>, <span style=\"color: #800080; text-decoration-color: #800080; font-weight: bold\">slice</span><span style=\"font-weight: bold\">(</span><span style=\"color: #800080; text-decoration-color: #800080; font-style: italic\">None</span>, <span style=\"color: #800080; text-decoration-color: #800080; font-style: italic\">None</span>, <span style=\"color: #800080; text-decoration-color: #800080; font-style: italic\">None</span><span style=\"font-weight: bold\">))</span>               <span style=\"color: #7f7f7f; text-decoration-color: #7f7f7f\">                  </span>\n",
       "</pre>\n"
      ],
      "text/plain": [
       "\u001b[2;36m                   \u001b[0m\u001b[2;36m \u001b[0m\u001b[34mINFO    \u001b[0m Storing variable anom chunk                   \u001b]8;id=390060;file:///Users/rwegener/repos/pangeo-forge-recipes/pangeo_forge_recipes/recipes/xarray_zarr.py\u001b\\\u001b[2mxarray_zarr.py\u001b[0m\u001b]8;;\u001b\\\u001b[2m:\u001b[0m\u001b]8;id=364768;file:///Users/rwegener/repos/pangeo-forge-recipes/pangeo_forge_recipes/recipes/xarray_zarr.py#570\u001b\\\u001b[2m570\u001b[0m\u001b]8;;\u001b\\\n",
       "\u001b[2;36m                    \u001b[0m         \u001b[1;35mIndex\u001b[0m\u001b[1m(\u001b[0m\u001b[1m{\u001b[0m\u001b[1;35mDimIndex\u001b[0m\u001b[1m(\u001b[0m\u001b[33mname\u001b[0m=\u001b[32m'time'\u001b[0m, \u001b[33mindex\u001b[0m=\u001b[1;36m0\u001b[0m,         \u001b[2m                  \u001b[0m\n",
       "\u001b[2;36m                    \u001b[0m         \u001b[33msequence_len\u001b[0m=\u001b[1;36m1\u001b[0m, \u001b[33moperation\u001b[0m=\u001b[1m<\u001b[0m\u001b[1;95mCombineOp.CONCAT:\u001b[0m\u001b[39m \u001b[0m \u001b[2m                  \u001b[0m\n",
       "\u001b[2;36m                    \u001b[0m         \u001b[1;36m2\u001b[0m\u001b[1m>\u001b[0m\u001b[1m)\u001b[0m\u001b[1m}\u001b[0m\u001b[1m)\u001b[0m to Zarr region \u001b[1m(\u001b[0m\u001b[1;35mslice\u001b[0m\u001b[1m(\u001b[0m\u001b[1;36m0\u001b[0m, \u001b[1;36m2\u001b[0m, \u001b[3;35mNone\u001b[0m\u001b[1m)\u001b[0m,      \u001b[2m                  \u001b[0m\n",
       "\u001b[2;36m                    \u001b[0m         \u001b[1;35mslice\u001b[0m\u001b[1m(\u001b[0m\u001b[3;35mNone\u001b[0m, \u001b[3;35mNone\u001b[0m, \u001b[3;35mNone\u001b[0m\u001b[1m)\u001b[0m, \u001b[1;35mslice\u001b[0m\u001b[1m(\u001b[0m\u001b[3;35mNone\u001b[0m, \u001b[3;35mNone\u001b[0m,    \u001b[2m                  \u001b[0m\n",
       "\u001b[2;36m                    \u001b[0m         \u001b[3;35mNone\u001b[0m\u001b[1m)\u001b[0m, \u001b[1;35mslice\u001b[0m\u001b[1m(\u001b[0m\u001b[3;35mNone\u001b[0m, \u001b[3;35mNone\u001b[0m, \u001b[3;35mNone\u001b[0m\u001b[1m)\u001b[0m\u001b[1m)\u001b[0m               \u001b[2m                  \u001b[0m\n"
      ]
     },
     "metadata": {},
     "output_type": "display_data"
    },
    {
     "data": {
      "text/html": [
       "<pre style=\"white-space:pre;overflow-x:auto;line-height:normal;font-family:Menlo,'DejaVu Sans Mono',consolas,'Courier New',monospace\"><span style=\"color: #7fbfbf; text-decoration-color: #7fbfbf\">                    </span><span style=\"color: #000080; text-decoration-color: #000080\">INFO    </span> Storing variable err chunk                    <a href=\"file:///Users/rwegener/repos/pangeo-forge-recipes/pangeo_forge_recipes/recipes/xarray_zarr.py\"><span style=\"color: #7f7f7f; text-decoration-color: #7f7f7f\">xarray_zarr.py</span></a><span style=\"color: #7f7f7f; text-decoration-color: #7f7f7f\">:</span><a href=\"file:///Users/rwegener/repos/pangeo-forge-recipes/pangeo_forge_recipes/recipes/xarray_zarr.py#570\"><span style=\"color: #7f7f7f; text-decoration-color: #7f7f7f\">570</span></a>\n",
       "<span style=\"color: #7fbfbf; text-decoration-color: #7fbfbf\">                    </span>         <span style=\"color: #800080; text-decoration-color: #800080; font-weight: bold\">Index</span><span style=\"font-weight: bold\">({</span><span style=\"color: #800080; text-decoration-color: #800080; font-weight: bold\">DimIndex</span><span style=\"font-weight: bold\">(</span><span style=\"color: #808000; text-decoration-color: #808000\">name</span>=<span style=\"color: #008000; text-decoration-color: #008000\">'time'</span>, <span style=\"color: #808000; text-decoration-color: #808000\">index</span>=<span style=\"color: #008080; text-decoration-color: #008080; font-weight: bold\">0</span>,         <span style=\"color: #7f7f7f; text-decoration-color: #7f7f7f\">                  </span>\n",
       "<span style=\"color: #7fbfbf; text-decoration-color: #7fbfbf\">                    </span>         <span style=\"color: #808000; text-decoration-color: #808000\">sequence_len</span>=<span style=\"color: #008080; text-decoration-color: #008080; font-weight: bold\">1</span>, <span style=\"color: #808000; text-decoration-color: #808000\">operation</span>=<span style=\"font-weight: bold\">&lt;</span><span style=\"color: #ff00ff; text-decoration-color: #ff00ff; font-weight: bold\">CombineOp.CONCAT:</span><span style=\"color: #000000; text-decoration-color: #000000\"> </span> <span style=\"color: #7f7f7f; text-decoration-color: #7f7f7f\">                  </span>\n",
       "<span style=\"color: #7fbfbf; text-decoration-color: #7fbfbf\">                    </span>         <span style=\"color: #008080; text-decoration-color: #008080; font-weight: bold\">2</span><span style=\"font-weight: bold\">&gt;)})</span> to Zarr region <span style=\"font-weight: bold\">(</span><span style=\"color: #800080; text-decoration-color: #800080; font-weight: bold\">slice</span><span style=\"font-weight: bold\">(</span><span style=\"color: #008080; text-decoration-color: #008080; font-weight: bold\">0</span>, <span style=\"color: #008080; text-decoration-color: #008080; font-weight: bold\">2</span>, <span style=\"color: #800080; text-decoration-color: #800080; font-style: italic\">None</span><span style=\"font-weight: bold\">)</span>,      <span style=\"color: #7f7f7f; text-decoration-color: #7f7f7f\">                  </span>\n",
       "<span style=\"color: #7fbfbf; text-decoration-color: #7fbfbf\">                    </span>         <span style=\"color: #800080; text-decoration-color: #800080; font-weight: bold\">slice</span><span style=\"font-weight: bold\">(</span><span style=\"color: #800080; text-decoration-color: #800080; font-style: italic\">None</span>, <span style=\"color: #800080; text-decoration-color: #800080; font-style: italic\">None</span>, <span style=\"color: #800080; text-decoration-color: #800080; font-style: italic\">None</span><span style=\"font-weight: bold\">)</span>, <span style=\"color: #800080; text-decoration-color: #800080; font-weight: bold\">slice</span><span style=\"font-weight: bold\">(</span><span style=\"color: #800080; text-decoration-color: #800080; font-style: italic\">None</span>, <span style=\"color: #800080; text-decoration-color: #800080; font-style: italic\">None</span>,    <span style=\"color: #7f7f7f; text-decoration-color: #7f7f7f\">                  </span>\n",
       "<span style=\"color: #7fbfbf; text-decoration-color: #7fbfbf\">                    </span>         <span style=\"color: #800080; text-decoration-color: #800080; font-style: italic\">None</span><span style=\"font-weight: bold\">)</span>, <span style=\"color: #800080; text-decoration-color: #800080; font-weight: bold\">slice</span><span style=\"font-weight: bold\">(</span><span style=\"color: #800080; text-decoration-color: #800080; font-style: italic\">None</span>, <span style=\"color: #800080; text-decoration-color: #800080; font-style: italic\">None</span>, <span style=\"color: #800080; text-decoration-color: #800080; font-style: italic\">None</span><span style=\"font-weight: bold\">))</span>               <span style=\"color: #7f7f7f; text-decoration-color: #7f7f7f\">                  </span>\n",
       "</pre>\n"
      ],
      "text/plain": [
       "\u001b[2;36m                   \u001b[0m\u001b[2;36m \u001b[0m\u001b[34mINFO    \u001b[0m Storing variable err chunk                    \u001b]8;id=449680;file:///Users/rwegener/repos/pangeo-forge-recipes/pangeo_forge_recipes/recipes/xarray_zarr.py\u001b\\\u001b[2mxarray_zarr.py\u001b[0m\u001b]8;;\u001b\\\u001b[2m:\u001b[0m\u001b]8;id=940608;file:///Users/rwegener/repos/pangeo-forge-recipes/pangeo_forge_recipes/recipes/xarray_zarr.py#570\u001b\\\u001b[2m570\u001b[0m\u001b]8;;\u001b\\\n",
       "\u001b[2;36m                    \u001b[0m         \u001b[1;35mIndex\u001b[0m\u001b[1m(\u001b[0m\u001b[1m{\u001b[0m\u001b[1;35mDimIndex\u001b[0m\u001b[1m(\u001b[0m\u001b[33mname\u001b[0m=\u001b[32m'time'\u001b[0m, \u001b[33mindex\u001b[0m=\u001b[1;36m0\u001b[0m,         \u001b[2m                  \u001b[0m\n",
       "\u001b[2;36m                    \u001b[0m         \u001b[33msequence_len\u001b[0m=\u001b[1;36m1\u001b[0m, \u001b[33moperation\u001b[0m=\u001b[1m<\u001b[0m\u001b[1;95mCombineOp.CONCAT:\u001b[0m\u001b[39m \u001b[0m \u001b[2m                  \u001b[0m\n",
       "\u001b[2;36m                    \u001b[0m         \u001b[1;36m2\u001b[0m\u001b[1m>\u001b[0m\u001b[1m)\u001b[0m\u001b[1m}\u001b[0m\u001b[1m)\u001b[0m to Zarr region \u001b[1m(\u001b[0m\u001b[1;35mslice\u001b[0m\u001b[1m(\u001b[0m\u001b[1;36m0\u001b[0m, \u001b[1;36m2\u001b[0m, \u001b[3;35mNone\u001b[0m\u001b[1m)\u001b[0m,      \u001b[2m                  \u001b[0m\n",
       "\u001b[2;36m                    \u001b[0m         \u001b[1;35mslice\u001b[0m\u001b[1m(\u001b[0m\u001b[3;35mNone\u001b[0m, \u001b[3;35mNone\u001b[0m, \u001b[3;35mNone\u001b[0m\u001b[1m)\u001b[0m, \u001b[1;35mslice\u001b[0m\u001b[1m(\u001b[0m\u001b[3;35mNone\u001b[0m, \u001b[3;35mNone\u001b[0m,    \u001b[2m                  \u001b[0m\n",
       "\u001b[2;36m                    \u001b[0m         \u001b[3;35mNone\u001b[0m\u001b[1m)\u001b[0m, \u001b[1;35mslice\u001b[0m\u001b[1m(\u001b[0m\u001b[3;35mNone\u001b[0m, \u001b[3;35mNone\u001b[0m, \u001b[3;35mNone\u001b[0m\u001b[1m)\u001b[0m\u001b[1m)\u001b[0m               \u001b[2m                  \u001b[0m\n"
      ]
     },
     "metadata": {},
     "output_type": "display_data"
    },
    {
     "data": {
      "text/html": [
       "<pre style=\"white-space:pre;overflow-x:auto;line-height:normal;font-family:Menlo,'DejaVu Sans Mono',consolas,'Courier New',monospace\"><span style=\"color: #7fbfbf; text-decoration-color: #7fbfbf\">                    </span><span style=\"color: #000080; text-decoration-color: #000080\">INFO    </span> Storing variable ice chunk                    <a href=\"file:///Users/rwegener/repos/pangeo-forge-recipes/pangeo_forge_recipes/recipes/xarray_zarr.py\"><span style=\"color: #7f7f7f; text-decoration-color: #7f7f7f\">xarray_zarr.py</span></a><span style=\"color: #7f7f7f; text-decoration-color: #7f7f7f\">:</span><a href=\"file:///Users/rwegener/repos/pangeo-forge-recipes/pangeo_forge_recipes/recipes/xarray_zarr.py#570\"><span style=\"color: #7f7f7f; text-decoration-color: #7f7f7f\">570</span></a>\n",
       "<span style=\"color: #7fbfbf; text-decoration-color: #7fbfbf\">                    </span>         <span style=\"color: #800080; text-decoration-color: #800080; font-weight: bold\">Index</span><span style=\"font-weight: bold\">({</span><span style=\"color: #800080; text-decoration-color: #800080; font-weight: bold\">DimIndex</span><span style=\"font-weight: bold\">(</span><span style=\"color: #808000; text-decoration-color: #808000\">name</span>=<span style=\"color: #008000; text-decoration-color: #008000\">'time'</span>, <span style=\"color: #808000; text-decoration-color: #808000\">index</span>=<span style=\"color: #008080; text-decoration-color: #008080; font-weight: bold\">0</span>,         <span style=\"color: #7f7f7f; text-decoration-color: #7f7f7f\">                  </span>\n",
       "<span style=\"color: #7fbfbf; text-decoration-color: #7fbfbf\">                    </span>         <span style=\"color: #808000; text-decoration-color: #808000\">sequence_len</span>=<span style=\"color: #008080; text-decoration-color: #008080; font-weight: bold\">1</span>, <span style=\"color: #808000; text-decoration-color: #808000\">operation</span>=<span style=\"font-weight: bold\">&lt;</span><span style=\"color: #ff00ff; text-decoration-color: #ff00ff; font-weight: bold\">CombineOp.CONCAT:</span><span style=\"color: #000000; text-decoration-color: #000000\"> </span> <span style=\"color: #7f7f7f; text-decoration-color: #7f7f7f\">                  </span>\n",
       "<span style=\"color: #7fbfbf; text-decoration-color: #7fbfbf\">                    </span>         <span style=\"color: #008080; text-decoration-color: #008080; font-weight: bold\">2</span><span style=\"font-weight: bold\">&gt;)})</span> to Zarr region <span style=\"font-weight: bold\">(</span><span style=\"color: #800080; text-decoration-color: #800080; font-weight: bold\">slice</span><span style=\"font-weight: bold\">(</span><span style=\"color: #008080; text-decoration-color: #008080; font-weight: bold\">0</span>, <span style=\"color: #008080; text-decoration-color: #008080; font-weight: bold\">2</span>, <span style=\"color: #800080; text-decoration-color: #800080; font-style: italic\">None</span><span style=\"font-weight: bold\">)</span>,      <span style=\"color: #7f7f7f; text-decoration-color: #7f7f7f\">                  </span>\n",
       "<span style=\"color: #7fbfbf; text-decoration-color: #7fbfbf\">                    </span>         <span style=\"color: #800080; text-decoration-color: #800080; font-weight: bold\">slice</span><span style=\"font-weight: bold\">(</span><span style=\"color: #800080; text-decoration-color: #800080; font-style: italic\">None</span>, <span style=\"color: #800080; text-decoration-color: #800080; font-style: italic\">None</span>, <span style=\"color: #800080; text-decoration-color: #800080; font-style: italic\">None</span><span style=\"font-weight: bold\">)</span>, <span style=\"color: #800080; text-decoration-color: #800080; font-weight: bold\">slice</span><span style=\"font-weight: bold\">(</span><span style=\"color: #800080; text-decoration-color: #800080; font-style: italic\">None</span>, <span style=\"color: #800080; text-decoration-color: #800080; font-style: italic\">None</span>,    <span style=\"color: #7f7f7f; text-decoration-color: #7f7f7f\">                  </span>\n",
       "<span style=\"color: #7fbfbf; text-decoration-color: #7fbfbf\">                    </span>         <span style=\"color: #800080; text-decoration-color: #800080; font-style: italic\">None</span><span style=\"font-weight: bold\">)</span>, <span style=\"color: #800080; text-decoration-color: #800080; font-weight: bold\">slice</span><span style=\"font-weight: bold\">(</span><span style=\"color: #800080; text-decoration-color: #800080; font-style: italic\">None</span>, <span style=\"color: #800080; text-decoration-color: #800080; font-style: italic\">None</span>, <span style=\"color: #800080; text-decoration-color: #800080; font-style: italic\">None</span><span style=\"font-weight: bold\">))</span>               <span style=\"color: #7f7f7f; text-decoration-color: #7f7f7f\">                  </span>\n",
       "</pre>\n"
      ],
      "text/plain": [
       "\u001b[2;36m                   \u001b[0m\u001b[2;36m \u001b[0m\u001b[34mINFO    \u001b[0m Storing variable ice chunk                    \u001b]8;id=101736;file:///Users/rwegener/repos/pangeo-forge-recipes/pangeo_forge_recipes/recipes/xarray_zarr.py\u001b\\\u001b[2mxarray_zarr.py\u001b[0m\u001b]8;;\u001b\\\u001b[2m:\u001b[0m\u001b]8;id=706446;file:///Users/rwegener/repos/pangeo-forge-recipes/pangeo_forge_recipes/recipes/xarray_zarr.py#570\u001b\\\u001b[2m570\u001b[0m\u001b]8;;\u001b\\\n",
       "\u001b[2;36m                    \u001b[0m         \u001b[1;35mIndex\u001b[0m\u001b[1m(\u001b[0m\u001b[1m{\u001b[0m\u001b[1;35mDimIndex\u001b[0m\u001b[1m(\u001b[0m\u001b[33mname\u001b[0m=\u001b[32m'time'\u001b[0m, \u001b[33mindex\u001b[0m=\u001b[1;36m0\u001b[0m,         \u001b[2m                  \u001b[0m\n",
       "\u001b[2;36m                    \u001b[0m         \u001b[33msequence_len\u001b[0m=\u001b[1;36m1\u001b[0m, \u001b[33moperation\u001b[0m=\u001b[1m<\u001b[0m\u001b[1;95mCombineOp.CONCAT:\u001b[0m\u001b[39m \u001b[0m \u001b[2m                  \u001b[0m\n",
       "\u001b[2;36m                    \u001b[0m         \u001b[1;36m2\u001b[0m\u001b[1m>\u001b[0m\u001b[1m)\u001b[0m\u001b[1m}\u001b[0m\u001b[1m)\u001b[0m to Zarr region \u001b[1m(\u001b[0m\u001b[1;35mslice\u001b[0m\u001b[1m(\u001b[0m\u001b[1;36m0\u001b[0m, \u001b[1;36m2\u001b[0m, \u001b[3;35mNone\u001b[0m\u001b[1m)\u001b[0m,      \u001b[2m                  \u001b[0m\n",
       "\u001b[2;36m                    \u001b[0m         \u001b[1;35mslice\u001b[0m\u001b[1m(\u001b[0m\u001b[3;35mNone\u001b[0m, \u001b[3;35mNone\u001b[0m, \u001b[3;35mNone\u001b[0m\u001b[1m)\u001b[0m, \u001b[1;35mslice\u001b[0m\u001b[1m(\u001b[0m\u001b[3;35mNone\u001b[0m, \u001b[3;35mNone\u001b[0m,    \u001b[2m                  \u001b[0m\n",
       "\u001b[2;36m                    \u001b[0m         \u001b[3;35mNone\u001b[0m\u001b[1m)\u001b[0m, \u001b[1;35mslice\u001b[0m\u001b[1m(\u001b[0m\u001b[3;35mNone\u001b[0m, \u001b[3;35mNone\u001b[0m, \u001b[3;35mNone\u001b[0m\u001b[1m)\u001b[0m\u001b[1m)\u001b[0m               \u001b[2m                  \u001b[0m\n"
      ]
     },
     "metadata": {},
     "output_type": "display_data"
    },
    {
     "data": {
      "text/html": [
       "<pre style=\"white-space:pre;overflow-x:auto;line-height:normal;font-family:Menlo,'DejaVu Sans Mono',consolas,'Courier New',monospace\"><span style=\"color: #7fbfbf; text-decoration-color: #7fbfbf\">                    </span><span style=\"color: #000080; text-decoration-color: #000080\">INFO    </span> Storing variable sst chunk                    <a href=\"file:///Users/rwegener/repos/pangeo-forge-recipes/pangeo_forge_recipes/recipes/xarray_zarr.py\"><span style=\"color: #7f7f7f; text-decoration-color: #7f7f7f\">xarray_zarr.py</span></a><span style=\"color: #7f7f7f; text-decoration-color: #7f7f7f\">:</span><a href=\"file:///Users/rwegener/repos/pangeo-forge-recipes/pangeo_forge_recipes/recipes/xarray_zarr.py#570\"><span style=\"color: #7f7f7f; text-decoration-color: #7f7f7f\">570</span></a>\n",
       "<span style=\"color: #7fbfbf; text-decoration-color: #7fbfbf\">                    </span>         <span style=\"color: #800080; text-decoration-color: #800080; font-weight: bold\">Index</span><span style=\"font-weight: bold\">({</span><span style=\"color: #800080; text-decoration-color: #800080; font-weight: bold\">DimIndex</span><span style=\"font-weight: bold\">(</span><span style=\"color: #808000; text-decoration-color: #808000\">name</span>=<span style=\"color: #008000; text-decoration-color: #008000\">'time'</span>, <span style=\"color: #808000; text-decoration-color: #808000\">index</span>=<span style=\"color: #008080; text-decoration-color: #008080; font-weight: bold\">0</span>,         <span style=\"color: #7f7f7f; text-decoration-color: #7f7f7f\">                  </span>\n",
       "<span style=\"color: #7fbfbf; text-decoration-color: #7fbfbf\">                    </span>         <span style=\"color: #808000; text-decoration-color: #808000\">sequence_len</span>=<span style=\"color: #008080; text-decoration-color: #008080; font-weight: bold\">1</span>, <span style=\"color: #808000; text-decoration-color: #808000\">operation</span>=<span style=\"font-weight: bold\">&lt;</span><span style=\"color: #ff00ff; text-decoration-color: #ff00ff; font-weight: bold\">CombineOp.CONCAT:</span><span style=\"color: #000000; text-decoration-color: #000000\"> </span> <span style=\"color: #7f7f7f; text-decoration-color: #7f7f7f\">                  </span>\n",
       "<span style=\"color: #7fbfbf; text-decoration-color: #7fbfbf\">                    </span>         <span style=\"color: #008080; text-decoration-color: #008080; font-weight: bold\">2</span><span style=\"font-weight: bold\">&gt;)})</span> to Zarr region <span style=\"font-weight: bold\">(</span><span style=\"color: #800080; text-decoration-color: #800080; font-weight: bold\">slice</span><span style=\"font-weight: bold\">(</span><span style=\"color: #008080; text-decoration-color: #008080; font-weight: bold\">0</span>, <span style=\"color: #008080; text-decoration-color: #008080; font-weight: bold\">2</span>, <span style=\"color: #800080; text-decoration-color: #800080; font-style: italic\">None</span><span style=\"font-weight: bold\">)</span>,      <span style=\"color: #7f7f7f; text-decoration-color: #7f7f7f\">                  </span>\n",
       "<span style=\"color: #7fbfbf; text-decoration-color: #7fbfbf\">                    </span>         <span style=\"color: #800080; text-decoration-color: #800080; font-weight: bold\">slice</span><span style=\"font-weight: bold\">(</span><span style=\"color: #800080; text-decoration-color: #800080; font-style: italic\">None</span>, <span style=\"color: #800080; text-decoration-color: #800080; font-style: italic\">None</span>, <span style=\"color: #800080; text-decoration-color: #800080; font-style: italic\">None</span><span style=\"font-weight: bold\">)</span>, <span style=\"color: #800080; text-decoration-color: #800080; font-weight: bold\">slice</span><span style=\"font-weight: bold\">(</span><span style=\"color: #800080; text-decoration-color: #800080; font-style: italic\">None</span>, <span style=\"color: #800080; text-decoration-color: #800080; font-style: italic\">None</span>,    <span style=\"color: #7f7f7f; text-decoration-color: #7f7f7f\">                  </span>\n",
       "<span style=\"color: #7fbfbf; text-decoration-color: #7fbfbf\">                    </span>         <span style=\"color: #800080; text-decoration-color: #800080; font-style: italic\">None</span><span style=\"font-weight: bold\">)</span>, <span style=\"color: #800080; text-decoration-color: #800080; font-weight: bold\">slice</span><span style=\"font-weight: bold\">(</span><span style=\"color: #800080; text-decoration-color: #800080; font-style: italic\">None</span>, <span style=\"color: #800080; text-decoration-color: #800080; font-style: italic\">None</span>, <span style=\"color: #800080; text-decoration-color: #800080; font-style: italic\">None</span><span style=\"font-weight: bold\">))</span>               <span style=\"color: #7f7f7f; text-decoration-color: #7f7f7f\">                  </span>\n",
       "</pre>\n"
      ],
      "text/plain": [
       "\u001b[2;36m                   \u001b[0m\u001b[2;36m \u001b[0m\u001b[34mINFO    \u001b[0m Storing variable sst chunk                    \u001b]8;id=667128;file:///Users/rwegener/repos/pangeo-forge-recipes/pangeo_forge_recipes/recipes/xarray_zarr.py\u001b\\\u001b[2mxarray_zarr.py\u001b[0m\u001b]8;;\u001b\\\u001b[2m:\u001b[0m\u001b]8;id=13071;file:///Users/rwegener/repos/pangeo-forge-recipes/pangeo_forge_recipes/recipes/xarray_zarr.py#570\u001b\\\u001b[2m570\u001b[0m\u001b]8;;\u001b\\\n",
       "\u001b[2;36m                    \u001b[0m         \u001b[1;35mIndex\u001b[0m\u001b[1m(\u001b[0m\u001b[1m{\u001b[0m\u001b[1;35mDimIndex\u001b[0m\u001b[1m(\u001b[0m\u001b[33mname\u001b[0m=\u001b[32m'time'\u001b[0m, \u001b[33mindex\u001b[0m=\u001b[1;36m0\u001b[0m,         \u001b[2m                  \u001b[0m\n",
       "\u001b[2;36m                    \u001b[0m         \u001b[33msequence_len\u001b[0m=\u001b[1;36m1\u001b[0m, \u001b[33moperation\u001b[0m=\u001b[1m<\u001b[0m\u001b[1;95mCombineOp.CONCAT:\u001b[0m\u001b[39m \u001b[0m \u001b[2m                  \u001b[0m\n",
       "\u001b[2;36m                    \u001b[0m         \u001b[1;36m2\u001b[0m\u001b[1m>\u001b[0m\u001b[1m)\u001b[0m\u001b[1m}\u001b[0m\u001b[1m)\u001b[0m to Zarr region \u001b[1m(\u001b[0m\u001b[1;35mslice\u001b[0m\u001b[1m(\u001b[0m\u001b[1;36m0\u001b[0m, \u001b[1;36m2\u001b[0m, \u001b[3;35mNone\u001b[0m\u001b[1m)\u001b[0m,      \u001b[2m                  \u001b[0m\n",
       "\u001b[2;36m                    \u001b[0m         \u001b[1;35mslice\u001b[0m\u001b[1m(\u001b[0m\u001b[3;35mNone\u001b[0m, \u001b[3;35mNone\u001b[0m, \u001b[3;35mNone\u001b[0m\u001b[1m)\u001b[0m, \u001b[1;35mslice\u001b[0m\u001b[1m(\u001b[0m\u001b[3;35mNone\u001b[0m, \u001b[3;35mNone\u001b[0m,    \u001b[2m                  \u001b[0m\n",
       "\u001b[2;36m                    \u001b[0m         \u001b[3;35mNone\u001b[0m\u001b[1m)\u001b[0m, \u001b[1;35mslice\u001b[0m\u001b[1m(\u001b[0m\u001b[3;35mNone\u001b[0m, \u001b[3;35mNone\u001b[0m, \u001b[3;35mNone\u001b[0m\u001b[1m)\u001b[0m\u001b[1m)\u001b[0m               \u001b[2m                  \u001b[0m\n"
      ]
     },
     "metadata": {},
     "output_type": "display_data"
    },
    {
     "data": {
      "text/html": [
       "<pre style=\"white-space:pre;overflow-x:auto;line-height:normal;font-family:Menlo,'DejaVu Sans Mono',consolas,'Courier New',monospace\"><span style=\"color: #7fbfbf; text-decoration-color: #7fbfbf\">                    </span><span style=\"color: #000080; text-decoration-color: #000080\">INFO    </span> Storing variable time chunk                   <a href=\"file:///Users/rwegener/repos/pangeo-forge-recipes/pangeo_forge_recipes/recipes/xarray_zarr.py\"><span style=\"color: #7f7f7f; text-decoration-color: #7f7f7f\">xarray_zarr.py</span></a><span style=\"color: #7f7f7f; text-decoration-color: #7f7f7f\">:</span><a href=\"file:///Users/rwegener/repos/pangeo-forge-recipes/pangeo_forge_recipes/recipes/xarray_zarr.py#570\"><span style=\"color: #7f7f7f; text-decoration-color: #7f7f7f\">570</span></a>\n",
       "<span style=\"color: #7fbfbf; text-decoration-color: #7fbfbf\">                    </span>         <span style=\"color: #800080; text-decoration-color: #800080; font-weight: bold\">Index</span><span style=\"font-weight: bold\">({</span><span style=\"color: #800080; text-decoration-color: #800080; font-weight: bold\">DimIndex</span><span style=\"font-weight: bold\">(</span><span style=\"color: #808000; text-decoration-color: #808000\">name</span>=<span style=\"color: #008000; text-decoration-color: #008000\">'time'</span>, <span style=\"color: #808000; text-decoration-color: #808000\">index</span>=<span style=\"color: #008080; text-decoration-color: #008080; font-weight: bold\">0</span>,         <span style=\"color: #7f7f7f; text-decoration-color: #7f7f7f\">                  </span>\n",
       "<span style=\"color: #7fbfbf; text-decoration-color: #7fbfbf\">                    </span>         <span style=\"color: #808000; text-decoration-color: #808000\">sequence_len</span>=<span style=\"color: #008080; text-decoration-color: #008080; font-weight: bold\">1</span>, <span style=\"color: #808000; text-decoration-color: #808000\">operation</span>=<span style=\"font-weight: bold\">&lt;</span><span style=\"color: #ff00ff; text-decoration-color: #ff00ff; font-weight: bold\">CombineOp.CONCAT:</span><span style=\"color: #000000; text-decoration-color: #000000\"> </span> <span style=\"color: #7f7f7f; text-decoration-color: #7f7f7f\">                  </span>\n",
       "<span style=\"color: #7fbfbf; text-decoration-color: #7fbfbf\">                    </span>         <span style=\"color: #008080; text-decoration-color: #008080; font-weight: bold\">2</span><span style=\"font-weight: bold\">&gt;)})</span> to Zarr region <span style=\"font-weight: bold\">(</span><span style=\"color: #800080; text-decoration-color: #800080; font-weight: bold\">slice</span><span style=\"font-weight: bold\">(</span><span style=\"color: #008080; text-decoration-color: #008080; font-weight: bold\">0</span>, <span style=\"color: #008080; text-decoration-color: #008080; font-weight: bold\">2</span>, <span style=\"color: #800080; text-decoration-color: #800080; font-style: italic\">None</span><span style=\"font-weight: bold\">)</span>,<span style=\"font-weight: bold\">)</span>     <span style=\"color: #7f7f7f; text-decoration-color: #7f7f7f\">                  </span>\n",
       "</pre>\n"
      ],
      "text/plain": [
       "\u001b[2;36m                   \u001b[0m\u001b[2;36m \u001b[0m\u001b[34mINFO    \u001b[0m Storing variable time chunk                   \u001b]8;id=634033;file:///Users/rwegener/repos/pangeo-forge-recipes/pangeo_forge_recipes/recipes/xarray_zarr.py\u001b\\\u001b[2mxarray_zarr.py\u001b[0m\u001b]8;;\u001b\\\u001b[2m:\u001b[0m\u001b]8;id=124417;file:///Users/rwegener/repos/pangeo-forge-recipes/pangeo_forge_recipes/recipes/xarray_zarr.py#570\u001b\\\u001b[2m570\u001b[0m\u001b]8;;\u001b\\\n",
       "\u001b[2;36m                    \u001b[0m         \u001b[1;35mIndex\u001b[0m\u001b[1m(\u001b[0m\u001b[1m{\u001b[0m\u001b[1;35mDimIndex\u001b[0m\u001b[1m(\u001b[0m\u001b[33mname\u001b[0m=\u001b[32m'time'\u001b[0m, \u001b[33mindex\u001b[0m=\u001b[1;36m0\u001b[0m,         \u001b[2m                  \u001b[0m\n",
       "\u001b[2;36m                    \u001b[0m         \u001b[33msequence_len\u001b[0m=\u001b[1;36m1\u001b[0m, \u001b[33moperation\u001b[0m=\u001b[1m<\u001b[0m\u001b[1;95mCombineOp.CONCAT:\u001b[0m\u001b[39m \u001b[0m \u001b[2m                  \u001b[0m\n",
       "\u001b[2;36m                    \u001b[0m         \u001b[1;36m2\u001b[0m\u001b[1m>\u001b[0m\u001b[1m)\u001b[0m\u001b[1m}\u001b[0m\u001b[1m)\u001b[0m to Zarr region \u001b[1m(\u001b[0m\u001b[1;35mslice\u001b[0m\u001b[1m(\u001b[0m\u001b[1;36m0\u001b[0m, \u001b[1;36m2\u001b[0m, \u001b[3;35mNone\u001b[0m\u001b[1m)\u001b[0m,\u001b[1m)\u001b[0m     \u001b[2m                  \u001b[0m\n"
      ]
     },
     "metadata": {},
     "output_type": "display_data"
    },
    {
     "data": {
      "text/html": [
       "<pre style=\"white-space:pre;overflow-x:auto;line-height:normal;font-family:Menlo,'DejaVu Sans Mono',consolas,'Courier New',monospace\"><span style=\"color: #7fbfbf; text-decoration-color: #7fbfbf\">                    </span><span style=\"color: #000080; text-decoration-color: #000080\">INFO    </span> Consolidating dimension coordinate arrays     <a href=\"file:///Users/rwegener/repos/pangeo-forge-recipes/pangeo_forge_recipes/recipes/xarray_zarr.py\"><span style=\"color: #7f7f7f; text-decoration-color: #7f7f7f\">xarray_zarr.py</span></a><span style=\"color: #7f7f7f; text-decoration-color: #7f7f7f\">:</span><a href=\"file:///Users/rwegener/repos/pangeo-forge-recipes/pangeo_forge_recipes/recipes/xarray_zarr.py#587\"><span style=\"color: #7f7f7f; text-decoration-color: #7f7f7f\">587</span></a>\n",
       "</pre>\n"
      ],
      "text/plain": [
       "\u001b[2;36m                   \u001b[0m\u001b[2;36m \u001b[0m\u001b[34mINFO    \u001b[0m Consolidating dimension coordinate arrays     \u001b]8;id=105587;file:///Users/rwegener/repos/pangeo-forge-recipes/pangeo_forge_recipes/recipes/xarray_zarr.py\u001b\\\u001b[2mxarray_zarr.py\u001b[0m\u001b]8;;\u001b\\\u001b[2m:\u001b[0m\u001b]8;id=147109;file:///Users/rwegener/repos/pangeo-forge-recipes/pangeo_forge_recipes/recipes/xarray_zarr.py#587\u001b\\\u001b[2m587\u001b[0m\u001b]8;;\u001b\\\n"
      ]
     },
     "metadata": {},
     "output_type": "display_data"
    },
    {
     "data": {
      "text/html": [
       "<pre style=\"white-space:pre;overflow-x:auto;line-height:normal;font-family:Menlo,'DejaVu Sans Mono',consolas,'Courier New',monospace\"><span style=\"color: #7fbfbf; text-decoration-color: #7fbfbf\">                    </span><span style=\"color: #000080; text-decoration-color: #000080\">INFO    </span> Consolidating Zarr metadata                   <a href=\"file:///Users/rwegener/repos/pangeo-forge-recipes/pangeo_forge_recipes/recipes/xarray_zarr.py\"><span style=\"color: #7f7f7f; text-decoration-color: #7f7f7f\">xarray_zarr.py</span></a><span style=\"color: #7f7f7f; text-decoration-color: #7f7f7f\">:</span><a href=\"file:///Users/rwegener/repos/pangeo-forge-recipes/pangeo_forge_recipes/recipes/xarray_zarr.py#611\"><span style=\"color: #7f7f7f; text-decoration-color: #7f7f7f\">611</span></a>\n",
       "</pre>\n"
      ],
      "text/plain": [
       "\u001b[2;36m                   \u001b[0m\u001b[2;36m \u001b[0m\u001b[34mINFO    \u001b[0m Consolidating Zarr metadata                   \u001b]8;id=248029;file:///Users/rwegener/repos/pangeo-forge-recipes/pangeo_forge_recipes/recipes/xarray_zarr.py\u001b\\\u001b[2mxarray_zarr.py\u001b[0m\u001b]8;;\u001b\\\u001b[2m:\u001b[0m\u001b]8;id=988664;file:///Users/rwegener/repos/pangeo-forge-recipes/pangeo_forge_recipes/recipes/xarray_zarr.py#611\u001b\\\u001b[2m611\u001b[0m\u001b]8;;\u001b\\\n"
      ]
     },
     "metadata": {},
     "output_type": "display_data"
    }
   ],
   "source": [
    "run_function()"
   ]
  },
  {
   "cell_type": "markdown",
   "metadata": {},
   "source": [
    "## Check output\n",
    "\n",
    "Now that the process has run we can use `xarray` to inspect the output data. The `.target_mapper` property of a recipe object tells us where the data is stored. We can use that, along with the `xr.open_zarr()` function of `xarray`, to open up the new dataset."
   ]
  },
  {
   "cell_type": "code",
   "execution_count": 10,
   "metadata": {},
   "outputs": [],
   "source": [
    "import xarray as xr"
   ]
  },
  {
   "cell_type": "code",
   "execution_count": 11,
   "metadata": {},
   "outputs": [
    {
     "data": {
      "text/html": [
       "<div><svg style=\"position: absolute; width: 0; height: 0; overflow: hidden\">\n",
       "<defs>\n",
       "<symbol id=\"icon-database\" viewBox=\"0 0 32 32\">\n",
       "<path d=\"M16 0c-8.837 0-16 2.239-16 5v4c0 2.761 7.163 5 16 5s16-2.239 16-5v-4c0-2.761-7.163-5-16-5z\"></path>\n",
       "<path d=\"M16 17c-8.837 0-16-2.239-16-5v6c0 2.761 7.163 5 16 5s16-2.239 16-5v-6c0 2.761-7.163 5-16 5z\"></path>\n",
       "<path d=\"M16 26c-8.837 0-16-2.239-16-5v6c0 2.761 7.163 5 16 5s16-2.239 16-5v-6c0 2.761-7.163 5-16 5z\"></path>\n",
       "</symbol>\n",
       "<symbol id=\"icon-file-text2\" viewBox=\"0 0 32 32\">\n",
       "<path d=\"M28.681 7.159c-0.694-0.947-1.662-2.053-2.724-3.116s-2.169-2.030-3.116-2.724c-1.612-1.182-2.393-1.319-2.841-1.319h-15.5c-1.378 0-2.5 1.121-2.5 2.5v27c0 1.378 1.122 2.5 2.5 2.5h23c1.378 0 2.5-1.122 2.5-2.5v-19.5c0-0.448-0.137-1.23-1.319-2.841zM24.543 5.457c0.959 0.959 1.712 1.825 2.268 2.543h-4.811v-4.811c0.718 0.556 1.584 1.309 2.543 2.268zM28 29.5c0 0.271-0.229 0.5-0.5 0.5h-23c-0.271 0-0.5-0.229-0.5-0.5v-27c0-0.271 0.229-0.5 0.5-0.5 0 0 15.499-0 15.5 0v7c0 0.552 0.448 1 1 1h7v19.5z\"></path>\n",
       "<path d=\"M23 26h-14c-0.552 0-1-0.448-1-1s0.448-1 1-1h14c0.552 0 1 0.448 1 1s-0.448 1-1 1z\"></path>\n",
       "<path d=\"M23 22h-14c-0.552 0-1-0.448-1-1s0.448-1 1-1h14c0.552 0 1 0.448 1 1s-0.448 1-1 1z\"></path>\n",
       "<path d=\"M23 18h-14c-0.552 0-1-0.448-1-1s0.448-1 1-1h14c0.552 0 1 0.448 1 1s-0.448 1-1 1z\"></path>\n",
       "</symbol>\n",
       "</defs>\n",
       "</svg>\n",
       "<style>/* CSS stylesheet for displaying xarray objects in jupyterlab.\n",
       " *\n",
       " */\n",
       "\n",
       ":root {\n",
       "  --xr-font-color0: var(--jp-content-font-color0, rgba(0, 0, 0, 1));\n",
       "  --xr-font-color2: var(--jp-content-font-color2, rgba(0, 0, 0, 0.54));\n",
       "  --xr-font-color3: var(--jp-content-font-color3, rgba(0, 0, 0, 0.38));\n",
       "  --xr-border-color: var(--jp-border-color2, #e0e0e0);\n",
       "  --xr-disabled-color: var(--jp-layout-color3, #bdbdbd);\n",
       "  --xr-background-color: var(--jp-layout-color0, white);\n",
       "  --xr-background-color-row-even: var(--jp-layout-color1, white);\n",
       "  --xr-background-color-row-odd: var(--jp-layout-color2, #eeeeee);\n",
       "}\n",
       "\n",
       "html[theme=dark],\n",
       "body.vscode-dark {\n",
       "  --xr-font-color0: rgba(255, 255, 255, 1);\n",
       "  --xr-font-color2: rgba(255, 255, 255, 0.54);\n",
       "  --xr-font-color3: rgba(255, 255, 255, 0.38);\n",
       "  --xr-border-color: #1F1F1F;\n",
       "  --xr-disabled-color: #515151;\n",
       "  --xr-background-color: #111111;\n",
       "  --xr-background-color-row-even: #111111;\n",
       "  --xr-background-color-row-odd: #313131;\n",
       "}\n",
       "\n",
       ".xr-wrap {\n",
       "  display: block !important;\n",
       "  min-width: 300px;\n",
       "  max-width: 700px;\n",
       "}\n",
       "\n",
       ".xr-text-repr-fallback {\n",
       "  /* fallback to plain text repr when CSS is not injected (untrusted notebook) */\n",
       "  display: none;\n",
       "}\n",
       "\n",
       ".xr-header {\n",
       "  padding-top: 6px;\n",
       "  padding-bottom: 6px;\n",
       "  margin-bottom: 4px;\n",
       "  border-bottom: solid 1px var(--xr-border-color);\n",
       "}\n",
       "\n",
       ".xr-header > div,\n",
       ".xr-header > ul {\n",
       "  display: inline;\n",
       "  margin-top: 0;\n",
       "  margin-bottom: 0;\n",
       "}\n",
       "\n",
       ".xr-obj-type,\n",
       ".xr-array-name {\n",
       "  margin-left: 2px;\n",
       "  margin-right: 10px;\n",
       "}\n",
       "\n",
       ".xr-obj-type {\n",
       "  color: var(--xr-font-color2);\n",
       "}\n",
       "\n",
       ".xr-sections {\n",
       "  padding-left: 0 !important;\n",
       "  display: grid;\n",
       "  grid-template-columns: 150px auto auto 1fr 20px 20px;\n",
       "}\n",
       "\n",
       ".xr-section-item {\n",
       "  display: contents;\n",
       "}\n",
       "\n",
       ".xr-section-item input {\n",
       "  display: none;\n",
       "}\n",
       "\n",
       ".xr-section-item input + label {\n",
       "  color: var(--xr-disabled-color);\n",
       "}\n",
       "\n",
       ".xr-section-item input:enabled + label {\n",
       "  cursor: pointer;\n",
       "  color: var(--xr-font-color2);\n",
       "}\n",
       "\n",
       ".xr-section-item input:enabled + label:hover {\n",
       "  color: var(--xr-font-color0);\n",
       "}\n",
       "\n",
       ".xr-section-summary {\n",
       "  grid-column: 1;\n",
       "  color: var(--xr-font-color2);\n",
       "  font-weight: 500;\n",
       "}\n",
       "\n",
       ".xr-section-summary > span {\n",
       "  display: inline-block;\n",
       "  padding-left: 0.5em;\n",
       "}\n",
       "\n",
       ".xr-section-summary-in:disabled + label {\n",
       "  color: var(--xr-font-color2);\n",
       "}\n",
       "\n",
       ".xr-section-summary-in + label:before {\n",
       "  display: inline-block;\n",
       "  content: '►';\n",
       "  font-size: 11px;\n",
       "  width: 15px;\n",
       "  text-align: center;\n",
       "}\n",
       "\n",
       ".xr-section-summary-in:disabled + label:before {\n",
       "  color: var(--xr-disabled-color);\n",
       "}\n",
       "\n",
       ".xr-section-summary-in:checked + label:before {\n",
       "  content: '▼';\n",
       "}\n",
       "\n",
       ".xr-section-summary-in:checked + label > span {\n",
       "  display: none;\n",
       "}\n",
       "\n",
       ".xr-section-summary,\n",
       ".xr-section-inline-details {\n",
       "  padding-top: 4px;\n",
       "  padding-bottom: 4px;\n",
       "}\n",
       "\n",
       ".xr-section-inline-details {\n",
       "  grid-column: 2 / -1;\n",
       "}\n",
       "\n",
       ".xr-section-details {\n",
       "  display: none;\n",
       "  grid-column: 1 / -1;\n",
       "  margin-bottom: 5px;\n",
       "}\n",
       "\n",
       ".xr-section-summary-in:checked ~ .xr-section-details {\n",
       "  display: contents;\n",
       "}\n",
       "\n",
       ".xr-array-wrap {\n",
       "  grid-column: 1 / -1;\n",
       "  display: grid;\n",
       "  grid-template-columns: 20px auto;\n",
       "}\n",
       "\n",
       ".xr-array-wrap > label {\n",
       "  grid-column: 1;\n",
       "  vertical-align: top;\n",
       "}\n",
       "\n",
       ".xr-preview {\n",
       "  color: var(--xr-font-color3);\n",
       "}\n",
       "\n",
       ".xr-array-preview,\n",
       ".xr-array-data {\n",
       "  padding: 0 5px !important;\n",
       "  grid-column: 2;\n",
       "}\n",
       "\n",
       ".xr-array-data,\n",
       ".xr-array-in:checked ~ .xr-array-preview {\n",
       "  display: none;\n",
       "}\n",
       "\n",
       ".xr-array-in:checked ~ .xr-array-data,\n",
       ".xr-array-preview {\n",
       "  display: inline-block;\n",
       "}\n",
       "\n",
       ".xr-dim-list {\n",
       "  display: inline-block !important;\n",
       "  list-style: none;\n",
       "  padding: 0 !important;\n",
       "  margin: 0;\n",
       "}\n",
       "\n",
       ".xr-dim-list li {\n",
       "  display: inline-block;\n",
       "  padding: 0;\n",
       "  margin: 0;\n",
       "}\n",
       "\n",
       ".xr-dim-list:before {\n",
       "  content: '(';\n",
       "}\n",
       "\n",
       ".xr-dim-list:after {\n",
       "  content: ')';\n",
       "}\n",
       "\n",
       ".xr-dim-list li:not(:last-child):after {\n",
       "  content: ',';\n",
       "  padding-right: 5px;\n",
       "}\n",
       "\n",
       ".xr-has-index {\n",
       "  font-weight: bold;\n",
       "}\n",
       "\n",
       ".xr-var-list,\n",
       ".xr-var-item {\n",
       "  display: contents;\n",
       "}\n",
       "\n",
       ".xr-var-item > div,\n",
       ".xr-var-item label,\n",
       ".xr-var-item > .xr-var-name span {\n",
       "  background-color: var(--xr-background-color-row-even);\n",
       "  margin-bottom: 0;\n",
       "}\n",
       "\n",
       ".xr-var-item > .xr-var-name:hover span {\n",
       "  padding-right: 5px;\n",
       "}\n",
       "\n",
       ".xr-var-list > li:nth-child(odd) > div,\n",
       ".xr-var-list > li:nth-child(odd) > label,\n",
       ".xr-var-list > li:nth-child(odd) > .xr-var-name span {\n",
       "  background-color: var(--xr-background-color-row-odd);\n",
       "}\n",
       "\n",
       ".xr-var-name {\n",
       "  grid-column: 1;\n",
       "}\n",
       "\n",
       ".xr-var-dims {\n",
       "  grid-column: 2;\n",
       "}\n",
       "\n",
       ".xr-var-dtype {\n",
       "  grid-column: 3;\n",
       "  text-align: right;\n",
       "  color: var(--xr-font-color2);\n",
       "}\n",
       "\n",
       ".xr-var-preview {\n",
       "  grid-column: 4;\n",
       "}\n",
       "\n",
       ".xr-var-name,\n",
       ".xr-var-dims,\n",
       ".xr-var-dtype,\n",
       ".xr-preview,\n",
       ".xr-attrs dt {\n",
       "  white-space: nowrap;\n",
       "  overflow: hidden;\n",
       "  text-overflow: ellipsis;\n",
       "  padding-right: 10px;\n",
       "}\n",
       "\n",
       ".xr-var-name:hover,\n",
       ".xr-var-dims:hover,\n",
       ".xr-var-dtype:hover,\n",
       ".xr-attrs dt:hover {\n",
       "  overflow: visible;\n",
       "  width: auto;\n",
       "  z-index: 1;\n",
       "}\n",
       "\n",
       ".xr-var-attrs,\n",
       ".xr-var-data {\n",
       "  display: none;\n",
       "  background-color: var(--xr-background-color) !important;\n",
       "  padding-bottom: 5px !important;\n",
       "}\n",
       "\n",
       ".xr-var-attrs-in:checked ~ .xr-var-attrs,\n",
       ".xr-var-data-in:checked ~ .xr-var-data {\n",
       "  display: block;\n",
       "}\n",
       "\n",
       ".xr-var-data > table {\n",
       "  float: right;\n",
       "}\n",
       "\n",
       ".xr-var-name span,\n",
       ".xr-var-data,\n",
       ".xr-attrs {\n",
       "  padding-left: 25px !important;\n",
       "}\n",
       "\n",
       ".xr-attrs,\n",
       ".xr-var-attrs,\n",
       ".xr-var-data {\n",
       "  grid-column: 1 / -1;\n",
       "}\n",
       "\n",
       "dl.xr-attrs {\n",
       "  padding: 0;\n",
       "  margin: 0;\n",
       "  display: grid;\n",
       "  grid-template-columns: 125px auto;\n",
       "}\n",
       "\n",
       ".xr-attrs dt,\n",
       ".xr-attrs dd {\n",
       "  padding: 0;\n",
       "  margin: 0;\n",
       "  float: left;\n",
       "  padding-right: 10px;\n",
       "  width: auto;\n",
       "}\n",
       "\n",
       ".xr-attrs dt {\n",
       "  font-weight: normal;\n",
       "  grid-column: 1;\n",
       "}\n",
       "\n",
       ".xr-attrs dt:hover span {\n",
       "  display: inline-block;\n",
       "  background: var(--xr-background-color);\n",
       "  padding-right: 10px;\n",
       "}\n",
       "\n",
       ".xr-attrs dd {\n",
       "  grid-column: 2;\n",
       "  white-space: pre-wrap;\n",
       "  word-break: break-all;\n",
       "}\n",
       "\n",
       ".xr-icon-database,\n",
       ".xr-icon-file-text2 {\n",
       "  display: inline-block;\n",
       "  vertical-align: middle;\n",
       "  width: 1em;\n",
       "  height: 1.5em !important;\n",
       "  stroke-width: 0;\n",
       "  stroke: currentColor;\n",
       "  fill: currentColor;\n",
       "}\n",
       "</style><pre class='xr-text-repr-fallback'>&lt;xarray.Dataset&gt;\n",
       "Dimensions:  (time: 2, zlev: 1, lat: 720, lon: 1440)\n",
       "Coordinates:\n",
       "  * lat      (lat) float32 -89.88 -89.62 -89.38 -89.12 ... 89.38 89.62 89.88\n",
       "  * lon      (lon) float32 0.125 0.375 0.625 0.875 ... 359.1 359.4 359.6 359.9\n",
       "  * time     (time) datetime64[ns] 1981-09-01T12:00:00 1981-09-02T12:00:00\n",
       "  * zlev     (zlev) float32 0.0\n",
       "Data variables:\n",
       "    anom     (time, zlev, lat, lon) float32 dask.array&lt;chunksize=(2, 1, 720, 1440), meta=np.ndarray&gt;\n",
       "    err      (time, zlev, lat, lon) float32 dask.array&lt;chunksize=(2, 1, 720, 1440), meta=np.ndarray&gt;\n",
       "    ice      (time, zlev, lat, lon) float32 dask.array&lt;chunksize=(2, 1, 720, 1440), meta=np.ndarray&gt;\n",
       "    sst      (time, zlev, lat, lon) float32 dask.array&lt;chunksize=(2, 1, 720, 1440), meta=np.ndarray&gt;\n",
       "Attributes: (12/37)\n",
       "    Conventions:                CF-1.6, ACDD-1.3\n",
       "    cdm_data_type:              Grid\n",
       "    comment:                    Data was converted from NetCDF-3 to NetCDF-4 ...\n",
       "    creator_email:              oisst-help@noaa.gov\n",
       "    creator_url:                https://www.ncei.noaa.gov/\n",
       "    date_created:               2020-05-08T19:05:13Z\n",
       "    ...                         ...\n",
       "    source:                     ICOADS, NCEP_GTS, GSFC_ICE, NCEP_ICE, Pathfin...\n",
       "    standard_name_vocabulary:   CF Standard Name Table (v40, 25 January 2017)\n",
       "    summary:                    NOAAs 1/4-degree Daily Optimum Interpolation ...\n",
       "    time_coverage_end:          1981-09-01T23:59:59Z\n",
       "    time_coverage_start:        1981-09-01T00:00:00Z\n",
       "    title:                      NOAA/NCEI 1/4 Degree Daily Optimum Interpolat...</pre><div class='xr-wrap' style='display:none'><div class='xr-header'><div class='xr-obj-type'>xarray.Dataset</div></div><ul class='xr-sections'><li class='xr-section-item'><input id='section-fe06d44b-1f45-4cff-b1ae-a08b27c85743' class='xr-section-summary-in' type='checkbox' disabled ><label for='section-fe06d44b-1f45-4cff-b1ae-a08b27c85743' class='xr-section-summary'  title='Expand/collapse section'>Dimensions:</label><div class='xr-section-inline-details'><ul class='xr-dim-list'><li><span class='xr-has-index'>time</span>: 2</li><li><span class='xr-has-index'>zlev</span>: 1</li><li><span class='xr-has-index'>lat</span>: 720</li><li><span class='xr-has-index'>lon</span>: 1440</li></ul></div><div class='xr-section-details'></div></li><li class='xr-section-item'><input id='section-2ed5bde4-c6d4-41f5-974c-cfe9f13a4361' class='xr-section-summary-in' type='checkbox'  checked><label for='section-2ed5bde4-c6d4-41f5-974c-cfe9f13a4361' class='xr-section-summary' >Coordinates: <span>(4)</span></label><div class='xr-section-inline-details'></div><div class='xr-section-details'><ul class='xr-var-list'><li class='xr-var-item'><div class='xr-var-name'><span class='xr-has-index'>lat</span></div><div class='xr-var-dims'>(lat)</div><div class='xr-var-dtype'>float32</div><div class='xr-var-preview xr-preview'>-89.88 -89.62 ... 89.62 89.88</div><input id='attrs-99f150d3-c7f6-4c79-a9c5-4d1ef6aa39bb' class='xr-var-attrs-in' type='checkbox' ><label for='attrs-99f150d3-c7f6-4c79-a9c5-4d1ef6aa39bb' title='Show/Hide attributes'><svg class='icon xr-icon-file-text2'><use xlink:href='#icon-file-text2'></use></svg></label><input id='data-fb9f503b-f992-4c96-9640-c03ec661c0ec' class='xr-var-data-in' type='checkbox'><label for='data-fb9f503b-f992-4c96-9640-c03ec661c0ec' title='Show/Hide data repr'><svg class='icon xr-icon-database'><use xlink:href='#icon-database'></use></svg></label><div class='xr-var-attrs'><dl class='xr-attrs'><dt><span>grids :</span></dt><dd>Uniform grid from -89.875 to 89.875 by 0.25</dd><dt><span>long_name :</span></dt><dd>Latitude</dd><dt><span>units :</span></dt><dd>degrees_north</dd></dl></div><div class='xr-var-data'><pre>array([-89.875, -89.625, -89.375, ...,  89.375,  89.625,  89.875],\n",
       "      dtype=float32)</pre></div></li><li class='xr-var-item'><div class='xr-var-name'><span class='xr-has-index'>lon</span></div><div class='xr-var-dims'>(lon)</div><div class='xr-var-dtype'>float32</div><div class='xr-var-preview xr-preview'>0.125 0.375 0.625 ... 359.6 359.9</div><input id='attrs-00a13286-d03c-4e12-bf43-24b85096662b' class='xr-var-attrs-in' type='checkbox' ><label for='attrs-00a13286-d03c-4e12-bf43-24b85096662b' title='Show/Hide attributes'><svg class='icon xr-icon-file-text2'><use xlink:href='#icon-file-text2'></use></svg></label><input id='data-bd4393dd-6a9f-49d3-895f-876ebfade3d5' class='xr-var-data-in' type='checkbox'><label for='data-bd4393dd-6a9f-49d3-895f-876ebfade3d5' title='Show/Hide data repr'><svg class='icon xr-icon-database'><use xlink:href='#icon-database'></use></svg></label><div class='xr-var-attrs'><dl class='xr-attrs'><dt><span>grids :</span></dt><dd>Uniform grid from 0.125 to 359.875 by 0.25</dd><dt><span>long_name :</span></dt><dd>Longitude</dd><dt><span>units :</span></dt><dd>degrees_east</dd></dl></div><div class='xr-var-data'><pre>array([1.25000e-01, 3.75000e-01, 6.25000e-01, ..., 3.59375e+02, 3.59625e+02,\n",
       "       3.59875e+02], dtype=float32)</pre></div></li><li class='xr-var-item'><div class='xr-var-name'><span class='xr-has-index'>time</span></div><div class='xr-var-dims'>(time)</div><div class='xr-var-dtype'>datetime64[ns]</div><div class='xr-var-preview xr-preview'>1981-09-01T12:00:00 1981-09-02T1...</div><input id='attrs-f2ddf02c-5640-495d-bd09-dadefe5dcd57' class='xr-var-attrs-in' type='checkbox' ><label for='attrs-f2ddf02c-5640-495d-bd09-dadefe5dcd57' title='Show/Hide attributes'><svg class='icon xr-icon-file-text2'><use xlink:href='#icon-file-text2'></use></svg></label><input id='data-228da70f-3394-4f93-859a-c6a3f1be8f02' class='xr-var-data-in' type='checkbox'><label for='data-228da70f-3394-4f93-859a-c6a3f1be8f02' title='Show/Hide data repr'><svg class='icon xr-icon-database'><use xlink:href='#icon-database'></use></svg></label><div class='xr-var-attrs'><dl class='xr-attrs'><dt><span>long_name :</span></dt><dd>Center time of the day</dd></dl></div><div class='xr-var-data'><pre>array([&#x27;1981-09-01T12:00:00.000000000&#x27;, &#x27;1981-09-02T12:00:00.000000000&#x27;],\n",
       "      dtype=&#x27;datetime64[ns]&#x27;)</pre></div></li><li class='xr-var-item'><div class='xr-var-name'><span class='xr-has-index'>zlev</span></div><div class='xr-var-dims'>(zlev)</div><div class='xr-var-dtype'>float32</div><div class='xr-var-preview xr-preview'>0.0</div><input id='attrs-89bb9e4b-82aa-4211-b2b3-8b94b41f38e7' class='xr-var-attrs-in' type='checkbox' ><label for='attrs-89bb9e4b-82aa-4211-b2b3-8b94b41f38e7' title='Show/Hide attributes'><svg class='icon xr-icon-file-text2'><use xlink:href='#icon-file-text2'></use></svg></label><input id='data-3373864d-d268-4479-b1ee-c0cb8f63b8af' class='xr-var-data-in' type='checkbox'><label for='data-3373864d-d268-4479-b1ee-c0cb8f63b8af' title='Show/Hide data repr'><svg class='icon xr-icon-database'><use xlink:href='#icon-database'></use></svg></label><div class='xr-var-attrs'><dl class='xr-attrs'><dt><span>actual_range :</span></dt><dd>0, 0</dd><dt><span>long_name :</span></dt><dd>Sea surface height</dd><dt><span>positive :</span></dt><dd>down</dd><dt><span>units :</span></dt><dd>meters</dd></dl></div><div class='xr-var-data'><pre>array([0.], dtype=float32)</pre></div></li></ul></div></li><li class='xr-section-item'><input id='section-c0475f83-5818-4f61-90c5-fa06abaece7a' class='xr-section-summary-in' type='checkbox'  checked><label for='section-c0475f83-5818-4f61-90c5-fa06abaece7a' class='xr-section-summary' >Data variables: <span>(4)</span></label><div class='xr-section-inline-details'></div><div class='xr-section-details'><ul class='xr-var-list'><li class='xr-var-item'><div class='xr-var-name'><span>anom</span></div><div class='xr-var-dims'>(time, zlev, lat, lon)</div><div class='xr-var-dtype'>float32</div><div class='xr-var-preview xr-preview'>dask.array&lt;chunksize=(2, 1, 720, 1440), meta=np.ndarray&gt;</div><input id='attrs-2bbfcec5-9975-49a8-9793-74e69658bfd0' class='xr-var-attrs-in' type='checkbox' ><label for='attrs-2bbfcec5-9975-49a8-9793-74e69658bfd0' title='Show/Hide attributes'><svg class='icon xr-icon-file-text2'><use xlink:href='#icon-file-text2'></use></svg></label><input id='data-be3827da-83ab-4fcd-8e09-938f9be608d0' class='xr-var-data-in' type='checkbox'><label for='data-be3827da-83ab-4fcd-8e09-938f9be608d0' title='Show/Hide data repr'><svg class='icon xr-icon-database'><use xlink:href='#icon-database'></use></svg></label><div class='xr-var-attrs'><dl class='xr-attrs'><dt><span>long_name :</span></dt><dd>Daily sea surface temperature anomalies</dd><dt><span>units :</span></dt><dd>Celsius</dd><dt><span>valid_max :</span></dt><dd>1200</dd><dt><span>valid_min :</span></dt><dd>-1200</dd></dl></div><div class='xr-var-data'><table>\n",
       "    <tr>\n",
       "        <td>\n",
       "            <table>\n",
       "                <thead>\n",
       "                    <tr>\n",
       "                        <td> </td>\n",
       "                        <th> Array </th>\n",
       "                        <th> Chunk </th>\n",
       "                    </tr>\n",
       "                </thead>\n",
       "                <tbody>\n",
       "                    \n",
       "                    <tr>\n",
       "                        <th> Bytes </th>\n",
       "                        <td> 7.91 MiB </td>\n",
       "                        <td> 7.91 MiB </td>\n",
       "                    </tr>\n",
       "                    \n",
       "                    <tr>\n",
       "                        <th> Shape </th>\n",
       "                        <td> (2, 1, 720, 1440) </td>\n",
       "                        <td> (2, 1, 720, 1440) </td>\n",
       "                    </tr>\n",
       "                    <tr>\n",
       "                        <th> Count </th>\n",
       "                        <td> 2 Tasks </td>\n",
       "                        <td> 1 Chunks </td>\n",
       "                    </tr>\n",
       "                    <tr>\n",
       "                    <th> Type </th>\n",
       "                    <td> float32 </td>\n",
       "                    <td> numpy.ndarray </td>\n",
       "                    </tr>\n",
       "                </tbody>\n",
       "            </table>\n",
       "        </td>\n",
       "        <td>\n",
       "        <svg width=\"374\" height=\"124\" style=\"stroke:rgb(0,0,0);stroke-width:1\" >\n",
       "\n",
       "  <!-- Horizontal lines -->\n",
       "  <line x1=\"0\" y1=\"0\" x2=\"25\" y2=\"0\" style=\"stroke-width:2\" />\n",
       "  <line x1=\"0\" y1=\"25\" x2=\"25\" y2=\"25\" style=\"stroke-width:2\" />\n",
       "\n",
       "  <!-- Vertical lines -->\n",
       "  <line x1=\"0\" y1=\"0\" x2=\"0\" y2=\"25\" style=\"stroke-width:2\" />\n",
       "  <line x1=\"25\" y1=\"0\" x2=\"25\" y2=\"25\" style=\"stroke-width:2\" />\n",
       "\n",
       "  <!-- Colored Rectangle -->\n",
       "  <polygon points=\"0.0,0.0 25.412616514582485,0.0 25.412616514582485,25.412616514582485 0.0,25.412616514582485\" style=\"fill:#ECB172A0;stroke-width:0\"/>\n",
       "\n",
       "  <!-- Text -->\n",
       "  <text x=\"12.706308\" y=\"45.412617\" font-size=\"1.0rem\" font-weight=\"100\" text-anchor=\"middle\" >2</text>\n",
       "  <text x=\"45.412617\" y=\"12.706308\" font-size=\"1.0rem\" font-weight=\"100\" text-anchor=\"middle\" transform=\"rotate(0,45.412617,12.706308)\">1</text>\n",
       "\n",
       "\n",
       "  <!-- Horizontal lines -->\n",
       "  <line x1=\"95\" y1=\"0\" x2=\"109\" y2=\"14\" style=\"stroke-width:2\" />\n",
       "  <line x1=\"95\" y1=\"60\" x2=\"109\" y2=\"74\" style=\"stroke-width:2\" />\n",
       "\n",
       "  <!-- Vertical lines -->\n",
       "  <line x1=\"95\" y1=\"0\" x2=\"95\" y2=\"60\" style=\"stroke-width:2\" />\n",
       "  <line x1=\"109\" y1=\"14\" x2=\"109\" y2=\"74\" style=\"stroke-width:2\" />\n",
       "\n",
       "  <!-- Colored Rectangle -->\n",
       "  <polygon points=\"95.0,0.0 109.9485979497544,14.948597949754403 109.9485979497544,74.9485979497544 95.0,60.0\" style=\"fill:#ECB172A0;stroke-width:0\"/>\n",
       "\n",
       "  <!-- Horizontal lines -->\n",
       "  <line x1=\"95\" y1=\"0\" x2=\"215\" y2=\"0\" style=\"stroke-width:2\" />\n",
       "  <line x1=\"109\" y1=\"14\" x2=\"229\" y2=\"14\" style=\"stroke-width:2\" />\n",
       "\n",
       "  <!-- Vertical lines -->\n",
       "  <line x1=\"95\" y1=\"0\" x2=\"109\" y2=\"14\" style=\"stroke-width:2\" />\n",
       "  <line x1=\"215\" y1=\"0\" x2=\"229\" y2=\"14\" style=\"stroke-width:2\" />\n",
       "\n",
       "  <!-- Colored Rectangle -->\n",
       "  <polygon points=\"95.0,0.0 215.0,0.0 229.9485979497544,14.948597949754403 109.9485979497544,14.948597949754403\" style=\"fill:#ECB172A0;stroke-width:0\"/>\n",
       "\n",
       "  <!-- Horizontal lines -->\n",
       "  <line x1=\"109\" y1=\"14\" x2=\"229\" y2=\"14\" style=\"stroke-width:2\" />\n",
       "  <line x1=\"109\" y1=\"74\" x2=\"229\" y2=\"74\" style=\"stroke-width:2\" />\n",
       "\n",
       "  <!-- Vertical lines -->\n",
       "  <line x1=\"109\" y1=\"14\" x2=\"109\" y2=\"74\" style=\"stroke-width:2\" />\n",
       "  <line x1=\"229\" y1=\"14\" x2=\"229\" y2=\"74\" style=\"stroke-width:2\" />\n",
       "\n",
       "  <!-- Colored Rectangle -->\n",
       "  <polygon points=\"109.9485979497544,14.948597949754403 229.9485979497544,14.948597949754403 229.9485979497544,74.9485979497544 109.9485979497544,74.9485979497544\" style=\"fill:#ECB172A0;stroke-width:0\"/>\n",
       "\n",
       "  <!-- Text -->\n",
       "  <text x=\"169.948598\" y=\"94.948598\" font-size=\"1.0rem\" font-weight=\"100\" text-anchor=\"middle\" >1440</text>\n",
       "  <text x=\"249.948598\" y=\"44.948598\" font-size=\"1.0rem\" font-weight=\"100\" text-anchor=\"middle\" transform=\"rotate(-90,249.948598,44.948598)\">720</text>\n",
       "  <text x=\"92.474299\" y=\"87.474299\" font-size=\"1.0rem\" font-weight=\"100\" text-anchor=\"middle\" transform=\"rotate(45,92.474299,87.474299)\">1</text>\n",
       "</svg>\n",
       "        </td>\n",
       "    </tr>\n",
       "</table></div></li><li class='xr-var-item'><div class='xr-var-name'><span>err</span></div><div class='xr-var-dims'>(time, zlev, lat, lon)</div><div class='xr-var-dtype'>float32</div><div class='xr-var-preview xr-preview'>dask.array&lt;chunksize=(2, 1, 720, 1440), meta=np.ndarray&gt;</div><input id='attrs-5ec02f17-f5b0-41c7-b1e1-5ace723ac602' class='xr-var-attrs-in' type='checkbox' ><label for='attrs-5ec02f17-f5b0-41c7-b1e1-5ace723ac602' title='Show/Hide attributes'><svg class='icon xr-icon-file-text2'><use xlink:href='#icon-file-text2'></use></svg></label><input id='data-00a97066-f614-4e17-b5a4-98bafb0d223d' class='xr-var-data-in' type='checkbox'><label for='data-00a97066-f614-4e17-b5a4-98bafb0d223d' title='Show/Hide data repr'><svg class='icon xr-icon-database'><use xlink:href='#icon-database'></use></svg></label><div class='xr-var-attrs'><dl class='xr-attrs'><dt><span>long_name :</span></dt><dd>Estimated error standard deviation of analysed_sst</dd><dt><span>units :</span></dt><dd>Celsius</dd><dt><span>valid_max :</span></dt><dd>1000</dd><dt><span>valid_min :</span></dt><dd>0</dd></dl></div><div class='xr-var-data'><table>\n",
       "    <tr>\n",
       "        <td>\n",
       "            <table>\n",
       "                <thead>\n",
       "                    <tr>\n",
       "                        <td> </td>\n",
       "                        <th> Array </th>\n",
       "                        <th> Chunk </th>\n",
       "                    </tr>\n",
       "                </thead>\n",
       "                <tbody>\n",
       "                    \n",
       "                    <tr>\n",
       "                        <th> Bytes </th>\n",
       "                        <td> 7.91 MiB </td>\n",
       "                        <td> 7.91 MiB </td>\n",
       "                    </tr>\n",
       "                    \n",
       "                    <tr>\n",
       "                        <th> Shape </th>\n",
       "                        <td> (2, 1, 720, 1440) </td>\n",
       "                        <td> (2, 1, 720, 1440) </td>\n",
       "                    </tr>\n",
       "                    <tr>\n",
       "                        <th> Count </th>\n",
       "                        <td> 2 Tasks </td>\n",
       "                        <td> 1 Chunks </td>\n",
       "                    </tr>\n",
       "                    <tr>\n",
       "                    <th> Type </th>\n",
       "                    <td> float32 </td>\n",
       "                    <td> numpy.ndarray </td>\n",
       "                    </tr>\n",
       "                </tbody>\n",
       "            </table>\n",
       "        </td>\n",
       "        <td>\n",
       "        <svg width=\"374\" height=\"124\" style=\"stroke:rgb(0,0,0);stroke-width:1\" >\n",
       "\n",
       "  <!-- Horizontal lines -->\n",
       "  <line x1=\"0\" y1=\"0\" x2=\"25\" y2=\"0\" style=\"stroke-width:2\" />\n",
       "  <line x1=\"0\" y1=\"25\" x2=\"25\" y2=\"25\" style=\"stroke-width:2\" />\n",
       "\n",
       "  <!-- Vertical lines -->\n",
       "  <line x1=\"0\" y1=\"0\" x2=\"0\" y2=\"25\" style=\"stroke-width:2\" />\n",
       "  <line x1=\"25\" y1=\"0\" x2=\"25\" y2=\"25\" style=\"stroke-width:2\" />\n",
       "\n",
       "  <!-- Colored Rectangle -->\n",
       "  <polygon points=\"0.0,0.0 25.412616514582485,0.0 25.412616514582485,25.412616514582485 0.0,25.412616514582485\" style=\"fill:#ECB172A0;stroke-width:0\"/>\n",
       "\n",
       "  <!-- Text -->\n",
       "  <text x=\"12.706308\" y=\"45.412617\" font-size=\"1.0rem\" font-weight=\"100\" text-anchor=\"middle\" >2</text>\n",
       "  <text x=\"45.412617\" y=\"12.706308\" font-size=\"1.0rem\" font-weight=\"100\" text-anchor=\"middle\" transform=\"rotate(0,45.412617,12.706308)\">1</text>\n",
       "\n",
       "\n",
       "  <!-- Horizontal lines -->\n",
       "  <line x1=\"95\" y1=\"0\" x2=\"109\" y2=\"14\" style=\"stroke-width:2\" />\n",
       "  <line x1=\"95\" y1=\"60\" x2=\"109\" y2=\"74\" style=\"stroke-width:2\" />\n",
       "\n",
       "  <!-- Vertical lines -->\n",
       "  <line x1=\"95\" y1=\"0\" x2=\"95\" y2=\"60\" style=\"stroke-width:2\" />\n",
       "  <line x1=\"109\" y1=\"14\" x2=\"109\" y2=\"74\" style=\"stroke-width:2\" />\n",
       "\n",
       "  <!-- Colored Rectangle -->\n",
       "  <polygon points=\"95.0,0.0 109.9485979497544,14.948597949754403 109.9485979497544,74.9485979497544 95.0,60.0\" style=\"fill:#ECB172A0;stroke-width:0\"/>\n",
       "\n",
       "  <!-- Horizontal lines -->\n",
       "  <line x1=\"95\" y1=\"0\" x2=\"215\" y2=\"0\" style=\"stroke-width:2\" />\n",
       "  <line x1=\"109\" y1=\"14\" x2=\"229\" y2=\"14\" style=\"stroke-width:2\" />\n",
       "\n",
       "  <!-- Vertical lines -->\n",
       "  <line x1=\"95\" y1=\"0\" x2=\"109\" y2=\"14\" style=\"stroke-width:2\" />\n",
       "  <line x1=\"215\" y1=\"0\" x2=\"229\" y2=\"14\" style=\"stroke-width:2\" />\n",
       "\n",
       "  <!-- Colored Rectangle -->\n",
       "  <polygon points=\"95.0,0.0 215.0,0.0 229.9485979497544,14.948597949754403 109.9485979497544,14.948597949754403\" style=\"fill:#ECB172A0;stroke-width:0\"/>\n",
       "\n",
       "  <!-- Horizontal lines -->\n",
       "  <line x1=\"109\" y1=\"14\" x2=\"229\" y2=\"14\" style=\"stroke-width:2\" />\n",
       "  <line x1=\"109\" y1=\"74\" x2=\"229\" y2=\"74\" style=\"stroke-width:2\" />\n",
       "\n",
       "  <!-- Vertical lines -->\n",
       "  <line x1=\"109\" y1=\"14\" x2=\"109\" y2=\"74\" style=\"stroke-width:2\" />\n",
       "  <line x1=\"229\" y1=\"14\" x2=\"229\" y2=\"74\" style=\"stroke-width:2\" />\n",
       "\n",
       "  <!-- Colored Rectangle -->\n",
       "  <polygon points=\"109.9485979497544,14.948597949754403 229.9485979497544,14.948597949754403 229.9485979497544,74.9485979497544 109.9485979497544,74.9485979497544\" style=\"fill:#ECB172A0;stroke-width:0\"/>\n",
       "\n",
       "  <!-- Text -->\n",
       "  <text x=\"169.948598\" y=\"94.948598\" font-size=\"1.0rem\" font-weight=\"100\" text-anchor=\"middle\" >1440</text>\n",
       "  <text x=\"249.948598\" y=\"44.948598\" font-size=\"1.0rem\" font-weight=\"100\" text-anchor=\"middle\" transform=\"rotate(-90,249.948598,44.948598)\">720</text>\n",
       "  <text x=\"92.474299\" y=\"87.474299\" font-size=\"1.0rem\" font-weight=\"100\" text-anchor=\"middle\" transform=\"rotate(45,92.474299,87.474299)\">1</text>\n",
       "</svg>\n",
       "        </td>\n",
       "    </tr>\n",
       "</table></div></li><li class='xr-var-item'><div class='xr-var-name'><span>ice</span></div><div class='xr-var-dims'>(time, zlev, lat, lon)</div><div class='xr-var-dtype'>float32</div><div class='xr-var-preview xr-preview'>dask.array&lt;chunksize=(2, 1, 720, 1440), meta=np.ndarray&gt;</div><input id='attrs-48c62200-4d14-4f55-81c7-334a198a98b3' class='xr-var-attrs-in' type='checkbox' ><label for='attrs-48c62200-4d14-4f55-81c7-334a198a98b3' title='Show/Hide attributes'><svg class='icon xr-icon-file-text2'><use xlink:href='#icon-file-text2'></use></svg></label><input id='data-5f0e34e5-806f-437a-a5b3-613c3315a07c' class='xr-var-data-in' type='checkbox'><label for='data-5f0e34e5-806f-437a-a5b3-613c3315a07c' title='Show/Hide data repr'><svg class='icon xr-icon-database'><use xlink:href='#icon-database'></use></svg></label><div class='xr-var-attrs'><dl class='xr-attrs'><dt><span>long_name :</span></dt><dd>Sea ice concentration</dd><dt><span>units :</span></dt><dd>%</dd><dt><span>valid_max :</span></dt><dd>100</dd><dt><span>valid_min :</span></dt><dd>0</dd></dl></div><div class='xr-var-data'><table>\n",
       "    <tr>\n",
       "        <td>\n",
       "            <table>\n",
       "                <thead>\n",
       "                    <tr>\n",
       "                        <td> </td>\n",
       "                        <th> Array </th>\n",
       "                        <th> Chunk </th>\n",
       "                    </tr>\n",
       "                </thead>\n",
       "                <tbody>\n",
       "                    \n",
       "                    <tr>\n",
       "                        <th> Bytes </th>\n",
       "                        <td> 7.91 MiB </td>\n",
       "                        <td> 7.91 MiB </td>\n",
       "                    </tr>\n",
       "                    \n",
       "                    <tr>\n",
       "                        <th> Shape </th>\n",
       "                        <td> (2, 1, 720, 1440) </td>\n",
       "                        <td> (2, 1, 720, 1440) </td>\n",
       "                    </tr>\n",
       "                    <tr>\n",
       "                        <th> Count </th>\n",
       "                        <td> 2 Tasks </td>\n",
       "                        <td> 1 Chunks </td>\n",
       "                    </tr>\n",
       "                    <tr>\n",
       "                    <th> Type </th>\n",
       "                    <td> float32 </td>\n",
       "                    <td> numpy.ndarray </td>\n",
       "                    </tr>\n",
       "                </tbody>\n",
       "            </table>\n",
       "        </td>\n",
       "        <td>\n",
       "        <svg width=\"374\" height=\"124\" style=\"stroke:rgb(0,0,0);stroke-width:1\" >\n",
       "\n",
       "  <!-- Horizontal lines -->\n",
       "  <line x1=\"0\" y1=\"0\" x2=\"25\" y2=\"0\" style=\"stroke-width:2\" />\n",
       "  <line x1=\"0\" y1=\"25\" x2=\"25\" y2=\"25\" style=\"stroke-width:2\" />\n",
       "\n",
       "  <!-- Vertical lines -->\n",
       "  <line x1=\"0\" y1=\"0\" x2=\"0\" y2=\"25\" style=\"stroke-width:2\" />\n",
       "  <line x1=\"25\" y1=\"0\" x2=\"25\" y2=\"25\" style=\"stroke-width:2\" />\n",
       "\n",
       "  <!-- Colored Rectangle -->\n",
       "  <polygon points=\"0.0,0.0 25.412616514582485,0.0 25.412616514582485,25.412616514582485 0.0,25.412616514582485\" style=\"fill:#ECB172A0;stroke-width:0\"/>\n",
       "\n",
       "  <!-- Text -->\n",
       "  <text x=\"12.706308\" y=\"45.412617\" font-size=\"1.0rem\" font-weight=\"100\" text-anchor=\"middle\" >2</text>\n",
       "  <text x=\"45.412617\" y=\"12.706308\" font-size=\"1.0rem\" font-weight=\"100\" text-anchor=\"middle\" transform=\"rotate(0,45.412617,12.706308)\">1</text>\n",
       "\n",
       "\n",
       "  <!-- Horizontal lines -->\n",
       "  <line x1=\"95\" y1=\"0\" x2=\"109\" y2=\"14\" style=\"stroke-width:2\" />\n",
       "  <line x1=\"95\" y1=\"60\" x2=\"109\" y2=\"74\" style=\"stroke-width:2\" />\n",
       "\n",
       "  <!-- Vertical lines -->\n",
       "  <line x1=\"95\" y1=\"0\" x2=\"95\" y2=\"60\" style=\"stroke-width:2\" />\n",
       "  <line x1=\"109\" y1=\"14\" x2=\"109\" y2=\"74\" style=\"stroke-width:2\" />\n",
       "\n",
       "  <!-- Colored Rectangle -->\n",
       "  <polygon points=\"95.0,0.0 109.9485979497544,14.948597949754403 109.9485979497544,74.9485979497544 95.0,60.0\" style=\"fill:#ECB172A0;stroke-width:0\"/>\n",
       "\n",
       "  <!-- Horizontal lines -->\n",
       "  <line x1=\"95\" y1=\"0\" x2=\"215\" y2=\"0\" style=\"stroke-width:2\" />\n",
       "  <line x1=\"109\" y1=\"14\" x2=\"229\" y2=\"14\" style=\"stroke-width:2\" />\n",
       "\n",
       "  <!-- Vertical lines -->\n",
       "  <line x1=\"95\" y1=\"0\" x2=\"109\" y2=\"14\" style=\"stroke-width:2\" />\n",
       "  <line x1=\"215\" y1=\"0\" x2=\"229\" y2=\"14\" style=\"stroke-width:2\" />\n",
       "\n",
       "  <!-- Colored Rectangle -->\n",
       "  <polygon points=\"95.0,0.0 215.0,0.0 229.9485979497544,14.948597949754403 109.9485979497544,14.948597949754403\" style=\"fill:#ECB172A0;stroke-width:0\"/>\n",
       "\n",
       "  <!-- Horizontal lines -->\n",
       "  <line x1=\"109\" y1=\"14\" x2=\"229\" y2=\"14\" style=\"stroke-width:2\" />\n",
       "  <line x1=\"109\" y1=\"74\" x2=\"229\" y2=\"74\" style=\"stroke-width:2\" />\n",
       "\n",
       "  <!-- Vertical lines -->\n",
       "  <line x1=\"109\" y1=\"14\" x2=\"109\" y2=\"74\" style=\"stroke-width:2\" />\n",
       "  <line x1=\"229\" y1=\"14\" x2=\"229\" y2=\"74\" style=\"stroke-width:2\" />\n",
       "\n",
       "  <!-- Colored Rectangle -->\n",
       "  <polygon points=\"109.9485979497544,14.948597949754403 229.9485979497544,14.948597949754403 229.9485979497544,74.9485979497544 109.9485979497544,74.9485979497544\" style=\"fill:#ECB172A0;stroke-width:0\"/>\n",
       "\n",
       "  <!-- Text -->\n",
       "  <text x=\"169.948598\" y=\"94.948598\" font-size=\"1.0rem\" font-weight=\"100\" text-anchor=\"middle\" >1440</text>\n",
       "  <text x=\"249.948598\" y=\"44.948598\" font-size=\"1.0rem\" font-weight=\"100\" text-anchor=\"middle\" transform=\"rotate(-90,249.948598,44.948598)\">720</text>\n",
       "  <text x=\"92.474299\" y=\"87.474299\" font-size=\"1.0rem\" font-weight=\"100\" text-anchor=\"middle\" transform=\"rotate(45,92.474299,87.474299)\">1</text>\n",
       "</svg>\n",
       "        </td>\n",
       "    </tr>\n",
       "</table></div></li><li class='xr-var-item'><div class='xr-var-name'><span>sst</span></div><div class='xr-var-dims'>(time, zlev, lat, lon)</div><div class='xr-var-dtype'>float32</div><div class='xr-var-preview xr-preview'>dask.array&lt;chunksize=(2, 1, 720, 1440), meta=np.ndarray&gt;</div><input id='attrs-02415d2f-9bcc-413d-8633-531b09d334e6' class='xr-var-attrs-in' type='checkbox' ><label for='attrs-02415d2f-9bcc-413d-8633-531b09d334e6' title='Show/Hide attributes'><svg class='icon xr-icon-file-text2'><use xlink:href='#icon-file-text2'></use></svg></label><input id='data-e1692bf2-3332-45d5-8e4f-e825bbfa1e69' class='xr-var-data-in' type='checkbox'><label for='data-e1692bf2-3332-45d5-8e4f-e825bbfa1e69' title='Show/Hide data repr'><svg class='icon xr-icon-database'><use xlink:href='#icon-database'></use></svg></label><div class='xr-var-attrs'><dl class='xr-attrs'><dt><span>long_name :</span></dt><dd>Daily sea surface temperature</dd><dt><span>units :</span></dt><dd>Celsius</dd><dt><span>valid_max :</span></dt><dd>4500</dd><dt><span>valid_min :</span></dt><dd>-300</dd></dl></div><div class='xr-var-data'><table>\n",
       "    <tr>\n",
       "        <td>\n",
       "            <table>\n",
       "                <thead>\n",
       "                    <tr>\n",
       "                        <td> </td>\n",
       "                        <th> Array </th>\n",
       "                        <th> Chunk </th>\n",
       "                    </tr>\n",
       "                </thead>\n",
       "                <tbody>\n",
       "                    \n",
       "                    <tr>\n",
       "                        <th> Bytes </th>\n",
       "                        <td> 7.91 MiB </td>\n",
       "                        <td> 7.91 MiB </td>\n",
       "                    </tr>\n",
       "                    \n",
       "                    <tr>\n",
       "                        <th> Shape </th>\n",
       "                        <td> (2, 1, 720, 1440) </td>\n",
       "                        <td> (2, 1, 720, 1440) </td>\n",
       "                    </tr>\n",
       "                    <tr>\n",
       "                        <th> Count </th>\n",
       "                        <td> 2 Tasks </td>\n",
       "                        <td> 1 Chunks </td>\n",
       "                    </tr>\n",
       "                    <tr>\n",
       "                    <th> Type </th>\n",
       "                    <td> float32 </td>\n",
       "                    <td> numpy.ndarray </td>\n",
       "                    </tr>\n",
       "                </tbody>\n",
       "            </table>\n",
       "        </td>\n",
       "        <td>\n",
       "        <svg width=\"374\" height=\"124\" style=\"stroke:rgb(0,0,0);stroke-width:1\" >\n",
       "\n",
       "  <!-- Horizontal lines -->\n",
       "  <line x1=\"0\" y1=\"0\" x2=\"25\" y2=\"0\" style=\"stroke-width:2\" />\n",
       "  <line x1=\"0\" y1=\"25\" x2=\"25\" y2=\"25\" style=\"stroke-width:2\" />\n",
       "\n",
       "  <!-- Vertical lines -->\n",
       "  <line x1=\"0\" y1=\"0\" x2=\"0\" y2=\"25\" style=\"stroke-width:2\" />\n",
       "  <line x1=\"25\" y1=\"0\" x2=\"25\" y2=\"25\" style=\"stroke-width:2\" />\n",
       "\n",
       "  <!-- Colored Rectangle -->\n",
       "  <polygon points=\"0.0,0.0 25.412616514582485,0.0 25.412616514582485,25.412616514582485 0.0,25.412616514582485\" style=\"fill:#ECB172A0;stroke-width:0\"/>\n",
       "\n",
       "  <!-- Text -->\n",
       "  <text x=\"12.706308\" y=\"45.412617\" font-size=\"1.0rem\" font-weight=\"100\" text-anchor=\"middle\" >2</text>\n",
       "  <text x=\"45.412617\" y=\"12.706308\" font-size=\"1.0rem\" font-weight=\"100\" text-anchor=\"middle\" transform=\"rotate(0,45.412617,12.706308)\">1</text>\n",
       "\n",
       "\n",
       "  <!-- Horizontal lines -->\n",
       "  <line x1=\"95\" y1=\"0\" x2=\"109\" y2=\"14\" style=\"stroke-width:2\" />\n",
       "  <line x1=\"95\" y1=\"60\" x2=\"109\" y2=\"74\" style=\"stroke-width:2\" />\n",
       "\n",
       "  <!-- Vertical lines -->\n",
       "  <line x1=\"95\" y1=\"0\" x2=\"95\" y2=\"60\" style=\"stroke-width:2\" />\n",
       "  <line x1=\"109\" y1=\"14\" x2=\"109\" y2=\"74\" style=\"stroke-width:2\" />\n",
       "\n",
       "  <!-- Colored Rectangle -->\n",
       "  <polygon points=\"95.0,0.0 109.9485979497544,14.948597949754403 109.9485979497544,74.9485979497544 95.0,60.0\" style=\"fill:#ECB172A0;stroke-width:0\"/>\n",
       "\n",
       "  <!-- Horizontal lines -->\n",
       "  <line x1=\"95\" y1=\"0\" x2=\"215\" y2=\"0\" style=\"stroke-width:2\" />\n",
       "  <line x1=\"109\" y1=\"14\" x2=\"229\" y2=\"14\" style=\"stroke-width:2\" />\n",
       "\n",
       "  <!-- Vertical lines -->\n",
       "  <line x1=\"95\" y1=\"0\" x2=\"109\" y2=\"14\" style=\"stroke-width:2\" />\n",
       "  <line x1=\"215\" y1=\"0\" x2=\"229\" y2=\"14\" style=\"stroke-width:2\" />\n",
       "\n",
       "  <!-- Colored Rectangle -->\n",
       "  <polygon points=\"95.0,0.0 215.0,0.0 229.9485979497544,14.948597949754403 109.9485979497544,14.948597949754403\" style=\"fill:#ECB172A0;stroke-width:0\"/>\n",
       "\n",
       "  <!-- Horizontal lines -->\n",
       "  <line x1=\"109\" y1=\"14\" x2=\"229\" y2=\"14\" style=\"stroke-width:2\" />\n",
       "  <line x1=\"109\" y1=\"74\" x2=\"229\" y2=\"74\" style=\"stroke-width:2\" />\n",
       "\n",
       "  <!-- Vertical lines -->\n",
       "  <line x1=\"109\" y1=\"14\" x2=\"109\" y2=\"74\" style=\"stroke-width:2\" />\n",
       "  <line x1=\"229\" y1=\"14\" x2=\"229\" y2=\"74\" style=\"stroke-width:2\" />\n",
       "\n",
       "  <!-- Colored Rectangle -->\n",
       "  <polygon points=\"109.9485979497544,14.948597949754403 229.9485979497544,14.948597949754403 229.9485979497544,74.9485979497544 109.9485979497544,74.9485979497544\" style=\"fill:#ECB172A0;stroke-width:0\"/>\n",
       "\n",
       "  <!-- Text -->\n",
       "  <text x=\"169.948598\" y=\"94.948598\" font-size=\"1.0rem\" font-weight=\"100\" text-anchor=\"middle\" >1440</text>\n",
       "  <text x=\"249.948598\" y=\"44.948598\" font-size=\"1.0rem\" font-weight=\"100\" text-anchor=\"middle\" transform=\"rotate(-90,249.948598,44.948598)\">720</text>\n",
       "  <text x=\"92.474299\" y=\"87.474299\" font-size=\"1.0rem\" font-weight=\"100\" text-anchor=\"middle\" transform=\"rotate(45,92.474299,87.474299)\">1</text>\n",
       "</svg>\n",
       "        </td>\n",
       "    </tr>\n",
       "</table></div></li></ul></div></li><li class='xr-section-item'><input id='section-ae13aa17-6995-49ab-8a5e-987dbafc6c52' class='xr-section-summary-in' type='checkbox'  ><label for='section-ae13aa17-6995-49ab-8a5e-987dbafc6c52' class='xr-section-summary' >Attributes: <span>(37)</span></label><div class='xr-section-inline-details'></div><div class='xr-section-details'><dl class='xr-attrs'><dt><span>Conventions :</span></dt><dd>CF-1.6, ACDD-1.3</dd><dt><span>cdm_data_type :</span></dt><dd>Grid</dd><dt><span>comment :</span></dt><dd>Data was converted from NetCDF-3 to NetCDF-4 format with metadata updates in November 2017.</dd><dt><span>creator_email :</span></dt><dd>oisst-help@noaa.gov</dd><dt><span>creator_url :</span></dt><dd>https://www.ncei.noaa.gov/</dd><dt><span>date_created :</span></dt><dd>2020-05-08T19:05:13Z</dd><dt><span>date_modified :</span></dt><dd>2020-05-08T19:05:13Z</dd><dt><span>geospatial_lat_max :</span></dt><dd>90.0</dd><dt><span>geospatial_lat_min :</span></dt><dd>-90.0</dd><dt><span>geospatial_lat_resolution :</span></dt><dd>0.25</dd><dt><span>geospatial_lat_units :</span></dt><dd>degrees_north</dd><dt><span>geospatial_lon_max :</span></dt><dd>360.0</dd><dt><span>geospatial_lon_min :</span></dt><dd>0.0</dd><dt><span>geospatial_lon_resolution :</span></dt><dd>0.25</dd><dt><span>geospatial_lon_units :</span></dt><dd>degrees_east</dd><dt><span>history :</span></dt><dd>Final file created using preliminary as first guess, and 3 days of AVHRR data. Preliminary uses only 1 day of AVHRR data.</dd><dt><span>id :</span></dt><dd>oisst-avhrr-v02r01.19810901.nc</dd><dt><span>institution :</span></dt><dd>NOAA/National Centers for Environmental Information</dd><dt><span>instrument :</span></dt><dd>Earth Remote Sensing Instruments &gt; Passive Remote Sensing &gt; Spectrometers/Radiometers &gt; Imaging Spectrometers/Radiometers &gt; AVHRR &gt; Advanced Very High Resolution Radiometer</dd><dt><span>instrument_vocabulary :</span></dt><dd>Global Change Master Directory (GCMD) Instrument Keywords</dd><dt><span>keywords :</span></dt><dd>Earth Science &gt; Oceans &gt; Ocean Temperature &gt; Sea Surface Temperature</dd><dt><span>keywords_vocabulary :</span></dt><dd>Global Change Master Directory (GCMD) Earth Science Keywords</dd><dt><span>metadata_link :</span></dt><dd>https://doi.org/10.25921/RE9P-PT57</dd><dt><span>naming_authority :</span></dt><dd>gov.noaa.ncei</dd><dt><span>ncei_template_version :</span></dt><dd>NCEI_NetCDF_Grid_Template_v2.0</dd><dt><span>platform :</span></dt><dd>Ships, buoys, Argo floats, MetOp-A, MetOp-B</dd><dt><span>platform_vocabulary :</span></dt><dd>Global Change Master Directory (GCMD) Platform Keywords</dd><dt><span>processing_level :</span></dt><dd>NOAA Level 4</dd><dt><span>product_version :</span></dt><dd>Version v02r01</dd><dt><span>references :</span></dt><dd>Reynolds, et al.(2007) Daily High-Resolution-Blended Analyses for Sea Surface Temperature (available at https://doi.org/10.1175/2007JCLI1824.1). Banzon, et al.(2016) A long-term record of blended satellite and in situ sea-surface temperature for climate monitoring, modeling and environmental studies (available at https://doi.org/10.5194/essd-8-165-2016). Huang et al. (2020) Improvements of the Daily Optimum Interpolation Sea Surface Temperature (DOISST) Version v02r01, submitted.Climatology is based on 1971-2000 OI.v2 SST. Satellite data: Pathfinder AVHRR SST and Navy AVHRR SST. Ice data: NCEP Ice and GSFC Ice.</dd><dt><span>sensor :</span></dt><dd>Thermometer, AVHRR</dd><dt><span>source :</span></dt><dd>ICOADS, NCEP_GTS, GSFC_ICE, NCEP_ICE, Pathfinder_AVHRR, Navy_AVHRR</dd><dt><span>standard_name_vocabulary :</span></dt><dd>CF Standard Name Table (v40, 25 January 2017)</dd><dt><span>summary :</span></dt><dd>NOAAs 1/4-degree Daily Optimum Interpolation Sea Surface Temperature (OISST) (sometimes referred to as Reynolds SST, which however also refers to earlier products at different resolution), currently available as version v02r01, is created by interpolating and extrapolating SST observations from different sources, resulting in a smoothed complete field. The sources of data are satellite (AVHRR) and in situ platforms (i.e., ships and buoys), and the specific datasets employed may change over time. At the marginal ice zone, sea ice concentrations are used to generate proxy SSTs.  A preliminary version of this file is produced in near-real time (1-day latency), and then replaced with a final version after 2 weeks. Note that this is the AVHRR-ONLY DOISST, available from Oct 1981, but there is a companion DOISST product that includes microwave satellite data, available from June 2002</dd><dt><span>time_coverage_end :</span></dt><dd>1981-09-01T23:59:59Z</dd><dt><span>time_coverage_start :</span></dt><dd>1981-09-01T00:00:00Z</dd><dt><span>title :</span></dt><dd>NOAA/NCEI 1/4 Degree Daily Optimum Interpolation Sea Surface Temperature (OISST) Analysis, Version 2.1 - Final</dd></dl></div></li></ul></div></div>"
      ],
      "text/plain": [
       "<xarray.Dataset>\n",
       "Dimensions:  (time: 2, zlev: 1, lat: 720, lon: 1440)\n",
       "Coordinates:\n",
       "  * lat      (lat) float32 -89.88 -89.62 -89.38 -89.12 ... 89.38 89.62 89.88\n",
       "  * lon      (lon) float32 0.125 0.375 0.625 0.875 ... 359.1 359.4 359.6 359.9\n",
       "  * time     (time) datetime64[ns] 1981-09-01T12:00:00 1981-09-02T12:00:00\n",
       "  * zlev     (zlev) float32 0.0\n",
       "Data variables:\n",
       "    anom     (time, zlev, lat, lon) float32 dask.array<chunksize=(2, 1, 720, 1440), meta=np.ndarray>\n",
       "    err      (time, zlev, lat, lon) float32 dask.array<chunksize=(2, 1, 720, 1440), meta=np.ndarray>\n",
       "    ice      (time, zlev, lat, lon) float32 dask.array<chunksize=(2, 1, 720, 1440), meta=np.ndarray>\n",
       "    sst      (time, zlev, lat, lon) float32 dask.array<chunksize=(2, 1, 720, 1440), meta=np.ndarray>\n",
       "Attributes: (12/37)\n",
       "    Conventions:                CF-1.6, ACDD-1.3\n",
       "    cdm_data_type:              Grid\n",
       "    comment:                    Data was converted from NetCDF-3 to NetCDF-4 ...\n",
       "    creator_email:              oisst-help@noaa.gov\n",
       "    creator_url:                https://www.ncei.noaa.gov/\n",
       "    date_created:               2020-05-08T19:05:13Z\n",
       "    ...                         ...\n",
       "    source:                     ICOADS, NCEP_GTS, GSFC_ICE, NCEP_ICE, Pathfin...\n",
       "    standard_name_vocabulary:   CF Standard Name Table (v40, 25 January 2017)\n",
       "    summary:                    NOAAs 1/4-degree Daily Optimum Interpolation ...\n",
       "    time_coverage_end:          1981-09-01T23:59:59Z\n",
       "    time_coverage_start:        1981-09-01T00:00:00Z\n",
       "    title:                      NOAA/NCEI 1/4 Degree Daily Optimum Interpolat..."
      ]
     },
     "execution_count": 11,
     "metadata": {},
     "output_type": "execute_result"
    }
   ],
   "source": [
    "oisst_zarr = xr.open_zarr(recipe.target_mapper, consolidated=True)\n",
    "oisst_zarr"
   ]
  },
  {
   "cell_type": "code",
   "execution_count": 12,
   "metadata": {},
   "outputs": [
    {
     "data": {
      "text/plain": [
       "<matplotlib.collections.QuadMesh at 0x166dd1e80>"
      ]
     },
     "execution_count": 12,
     "metadata": {},
     "output_type": "execute_result"
    },
    {
     "data": {
      "image/png": "[encoded data removed]",
      "text/plain": [
       "<Figure size 432x288 with 2 Axes>"
      ]
     },
     "metadata": {
      "needs_background": "light"
     },
     "output_type": "display_data"
    }
   ],
   "source": [
    "oisst_zarr['sst'].sel(time='1981-09-02').plot()"
   ]
  },
  {
   "cell_type": "markdown",
   "metadata": {},
   "source": [
    "There it is! Some zarr data that we created during this tutorial! We have converted the netCDF OISST data to zarr and opened it up in xarray. We have a working local recipe.\n",
    "\n",
    "If we wanted to run the recipe on the full dataset (as opposed to the much smaller pruned version), we would just repeat the above steps on recipe rather than recipe_pruned. This would take a long time, but it would work."
   ]
  },
  {
   "cell_type": "markdown",
   "metadata": {},
   "source": [
    "## End of Part 2\n",
    "\n",
    "In this part of the tutorial we took the `FilePattern` defined in Part 1 and ran it on our local machine to produce some zarr OISST data. We created the recipe, set up logging, pruned the recipe, and ran the recipe with the `.to_function()` method. We then used `xarray` to check the output.\n",
    "\n",
    "Part 2 completes the features of the `pangeo-forge-recipe` library that we will be looking at in this tutorial sequence. It's important to note - `pangeo-forge-recipes` is a stand alone library that could be run to create ARCO data without utilizing any of the cloud aspects of Pangeo Forge.\n",
    "\n",
    "Utilizing the cloud is a really powerful aspect of Pangeo Forge, however, so in the next part of the tutorial we will be moving on to how we take our local recipe and get it set up for Pangeo Forge Cloud."
   ]
  },
  {
   "cell_type": "markdown",
   "metadata": {},
   "source": [
    "### Code Summary\n",
    "\n",
    "The code written in part 2 could all be written together as:"
   ]
  },
  {
   "cell_type": "code",
   "execution_count": null,
   "metadata": {},
   "outputs": [],
   "source": [
    "import xarray as xr\n",
    "\n",
    "from pangeo_forge_recipes.recipes import XarrayZarrRecipe\n",
    "from pangeo_forge_recipes.recipes import setup_logging\n",
    "\n",
    "# Create recipe object\n",
    "recipe = XarrayZarrRecipe(pattern, inputs_per_chunk=2)\n",
    "\n",
    "# Set up logging\n",
    "setup_logging()\n",
    "\n",
    "# Prune the recipe\n",
    "recipe_pruned = recipe.copy_pruned()\n",
    "\n",
    "# Run the recipe\n",
    "run_function = recipe_pruned.to_function()\n",
    "run_function()\n",
    "\n",
    "# Check the output\n",
    "oisst_zarr = xr.open_zarr(recipe.target_mapper, consolidated=True)\n",
    "oisst_zarr"
   ]
  },
  {
   "cell_type": "code",
   "execution_count": null,
   "metadata": {},
   "outputs": [],
   "source": []
  }
 ],
 "metadata": {
  "celltoolbar": "Tags",
  "interpreter": {
   "hash": "872ea42c32c3f63d8f4b36be21cfb5d37e4f64dbfc719d9980b5e00daca69998"
  },
  "kernelspec": {
   "display_name": "Python 3 (ipykernel)",
   "language": "python",
   "name": "python3"
  },
  "language_info": {
   "codemirror_mode": {
    "name": "ipython",
    "version": 3
   },
   "file_extension": ".py",
   "mimetype": "text/x-python",
   "name": "python",
   "nbconvert_exporter": "python",
   "pygments_lexer": "ipython3",
   "version": "3.9.9"
  }
 },
 "nbformat": 4,
 "nbformat_minor": 2
}
