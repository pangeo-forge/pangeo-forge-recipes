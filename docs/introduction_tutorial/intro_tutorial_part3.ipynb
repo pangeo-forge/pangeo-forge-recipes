{
 "cells": [
  {
   "cell_type": "markdown",
   "metadata": {},
   "source": [
    "# Setting up a recipe to run in the cloud (Intro Tutorial Part 3)\n",
    "\n",
    "Welcome back to the Pangeo Forge introduction tutorial!\n",
    "\n",
    "This tutorial is split into three parts:\n",
    "\n",
    "1. Defining a `FilePattern`\n",
    "2. Defining a recipe and running it locally\n",
    "3. Setting up a recipe to run in the cloud\n",
    "\n",
    "Throughout this tutorial we are going to convert NOAA OISST stored in netCDF to Zarr. OISST is a global, gridded ocean sea surface temperature dataset at daily 1/4 degree resolution. By the end of this tutorial sequence you will have converted some OISST data to zarr, be able to access a sample on your computer, and see how to propose the recipe for cloud deployment!\n",
    "\n",
    "Here we tackle **Part 3 - Setting up a recipe to run in the cloud**. We will assume that you already have `pangeo-forge-recipes` installed."
   ]
  },
  {
   "cell_type": "markdown",
   "metadata": {},
   "source": [
    "## Steps to Running in the Cloud\n",
    "\n",
    "We are at an exciting point - transitioning to Pangeo Forge Cloud. In order to take our local recipe and set it up for the cloud we will need to:\n",
    "\n",
    "1. Fork the `staged-recipes` repo\n",
    "2. Add the recipe files: a `.py` file and a `meta.yml` file\n",
    "4. Make a PR to the `staged-recipes` repo\n"
   ]
  },
  {
   "cell_type": "markdown",
   "metadata": {},
   "source": [
    "## Fork the `staged-recipes` repo\n",
    "\n",
    "[`staged-recipes`](https://github.com/pangeo-forge/staged-recipes) is a repository that exists as a staging ground for recipes. It is where recipes get reviewed before they are run. Once the recipe is run the code will be transitioned to its own repository for that recipe, called a **feedstock**. \n",
    "\n",
    "You can fork a repo through the web browser or the Github CLI. Checkout the [Github docs](https://docs.github.com/en/get-started/quickstart/fork-a-repo) for steps how to do this."
   ]
  },
  {
   "cell_type": "markdown",
   "metadata": {},
   "source": [
    "## Add the recipe files\n",
    "\n",
    "Within `staged-recipes`, recipes files should go in a new folder in the `recipes` subdirectory. In the `recipes` folder, add a new folder for your dataset. In the example below we call the folder `oissst`. The final file structure we are creating is this:\n",
    "\n",
    "```\n",
    "staged-recipes/recipes/\n",
    "                └──oisst/\n",
    "                   ├──recipe.py\n",
    "                   └──meta.yml\n",
    "```\n",
    "where the name of the folder `oisst` would vary based on the name of the dataset.\n",
    "\n",
    "Question: does the name of the file hold any significance?"
   ]
  },
  {
   "cell_type": "markdown",
   "metadata": {},
   "source": [
    "### Copy the recipe code into a single `.py` file\n",
    "\n",
    "Within the `oisst` folder create a file called `recipe.py` and copy the recipe creation code from the first two parts of this tutorial. We don't have to copy any of the code we used for local testing - the cloud automation will take care of testing and scaling the processing on the cloud infrastructure. The `recipe.py` file should look like:"
   ]
  },
  {
   "cell_type": "code",
   "execution_count": 1,
   "metadata": {},
   "outputs": [],
   "source": [
    "import pandas as pd\n",
    "\n",
    "from pangeo_forge_recipes.patterns import ConcatDim, FilePattern\n",
    "from pangeo_forge_recipes.recipes import XarrayZarrRecipe\n",
    "\n",
    "dates = pd.date_range('1981-09-01', '2022-02-01', freq='D')\n",
    "\n",
    "def make_url(time):\n",
    "    yyyymm = time.strftime('%Y%m')\n",
    "    yyyymmdd = time.strftime('%Y%m%d')\n",
    "    return (\n",
    "        'https://www.ncei.noaa.gov/data/sea-surface-temperature-optimum-interpolation/'\n",
    "        f'v2.1/access/avhrr/{yyyymm}/oisst-avhrr-v02r01.{yyyymmdd}.nc'\n",
    "    )\n",
    "\n",
    "time_concat_dim = ConcatDim(\"time\", dates, nitems_per_file=1)\n",
    "pattern = FilePattern(make_url, time_concat_dim)\n",
    "\n",
    "recipe = XarrayZarrRecipe(pattern, inputs_per_chunk=2)"
   ]
  },
  {
   "cell_type": "markdown",
   "metadata": {},
   "source": [
    "Another step, complete!"
   ]
  },
  {
   "cell_type": "markdown",
   "metadata": {},
   "source": [
    "## Create a `meta.yml` file\n",
    "\n",
    "The `meta.yml` contains two important things:\n",
    "1. metadata about the recipe \n",
    "2. the **bakery**, designating the cloud infrastructure where the recipe will be run and stored.\n",
    "\n",
    "Here we will walk through each field of the `meta.yml`. A template of `meta.yml` is also available [here](https://github.com/pangeo-forge/sandbox/blob/main/recipe/meta.yaml). \n",
    "\n",
    "Question/Note -- I don't see a place in our docs where someone could read more about `meta.yml`, perhaps an idea for the future. Address: fields that are required/optional, for \"roles\" what are the options, perhaps more detail about how important it is that we are pinning the PF version, what happens with the metadata (catalog?)\n"
   ]
  },
  {
   "cell_type": "markdown",
   "metadata": {},
   "source": [
    "### `title` and `description`\n",
    "\n",
    "These fields describe the dataset. They are not highly restricted.\n",
    "\n",
    "```{code-block} yaml\n",
    ":lineno-start: 1\n",
    "title: \"NOAA Optimum Interpolated SST\"\n",
    "description: \"1/4 degree daily gap filled sea surface temperature (SST)\"\n",
    "```"
   ]
  },
  {
   "cell_type": "markdown",
   "metadata": {},
   "source": [
    "```{admonition} Full File Preview\n",
    ":class: dropdown\n",
    "```{code-block} yaml\n",
    ":emphasize-lines: 1, 2\n",
    "\n",
    "title: \"NOAA Optimum Interpolated SST\"\n",
    "description: \"1/4 degree daily gap filled sea surface temperature (SST)\"\n",
    "```"
   ]
  },
  {
   "cell_type": "markdown",
   "metadata": {},
   "source": [
    "### `pangeo_forge_version`\n",
    "\n",
    "This is the version of the `pangeo_forge_recipes` library that you used to create the recipe. It's important to track in case someone wants to run your recipe in the future. Conda users can find this information with `conda list`.\n",
    "\n",
    "```{code-block} yaml\n",
    ":lineno-start: 3\n",
    "pangeo_forge_version: \"0.6.2\"\n",
    "```"
   ]
  },
  {
   "cell_type": "markdown",
   "metadata": {},
   "source": [
    "```{admonition} Full File Preview\n",
    ":class: dropdown\n",
    "```{code-block} yaml\n",
    ":lineno-start: 1\n",
    ":emphasize-lines: 3\n",
    "\n",
    "title: \"NOAA Optimum Interpolated SST\"\n",
    "description: \"1/4 degree daily gap filled sea surface temperature (SST)\"\n",
    "pangeo_forge_version: \"0.6.2\"\n",
    "```"
   ]
  },
  {
   "cell_type": "markdown",
   "metadata": {},
   "source": [
    "### `recipes` section\n",
    "\n",
    "Question: How are these chosen?\n",
    "\n",
    "```{code-block} yaml\n",
    ":lineno-start: 4\n",
    "recipes:\n",
    "  - id: identifier-for-your-recipe\n",
    "    object: \"recipe:recipe\"\n",
    "```"
   ]
  },
  {
   "cell_type": "markdown",
   "metadata": {},
   "source": [
    "```{admonition} Full File Preview\n",
    ":class: dropdown\n",
    "```{code-block} yaml\n",
    ":lineno-start: 1\n",
    ":emphasize-lines: 4-6\n",
    "\n",
    "title: \"NOAA Optimum Interpolated SST\"\n",
    "description: \"1/4 degree daily gap filled sea surface temperature (SST)\"\n",
    "pangeo_forge_version: \"0.6.2\"\n",
    "recipes:\n",
    "  - id: ?identifier-for-your-recipe?\n",
    "    object: \"recipe:recipe\"\n",
    "```"
   ]
  },
  {
   "cell_type": "markdown",
   "metadata": {},
   "source": [
    "### `provenance` section\n",
    "\n",
    "Provenance explains the origin of the dataset. Here we are listing information about the data provider.\n",
    "\n",
    "```{code-block} yaml\n",
    ":lineno-start: 7\n",
    "provenance:\n",
    "  providers:\n",
    "    - name: \"NOAA NCEI\"\n",
    "      description: \"National Oceanographic & Atmospheric Administration National Centers for Environmental Information\"\n",
    "      roles:\n",
    "        - producer\n",
    "        - licensor\n",
    "      url: https://www.ncdc.noaa.gov/oisst\n",
    "  license: \"CC-BY-4.0\"\n",
    "```\n",
    "\n",
    "`name` and `description` refer to the data provider. `roles` are ...?  (link to the options?). Docs: where you can have multiple inputs. `license` is set by NOAA. This information is typically available ____."
   ]
  },
  {
   "cell_type": "markdown",
   "metadata": {},
   "source": [
    "```{admonition} Full File Preview\n",
    ":class: dropdown\n",
    "```{code-block} yaml\n",
    ":lineno-start: 1\n",
    ":emphasize-lines: 7-15\n",
    "\n",
    "title: \"NOAA Optimum Interpolated SST\"\n",
    "description: \"1/4 degree daily gap filled sea surface temperature (SST)\"\n",
    "pangeo_forge_version: \"0.6.2\"\n",
    "recipes:\n",
    "  - id: ?identifier-for-your-recipe?\n",
    "    object: \"recipe:recipe\"\n",
    "provenance:\n",
    "  providers:\n",
    "    - name: \"NOAA NCEI\"\n",
    "      description: \"National Oceanographic & Atmospheric Administration National Centers for Environmental Information\"\n",
    "      roles:\n",
    "        - producer\n",
    "        - licensor\n",
    "      url: https://www.ncdc.noaa.gov/oisst\n",
    "  license: \"CC-BY-4.0\"\n",
    "```"
   ]
  },
  {
   "cell_type": "markdown",
   "metadata": {},
   "source": [
    "### `maintainers` section\n",
    "\n",
    "This is information about you, the recipe creator! Multiple maintainers can be listed and the required fields are `name`, ___.\n",
    "\n",
    "```{code-block} yaml\n",
    ":lineno-start: 17\n",
    "maintainers:\n",
    "  - name: \"Dorothy Vaughan\"\n",
    "    orcid: \"9999-9999-9999-9998\"\n",
    "    github: dvaughan0987\n",
    "```"
   ]
  },
  {
   "cell_type": "markdown",
   "metadata": {},
   "source": [
    "```{admonition} Full File Preview\n",
    ":class: dropdown\n",
    "```{code-block} yaml\n",
    ":lineno-start: 1\n",
    ":emphasize-lines: 16-19\n",
    "\n",
    "title: \"NOAA Optimum Interpolated SST\"\n",
    "description: \"1/4 degree daily gap filled sea surface temperature (SST)\"\n",
    "pangeo_forge_version: \"0.6.2\"\n",
    "recipes:\n",
    "  - id: ?identifier-for-your-recipe?\n",
    "    object: \"recipe:recipe\"\n",
    "provenance:\n",
    "  providers:\n",
    "    - name: \"NOAA NCEI\"\n",
    "      description: \"National Oceanographic & Atmospheric Administration National Centers for Environmental Information\"\n",
    "      roles:\n",
    "        - producer\n",
    "        - licensor\n",
    "      url: https://www.ncdc.noaa.gov/oisst\n",
    "  license: \"CC-BY-4.0\"\n",
    "maintainers:\n",
    "  - name: \"Dorothy Vaughan\"\n",
    "    orcid: \"9999-9999-9999-9998\"\n",
    "    github: dvaughan0987\n",
    "```"
   ]
  },
  {
   "cell_type": "markdown",
   "metadata": {},
   "source": [
    "### `bakery` section\n",
    "\n",
    "**Bakeries** are where the work gets done on Pangeo Forge Cloud. A single bakery is a set of cloud infrastructure hosted by a particular institution or group.\n",
    "\n",
    "Choosing the `bakery` is how you choose which cloud infrastructure on which the recipe will be run and hosted. Quetion: How do you know which bakeries you are allowed to use? Is the [bakery database](https://github.com/pangeo-forge/bakery-database/blob/main/bakeries.yaml) something we are recommending?\n",
    "\n",
    "```{code-block} yaml\n",
    ":lineno-start: 17\n",
    "bakery:\n",
    "  id: \"columbia-staging\"\n",
    "```"
   ]
  },
  {
   "cell_type": "markdown",
   "metadata": {},
   "source": [
    "```{admonition} Full File Preview\n",
    ":class: dropdown\n",
    "```{code-block} yaml\n",
    ":lineno-start: 1\n",
    ":emphasize-lines: 20, 21\n",
    "\n",
    "title: \"NOAA Optimum Interpolated SST\"\n",
    "description: \"1/4 degree daily gap filled sea surface temperature (SST)\"\n",
    "pangeo_forge_version: \"0.6.2\"\n",
    "recipes:\n",
    "  - id: ?identifier-for-your-recipe?\n",
    "    object: \"recipe:recipe\"\n",
    "provenance:\n",
    "  providers:\n",
    "    - name: \"NOAA NCEI\"\n",
    "      description: \"National Oceanographic & Atmospheric Administration National Centers for Environmental Information\"\n",
    "      roles:\n",
    "        - producer\n",
    "        - licensor\n",
    "      url: https://www.ncdc.noaa.gov/oisst\n",
    "  license: \"CC-BY-4.0\"\n",
    "maintainers:\n",
    "  - name: \"Dorothy Vaughan\"\n",
    "    orcid: \"9999-9999-9999-9998\"\n",
    "    github: dvaughan0987\n",
    "bakery:\n",
    "  id: \"columbia-staging\"\n",
    "```"
   ]
  },
  {
   "cell_type": "markdown",
   "metadata": {},
   "source": [
    "And that is the `meta.yml`! Between the `meta.yml` and `recipe.py` we have now put together all the files we need for cloud processing."
   ]
  },
  {
   "cell_type": "markdown",
   "metadata": {},
   "source": [
    "## Make a PR to the `staged-recipes` repo\n",
    "\n",
    "It's time to submit the changes as a Pull Request. If you have opened an issue for your dataset you can reference it in the PR. Otherwise, provide a notes about the datasets and hit submit!"
   ]
  },
  {
   "cell_type": "markdown",
   "metadata": {},
   "source": [
    "## After the PR\n",
    "\n",
    "With the PR in, all the steps to stage the recipe are complete! At this point a Pangeo Forge Bot will perform some automated steps, such as checking syntax and required fields. [This recipe](https://github.com/pangeo-forge/staged-recipes/pull/66#issuecomment-1048578240) is an example of the Bot in action. The bot, and possibly a Pangeo Forge Maintainer will guide you through any steps to be taken on your recipe before merge.\n",
    "\n",
    "Merging the PR will kick off a series of automated steps to begin the processing. These include:\n",
    "\n",
    "- creating a feedstock repository\n",
    "- setting up the necessary bakery infrastructure\n",
    "- deploying the recipe\n",
    "\n",
    "The relevant information about the recipe run will be communicated directly in the PR. If you are interested in learning more about how your recipe is processed, check out the {doc}`cloud_automoation_user_guide/index`."
   ]
  },
  {
   "cell_type": "markdown",
   "metadata": {},
   "source": [
    "## End of the Introduction Tutorial\n",
    "\n",
    "Congratulations, you've completed the introduction tutorial!\n",
    "\n",
    "From here, we hope you are excited to try writing your own recipe. As you write, you can find additional documentation helpful, such as the {doc}`recipe_user_guide/index` or the more advanced {doc}`tutorials/index`. You can also open issues in [`pangeo_forge_recipes`](https://github.com/pangeo-forge/pangeo-forge-recipes).\n",
    "\n",
    "Happy ARCO building!"
   ]
  }
 ],
 "metadata": {
  "interpreter": {
   "hash": "872ea42c32c3f63d8f4b36be21cfb5d37e4f64dbfc719d9980b5e00daca69998"
  },
  "kernelspec": {
   "display_name": "Python 3.9.9 ('pangeo-forge-recipes')",
   "language": "python",
   "name": "python3"
  },
  "language_info": {
   "codemirror_mode": {
    "name": "ipython",
    "version": 3
   },
   "file_extension": ".py",
   "mimetype": "text/x-python",
   "name": "python",
   "nbconvert_exporter": "python",
   "pygments_lexer": "ipython3",
   "version": "3.9.9"
  },
  "orig_nbformat": 4
 },
 "nbformat": 4,
 "nbformat_minor": 2
}
