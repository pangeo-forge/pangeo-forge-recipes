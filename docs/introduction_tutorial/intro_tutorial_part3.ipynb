{
 "cells": [
  {
   "cell_type": "markdown",
   "metadata": {},
   "source": [
    "# Setting up a recipe to run in the cloud\n",
    "\n",
    "Welcome to the Pangeo Forge introduction tutorial! This is the 3rd part in a sequence, the flow of which is described {doc}`here </introduction_tutorial/index>`."
   ]
  },
  {
   "cell_type": "markdown",
   "metadata": {},
   "source": [
    "## Outline Part 3\n",
    "\n",
    "We are at an exciting point - transitioning to Pangeo Forge Cloud. In this part of the tutorial we are setting up our recipe, which we have thus far only run in a limited comupte environment on a small section of data, to run at scale in the cloud. In order to do that we will need to:\n",
    "\n",
    "1. Fork the `staged-recipes` repo\n",
    "2. Add the recipe files: a `.py` file and a `meta.yml` file\n",
    "4. Make a PR to the `staged-recipes` repo\n"
   ]
  },
  {
   "cell_type": "markdown",
   "metadata": {},
   "source": [
    "### A note for sandbox users\n",
    "If you have been using the Pangeo Forge Sandbox for the first two parts that's great. In order to complete this part of the tutorial you will have to complete step 1 locally, and download the files you make in step 2 in order to make the PR in step 3."
   ]
  },
  {
   "cell_type": "markdown",
   "metadata": {},
   "source": [
    "## Fork the `staged-recipes` repo\n",
    "\n",
    "[`staged-recipes`](https://github.com/pangeo-forge/staged-recipes) is a repository that exists as a staging ground for recipes. It is where recipes get reviewed before they are run. Once the recipe is run the code will be transitioned to its own repository for that recipe, called a **feedstock**. \n",
    "\n",
    "You can fork a repo through the web browser or the Github CLI. Checkout the [Github docs](https://docs.github.com/en/get-started/quickstart/fork-a-repo) for steps how to do this."
   ]
  },
  {
   "cell_type": "markdown",
   "metadata": {},
   "source": [
    "## Add the recipe files\n",
    "\n",
    "Within `staged-recipes`, recipes files should go in a new folder for your dataset in the `recipes` subdirectory. The name of the new folder will become the name of the feedstock repository, the repository where the recipe code will live after the data have been processed.\n",
    "\n",
    "In the example below we call the folder `oisst`, so the feedstoack will be called `oisst-feedstock`. The final file structure we are creating is this:\n",
    "\n",
    "```\n",
    "staged-recipes/recipes/\n",
    "                └──oisst/\n",
    "                   ├──recipe.py\n",
    "                   └──meta.yml\n",
    "```\n",
    "The name of the folder `oisst` would vary based on the name of the dataset."
   ]
  },
  {
   "cell_type": "markdown",
   "metadata": {},
   "source": [
    "### Copy the recipe code into a single `.py` file\n",
    "\n",
    "Within the `oisst` folder create a file called `recipe.py` and copy the recipe creation code from the first two parts of this tutorial. We don't have to copy any of the code we used for local testing - the cloud automation will take care of testing and scaling the processing on the cloud infrastructure. We will call this file `recipe.py` the **recipe module**. For OISST it should look like:"
   ]
  },
  {
   "cell_type": "code",
   "execution_count": 1,
   "metadata": {},
   "outputs": [],
   "source": [
    "import pandas as pd\n",
    "\n",
    "from pangeo_forge_recipes.patterns import ConcatDim, FilePattern\n",
    "from pangeo_forge_recipes.recipes import XarrayZarrRecipe\n",
    "\n",
    "dates = pd.date_range('1981-09-01', '2022-02-01', freq='D')\n",
    "\n",
    "def make_url(time):\n",
    "    yyyymm = time.strftime('%Y%m')\n",
    "    yyyymmdd = time.strftime('%Y%m%d')\n",
    "    return (\n",
    "        'https://www.ncei.noaa.gov/data/sea-surface-temperature-optimum-interpolation/'\n",
    "        f'v2.1/access/avhrr/{yyyymm}/oisst-avhrr-v02r01.{yyyymmdd}.nc'\n",
    "    )\n",
    "\n",
    "time_concat_dim = ConcatDim(\"time\", dates, nitems_per_file=1)\n",
    "pattern = FilePattern(make_url, time_concat_dim)\n",
    "\n",
    "recipe = XarrayZarrRecipe(pattern, inputs_per_chunk=2)"
   ]
  },
  {
   "cell_type": "markdown",
   "metadata": {},
   "source": [
    "Another step, complete!"
   ]
  },
  {
   "cell_type": "markdown",
   "metadata": {},
   "source": [
    "## Create a `meta.yml` file\n",
    "\n",
    "The `meta.yml` is a YAML file. YAML is a common language used for writing configuration files. `meta.yml` contains two important things:\n",
    "1. metadata about the recipe \n",
    "2. the **bakery**, designating the cloud infrastructure where the recipe will be run and stored.\n",
    "\n",
    "Here we will walk through each field of the `meta.yml`. A template of `meta.yml` is also available [here](https://github.com/pangeo-forge/sandbox/blob/main/recipe/meta.yaml). \n"
   ]
  },
  {
   "cell_type": "markdown",
   "metadata": {},
   "source": [
    "### `title` and `description`\n",
    "\n",
    "These fields describe the dataset. They are not highly restricted.\n",
    "\n",
    "```{code-block} yaml\n",
    ":lineno-start: 1\n",
    "title: \"NOAA Optimum Interpolated SST\"\n",
    "description: \"1/4 degree daily gap filled sea surface temperature (SST)\"\n",
    "```"
   ]
  },
  {
   "cell_type": "markdown",
   "metadata": {},
   "source": [
    "```{admonition} Full File Preview\n",
    ":class: dropdown\n",
    "```{code-block} yaml\n",
    ":emphasize-lines: 1, 2\n",
    "\n",
    "title: \"NOAA Optimum Interpolated SST\"\n",
    "description: \"1/4 degree daily gap filled sea surface temperature (SST)\"\n",
    "```"
   ]
  },
  {
   "cell_type": "markdown",
   "metadata": {},
   "source": [
    "### `pangeo_forge_version`\n",
    "\n",
    "This is the version of the `pangeo_forge_recipes` library that you used to create the recipe. It's important to track in case someone wants to run your recipe in the future. Conda users can find this information with `conda list`.\n",
    "\n",
    "```{code-block} yaml\n",
    ":lineno-start: 3\n",
    "pangeo_forge_version: \"0.6.2\"\n",
    "```"
   ]
  },
  {
   "cell_type": "markdown",
   "metadata": {},
   "source": [
    "```{admonition} Full File Preview\n",
    ":class: dropdown\n",
    "```{code-block} yaml\n",
    ":lineno-start: 1\n",
    ":emphasize-lines: 3\n",
    "\n",
    "title: \"NOAA Optimum Interpolated SST\"\n",
    "description: \"1/4 degree daily gap filled sea surface temperature (SST)\"\n",
    "pangeo_forge_version: \"0.6.2\"\n",
    "```"
   ]
  },
  {
   "cell_type": "markdown",
   "metadata": {},
   "source": [
    "### `recipes` section\n",
    "\n",
    "The `recipes` section explains the recipes contained in the **recipe module** (`recipe.py`). This feels a bit repetitive in the case of OISST, but becomes relevant in the case where someone is defining multiple recipe classes in the same recipe module, for example with different chunk schemes.\n",
    "\n",
    "```{code-block} yaml\n",
    ":lineno-start: 4\n",
    "recipes:\n",
    "  - id: noaa-oisst-avhrr-only\n",
    "    object: \"recipe:recipe\"\n",
    "```\n",
    "The id `noaa-oisst-avhrr-only` is the name that we are giving our recipe class. It is a string that we as the maintainer chose.\n",
    "The entry `recipe:recipe` describes where the recipe Python object is.  We are telling it that our recipe object is in a file called `recipe`, inside of of a variable called `recipe`. Unless there is a specific reason to deviate, `recipe:recipe` is a good convention here."
   ]
  },
  {
   "cell_type": "markdown",
   "metadata": {},
   "source": [
    "```{admonition} Full File Preview\n",
    ":class: dropdown\n",
    "```{code-block} yaml\n",
    ":lineno-start: 1\n",
    ":emphasize-lines: 4-6\n",
    "\n",
    "title: \"NOAA Optimum Interpolated SST\"\n",
    "description: \"1/4 degree daily gap filled sea surface temperature (SST)\"\n",
    "pangeo_forge_version: \"0.6.2\"\n",
    "recipes:\n",
    "  - id: noaa-oisst-avhrr-only\n",
    "    object: \"recipe:recipe\"\n",
    "```"
   ]
  },
  {
   "cell_type": "markdown",
   "metadata": {},
   "source": [
    "### `provenance` section\n",
    "\n",
    "Provenance explains the origin of the dataset. The core information about provenance is the `provider` field, which is outlined as part of the STAC Metadata Specification. See the [STAC Provider docs](https://github.com/radiantearth/stac-spec/blob/master/collection-spec/collection-spec.md#provider-object) for more details.\n",
    "\n",
    "```{code-block} yaml\n",
    ":lineno-start: 7\n",
    "provenance:\n",
    "  providers:\n",
    "    - name: \"NOAA NCEI\"\n",
    "      description: \"National Oceanographic & Atmospheric Administration National Centers for Environmental Information\"\n",
    "      roles:\n",
    "        - producer\n",
    "        - licensor\n",
    "      url: https://www.ncdc.noaa.gov/oisst\n",
    "  license: \"CC-BY-4.0\"\n",
    "```\n",
    "One field to highlight is the `license` field, described in the STAC docs [here](https://github.com/radiantearth/stac-spec/blob/master/collection-spec/collection-spec.md#license). It is important to locate the licensing information of the dataset and provide it in the `meta.yml`."
   ]
  },
  {
   "cell_type": "markdown",
   "metadata": {},
   "source": [
    "```{admonition} Full File Preview\n",
    ":class: dropdown\n",
    "```{code-block} yaml\n",
    ":lineno-start: 1\n",
    ":emphasize-lines: 7-15\n",
    "\n",
    "title: \"NOAA Optimum Interpolated SST\"\n",
    "description: \"1/4 degree daily gap filled sea surface temperature (SST)\"\n",
    "pangeo_forge_version: \"0.6.2\"\n",
    "recipes:\n",
    "  - id: noaa-oisst-avhrr-only\n",
    "    object: \"recipe:recipe\"\n",
    "provenance:\n",
    "  providers:\n",
    "    - name: \"NOAA NCEI\"\n",
    "      description: \"National Oceanographic & Atmospheric Administration National Centers for Environmental Information\"\n",
    "      roles:\n",
    "        - producer\n",
    "        - licensor\n",
    "      url: https://www.ncdc.noaa.gov/oisst\n",
    "  license: \"CC-BY-4.0\"\n",
    "```"
   ]
  },
  {
   "cell_type": "markdown",
   "metadata": {},
   "source": [
    "### `maintainers` section\n",
    "\n",
    "This is information about you, the recipe creator! Multiple maintainers can be listed. The required fields are `name` and `github` username; `orcid` and `email` may also be included.\n",
    "\n",
    "```{code-block} yaml\n",
    ":lineno-start: 17\n",
    "maintainers:\n",
    "  - name: \"Dorothy Vaughan\"\n",
    "    orcid: \"9999-9999-9999-9999\"\n",
    "    github: dvaughan0987\n",
    "```"
   ]
  },
  {
   "cell_type": "markdown",
   "metadata": {},
   "source": [
    "```{admonition} Full File Preview\n",
    ":class: dropdown\n",
    "```{code-block} yaml\n",
    ":lineno-start: 1\n",
    ":emphasize-lines: 16-19\n",
    "\n",
    "title: \"NOAA Optimum Interpolated SST\"\n",
    "description: \"1/4 degree daily gap filled sea surface temperature (SST)\"\n",
    "pangeo_forge_version: \"0.6.2\"\n",
    "recipes:\n",
    "  - id: noaa-oisst-avhrr-only\n",
    "    object: \"recipe:recipe\"\n",
    "provenance:\n",
    "  providers:\n",
    "    - name: \"NOAA NCEI\"\n",
    "      description: \"National Oceanographic & Atmospheric Administration National Centers for Environmental Information\"\n",
    "      roles:\n",
    "        - producer\n",
    "        - licensor\n",
    "      url: https://www.ncdc.noaa.gov/oisst\n",
    "  license: \"CC-BY-4.0\"\n",
    "maintainers:\n",
    "  - name: \"Dorothy Vaughan\"\n",
    "    orcid: \"9999-9999-9999-9999\"\n",
    "    github: dvaughan0987\n",
    "```"
   ]
  },
  {
   "cell_type": "markdown",
   "metadata": {},
   "source": [
    "### `bakery` section\n",
    "\n",
    "**Bakeries** are where the work gets done on Pangeo Forge Cloud. A single bakery is a set of cloud infrastructure hosted by a particular institution or group.\n",
    "\n",
    "Selecting a `bakery` is how you choose where the recipe will be run and hosted. The [Pangeo Forge website](https://pangeo-forge.org/) will (very soon!) host a full list of available bakeries.\n",
    "\n",
    "```{code-block} yaml\n",
    ":lineno-start: 17\n",
    "bakery:\n",
    "  id: \"pangeo-ldeo-nsf-earthcube\"\n",
    "```"
   ]
  },
  {
   "cell_type": "markdown",
   "metadata": {},
   "source": [
    "```{admonition} Full File Preview\n",
    ":class: dropdown\n",
    "```{code-block} yaml\n",
    ":lineno-start: 1\n",
    ":emphasize-lines: 20, 21\n",
    "\n",
    "title: \"NOAA Optimum Interpolated SST\"\n",
    "description: \"1/4 degree daily gap filled sea surface temperature (SST)\"\n",
    "pangeo_forge_version: \"0.6.2\"\n",
    "recipes:\n",
    "  - id: noaa-oisst-avhrr-only\n",
    "    object: \"recipe:recipe\"\n",
    "provenance:\n",
    "  providers:\n",
    "    - name: \"NOAA NCEI\"\n",
    "      description: \"National Oceanographic & Atmospheric Administration National Centers for Environmental Information\"\n",
    "      roles:\n",
    "        - producer\n",
    "        - licensor\n",
    "      url: https://www.ncdc.noaa.gov/oisst\n",
    "  license: \"CC-BY-4.0\"\n",
    "maintainers:\n",
    "  - name: \"Dorothy Vaughan\"\n",
    "    orcid: \"9999-9999-9999-9999\"\n",
    "    github: dvaughan0987\n",
    "bakery:\n",
    "  id: \"pangeo-ldeo-nsf-earthcube\"\n",
    "```"
   ]
  },
  {
   "cell_type": "markdown",
   "metadata": {},
   "source": [
    "And that is the `meta.yml`! Between the `meta.yml` and `recipe.py` we have now put together all the files we need for cloud processing."
   ]
  },
  {
   "cell_type": "markdown",
   "metadata": {},
   "source": [
    "## Make a PR to the `staged-recipes` repo\n",
    "\n",
    "At this point you should have created two files - `recipe.py` and `meta.yml` and they should be in the new folder you created for your dataset in `staged-recipes/recipes`. \n",
    "\n",
    "It's time to submit the changes as a Pull Request. Creating the Pull Request on Github is what officially submits your recipe for review to run. If you have opened an issue for your dataset you can reference it in the Pull Request. Otherwise, provide a notes about the datasets and hit submit! "
   ]
  },
  {
   "cell_type": "markdown",
   "metadata": {},
   "source": [
    "## After the PR\n",
    "\n",
    "With the PR in, all the steps to stage the recipe are complete! At this point a Pangeo Forge Bot will perform some automated steps, such as checking syntax and required fields. [This recipe PR](https://github.com/pangeo-forge/staged-recipes/pull/66#issuecomment-1048578240) is an example of the Bot in action. The bot, and possibly a Pangeo Forge Maintainer will guide you through any steps to be taken on your recipe before merge.\n",
    "\n",
    "Merging the PR will kick off a series of automated steps to begin the processing. These include:\n",
    "\n",
    "- creating a feedstock repository\n",
    "- setting up the necessary bakery infrastructure\n",
    "- deploying the recipe\n",
    "\n",
    "The relevant information about the recipe run will be communicated directly in the PR. If you are interested in learning more about how your recipe is processed, check out the {doc}`/cloud_automation_user_guide/index`."
   ]
  },
  {
   "cell_type": "markdown",
   "metadata": {},
   "source": [
    "## End of the Introduction Tutorial\n",
    "\n",
    "Congratulations, you've completed the introduction tutorial!\n",
    "\n",
    "From here, we hope you are excited to try writing your own recipe. As you write, you can find additional documentation helpful, such as the {doc}`/recipe_user_guide/index` or the more advanced {doc}`/tutorials/index`. You can also open issues in [`pangeo_forge_recipes`](https://github.com/pangeo-forge/pangeo-forge-recipes).\n",
    "\n",
    "Happy ARCO building!"
   ]
  },
  {
   "cell_type": "markdown",
   "metadata": {},
   "source": []
  }
 ],
 "metadata": {
  "interpreter": {
   "hash": "872ea42c32c3f63d8f4b36be21cfb5d37e4f64dbfc719d9980b5e00daca69998"
  },
  "kernelspec": {
   "display_name": "Python 3.9.9 ('pangeo-forge-recipes')",
   "language": "python",
   "name": "python3"
  },
  "language_info": {
   "codemirror_mode": {
    "name": "ipython",
    "version": 3
   },
   "file_extension": ".py",
   "mimetype": "text/x-python",
   "name": "python",
   "nbconvert_exporter": "python",
   "pygments_lexer": "ipython3",
   "version": "3.9.9"
  },
  "orig_nbformat": 4
 },
 "nbformat": 4,
 "nbformat_minor": 2
}
