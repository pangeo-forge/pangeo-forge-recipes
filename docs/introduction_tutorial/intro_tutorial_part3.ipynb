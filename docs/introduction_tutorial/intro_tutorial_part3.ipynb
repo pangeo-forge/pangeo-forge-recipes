{
 "cells": [
  {
   "cell_type": "markdown",
   "metadata": {},
   "source": [
    "# Setting up a recipe to run in the cloud (Intro Tutorial Part 3)\n",
    "\n",
    "Welcome back to the Pangeo Forge introduction tutorial!\n",
    "\n",
    "This tutorial is split into three parts:\n",
    "\n",
    "1. Defining a `FilePattern`\n",
    "2. Defining a recipe and running it locally\n",
    "3. Setting up a recipe to run in the cloud\n",
    "\n",
    "Throughout this tutorial we are going to convert NOAA OISST stored in netCDF to Zarr. OISST is a global, gridded ocean sea surface temperature dataset at daily 1/4 degree resolution. By the end of this tutorial sequence you will have converted some OISST data to zarr, be able to access a sample on your computer, and see how to propose the recipe for cloud deployment!\n",
    "\n",
    "Here we tackle **Part 3 - Setting up a recipe to run in the cloud**. We will assume that you already have `pangeo-forge-recipes` installed."
   ]
  },
  {
   "cell_type": "markdown",
   "metadata": {},
   "source": [
    "## Steps to Running in the Cloud\n",
    "\n",
    "In order to run in the cloud you'll need to\n",
    "\n",
    "1. Fork the `staged-recipes` repo\n",
    "2. Copy the recipe code into a single `.py` file\n",
    "3. Create a `meta.yml` file\n",
    "4. Make a PR to the `staged-recipes` repo\n"
   ]
  },
  {
   "cell_type": "markdown",
   "metadata": {},
   "source": [
    "## Fork the `staged-recipes` repo\n",
    "\n",
    "[`staged-recipes`](https://github.com/pangeo-forge/staged-recipes) is a repository that exists as a staging ground for recipes. You can fork a repo through the web browser or the Github CLI. Checkout the [Github docs](https://docs.github.com/en/get-started/quickstart/fork-a-repo) for steps how to do this."
   ]
  },
  {
   "cell_type": "markdown",
   "metadata": {},
   "source": [
    "## Copy the recipe code into a single `.py` file\n",
    "\n",
    "Once you have a local fork of `staged-recipes` you can start adding your recipes files. In the `recipes` folder, add a new folder for your dataset."
   ]
  },
  {
   "cell_type": "markdown",
   "metadata": {},
   "source": [
    "Within that folder create a file called `recipe.py` and copy the recipe creation code from the first two parts of this tutorial. The file should look like:"
   ]
  },
  {
   "cell_type": "code",
   "execution_count": null,
   "metadata": {},
   "outputs": [],
   "source": [
    "import pandas as pd\n",
    "\n",
    "from pangeo_forge_recipes.patterns import ConcatDim, FilePattern\n",
    "from pangeo_forge_recipes.recipes import XarrayZarrRecipe\n",
    "\n",
    "dates = pd.date_range('1981-09-01', '2022-02-01', freq='D')\n",
    "\n",
    "def make_url(time):\n",
    "    yyyymm = time.strftime('%Y%m')\n",
    "    yyyymmdd = time.strftime('%Y%m%d')\n",
    "    return (\n",
    "        'https://www.ncei.noaa.gov/data/sea-surface-temperature-optimum-interpolation/'\n",
    "        f'v2.1/access/avhrr/{yyyymm}/oisst-avhrr-v02r01.{yyyymmdd}.nc'\n",
    "    )\n",
    "\n",
    "time_concat_dim = ConcatDim(\"time\", dates, nitems_per_file=1)\n",
    "\n",
    "pattern = FilePattern(make_url, time_concat_dim)"
   ]
  },
  {
   "cell_type": "markdown",
   "metadata": {},
   "source": [
    "Another step, complete!"
   ]
  },
  {
   "cell_type": "markdown",
   "metadata": {},
   "source": [
    "## Create a `meta.yml` file\n",
    "\n",
    "The other file that is needed is a `meta.yml` file. This file defines the deployment configuration for the recipe. There is a commented template of `meta.yml` available [here](https://github.com/pangeo-forge/sandbox/blob/main/recipe/meta.yaml).\n",
    "\n",
    "The final file structure should look something like this:\n",
    "\n",
    "```\n",
    "staged-recipes/recipes/\n",
    "     └──your_dataset_name/\n",
    "         ├──recipe.py\n",
    "         └──meta.yml\n",
    "```"
   ]
  },
  {
   "cell_type": "markdown",
   "metadata": {},
   "source": [
    "## Make a PR to the `staged-recipes` repo\n",
    "\n",
    "It's time to submit the changes as a Pull Request. If you have opened an issue for your dataset you can reference it in the PR. Otherwise, provide a notes about the datasets and submit for review!"
   ]
  },
  {
   "cell_type": "markdown",
   "metadata": {},
   "source": [
    "## After the PR\n",
    "\n",
    "With the PR in, all the steps to stage the recipe are complete! At this point a Pangeo Forge Bot will perform some automated steps, such as checking the linting, on the recipe. [This recipe]](https://github.com/pangeo-forge/staged-recipes/pull/66#issuecomment-1048578240) is an example of the Bot in action.\n",
    "\n",
    "Merging the PR will kick off a series of automated steps to begin the processing. These include:\n",
    "\n",
    "- creating a feedstock repository\n",
    "- setting up the necessary bakery infrastructure\n",
    "- deploying the recipe\n",
    "\n",
    "The relevant information about the recipe run will be communicated directly in the PR."
   ]
  },
  {
   "cell_type": "markdown",
   "metadata": {},
   "source": [
    "## End of the Introduction Tutorial\n",
    "\n",
    "Congratulations, you've completed the introduction tutorial!\n",
    "\n",
    "From here, we hope you are excited to try writing your own recipe. As you write, you can find additional documentation helpful, such as the {doc}`recipe_user_guide/index` or the more advanced {doc}`tutorials/index`. You can also open issues in [`pangeo_forge_recipes`](https://github.com/pangeo-forge/pangeo-forge-recipes).\n",
    "\n",
    "Happy ARCO building!"
   ]
  },
  {
   "cell_type": "markdown",
   "metadata": {},
   "source": []
  }
 ],
 "metadata": {
  "language_info": {
   "name": "python"
  },
  "orig_nbformat": 4
 },
 "nbformat": 4,
 "nbformat_minor": 2
}
