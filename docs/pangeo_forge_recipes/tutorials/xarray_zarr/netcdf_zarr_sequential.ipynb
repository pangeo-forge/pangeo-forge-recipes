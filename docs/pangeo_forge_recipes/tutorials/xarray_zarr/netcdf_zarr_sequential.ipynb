{
 "cells": [
  {
   "cell_type": "markdown",
   "metadata": {},
   "source": [
    "# Xarray-to-Zarr Sequential Recipe: NOAA OISST\n",
    "\n",
    "This tutorial describes how to create a recipe from scratch.\n",
    "The source data is a sequence of NetCDF files accessed via HTTP.\n",
    "The target is a Zarr store."
   ]
  },
  {
   "cell_type": "markdown",
   "metadata": {},
   "source": [
    "## Step 1: Get to know your source data\n",
    "\n",
    "If you are developing a new recipe, you are probably starting from an existing\n",
    "dataset. The first step is to just get to know the dataset. For this tutorial,\n",
    "our example will be the _NOAA Optimum Interpolation Sea Surface Temperature\n",
    "(OISST) v2.1_. The authoritative website describing the data is\n",
    "https://www.ncei.noaa.gov/products/optimum-interpolation-sst.\n",
    "Scroll down on that page to the *Data Access* section.\n",
    "\n",
    "We will use the\n",
    "_AVHRR-Only_ version of the data and follow the corresponding link to the\n",
    "[Gridded netCDF Data](https://www.ncei.noaa.gov/data/sea-surface-temperature-optimum-interpolation/v2.1/access/avhrr/).\n",
    "Browsing through the directories, we can see that there is one file per day. The\n",
    "very first day of the dataset is stored at the following URL:\n",
    "\n",
    "```text\n",
    "https://www.ncei.noaa.gov/data/sea-surface-temperature-optimum-interpolation/v2.1/access/avhrr/198109/oisst-avhrr-v02r01.19810901.nc\n",
    "```\n",
    "\n",
    "From this example, we can work out the pattern of the file naming conventions.\n",
    "But first, let's just download one of the files and open it up.\n"
   ]
  },
  {
   "cell_type": "code",
   "execution_count": null,
   "metadata": {},
   "outputs": [],
   "source": [
    "! wget https://www.ncei.noaa.gov/data/sea-surface-temperature-optimum-interpolation/v2.1/access/avhrr/198109/oisst-avhrr-v02r01.19810901.nc "
   ]
  },
  {
   "cell_type": "code",
   "execution_count": null,
   "metadata": {},
   "outputs": [],
   "source": [
    "import xarray as xr\n",
    "\n",
    "ds = xr.open_dataset(\"oisst-avhrr-v02r01.19810901.nc\")\n",
    "ds"
   ]
  },
  {
   "cell_type": "markdown",
   "metadata": {},
   "source": [
    "We can see there are four data variables, all with dimension\n",
    "`(time, zlev, lat, lon)`. There is a _dimension coordinate_ for each dimension,\n",
    "and no _non-dimension coordinates_. Each file in the sequence presumably has the\n",
    "same `zlev`, `lat`, and `lon`, but we expect `time` to be different in each one.\n",
    "\n",
    "Let's also check the total size of the dataset in the file.\n"
   ]
  },
  {
   "cell_type": "code",
   "execution_count": null,
   "metadata": {},
   "outputs": [],
   "source": [
    "print(f\"File size is {ds.nbytes/1e6} MB\")"
   ]
  },
  {
   "cell_type": "markdown",
   "metadata": {},
   "source": [
    "The file size is important because it will help us define the _chunk size_\n",
    "Pangeo Forge will use to build up the target dataset.\n"
   ]
  },
  {
   "cell_type": "markdown",
   "metadata": {},
   "source": [
    "## Step 2: Define File Pattern\n",
    "\n",
    "The first step in developing a recipe is to define a {doc}`File Pattern <../../recipe_user_guide/file_patterns>`.\n",
    "The file pattern describes how the source files (a.k.a. \"inputs\") are organized.\n",
    "\n",
    "In this case, we have a very simple sequence of files that we want to concatenate along a single dimension (time), so we can use the helper function {func}`pangeo_forge_recipes.patterns.pattern_from_file_sequence`. This allows us to simply pass a list of URLs, which we define explicitly."
   ]
  },
  {
   "cell_type": "code",
   "execution_count": null,
   "metadata": {},
   "outputs": [],
   "source": [
    "from pangeo_forge_recipes.patterns import pattern_from_file_sequence\n",
    "\n",
    "pattern_from_file_sequence?"
   ]
  },
  {
   "cell_type": "markdown",
   "metadata": {},
   "source": [
    "To populate the `file_list`, we need understand the file naming conventions. Let's look again at the first URL\n",
    "\n",
    "```text\n",
    "https://www.ncei.noaa.gov/data/sea-surface-temperature-optimum-interpolation/v2.1/access/avhrr/198109/oisst-avhrr-v02r01.19810901.nc\n",
    "```\n",
    "\n",
    "From this we deduce the following format string."
   ]
  },
  {
   "cell_type": "code",
   "execution_count": null,
   "metadata": {},
   "outputs": [],
   "source": [
    "input_url_pattern = (\n",
    "    \"https://www.ncei.noaa.gov/data/sea-surface-temperature-optimum-interpolation\"\n",
    "    \"/v2.1/access/avhrr/{yyyymm}/oisst-avhrr-v02r01.{yyyymmdd}.nc\"\n",
    ")"
   ]
  },
  {
   "cell_type": "markdown",
   "metadata": {},
   "source": [
    "To convert this to an actual list of files, we use Pandas.\n",
    "At the time of writing, the latest available data is from 2022-07-15."
   ]
  },
  {
   "cell_type": "code",
   "execution_count": null,
   "metadata": {},
   "outputs": [],
   "source": [
    "import pandas as pd\n",
    "\n",
    "dates = pd.date_range(\"1981-09-01\", \"2022-07-15\", freq=\"D\")\n",
    "input_urls = [\n",
    "    input_url_pattern.format(\n",
    "        yyyymm=day.strftime(\"%Y%m\"), yyyymmdd=day.strftime(\"%Y%m%d\")\n",
    "    )\n",
    "    for day in dates\n",
    "]\n",
    "print(f\"Found {len(input_urls)} files!\")\n",
    "input_urls[-1]"
   ]
  },
  {
   "cell_type": "markdown",
   "metadata": {},
   "source": [
    "Now we can define our pattern.\n",
    "We will include one more piece of information: we know from examining the file above that there is only one timestep per file.\n",
    "So we can set `nitems_per_file=1`."
   ]
  },
  {
   "cell_type": "code",
   "execution_count": null,
   "metadata": {},
   "outputs": [],
   "source": [
    "pattern = pattern_from_file_sequence(input_urls, \"time\", nitems_per_file=1)\n",
    "pattern"
   ]
  },
  {
   "cell_type": "markdown",
   "metadata": {},
   "source": [
    "To check out pattern, we can try to get the data back out.\n",
    "The pattern is designed to be iterated over, so to key the first key, we do:"
   ]
  },
  {
   "cell_type": "code",
   "execution_count": null,
   "metadata": {},
   "outputs": [],
   "source": [
    "for key in pattern:\n",
    "    break\n",
    "key"
   ]
  },
  {
   "cell_type": "markdown",
   "metadata": {},
   "source": [
    "We can now use \"getitem\" syntax on the FilePattern object to retrieve the file name based on this key."
   ]
  },
  {
   "cell_type": "code",
   "execution_count": null,
   "metadata": {},
   "outputs": [],
   "source": [
    "pattern[key]"
   ]
  },
  {
   "cell_type": "markdown",
   "metadata": {},
   "source": [
    "As an alternative way to create the same pattern we could use the more verbose syntax to create a `FilePattern` class.\n",
    "With this method, we have to define a function which returns the file path, given a particular key.\n",
    "We might do it like this."
   ]
  },
  {
   "cell_type": "code",
   "execution_count": null,
   "metadata": {},
   "outputs": [],
   "source": [
    "from pangeo_forge_recipes.patterns import ConcatDim, FilePattern\n",
    "\n",
    "def format_function(time):\n",
    "    return input_url_pattern.format(\n",
    "        yyyymm=time.strftime(\"%Y%m\"), yyyymmdd=time.strftime(\"%Y%m%d\")\n",
    "    )\n",
    "\n",
    "concat_dim = ConcatDim(name=\"time\", keys=dates, nitems_per_file=1)\n",
    "pattern = FilePattern(format_function, concat_dim)\n",
    "pattern"
   ]
  },
  {
   "cell_type": "markdown",
   "metadata": {},
   "source": [
    "We can check that it gives us the same thing:"
   ]
  },
  {
   "cell_type": "code",
   "execution_count": null,
   "metadata": {},
   "outputs": [],
   "source": [
    "pattern[key]"
   ]
  },
  {
   "cell_type": "markdown",
   "metadata": {},
   "source": [
    "## Step 3: Pick a Recipe class\n",
    "\n",
    "Now that we have the file pattern defined, we have to plug it into a Recipe.\n",
    "Since we are reading NetCDF files, we will use the {class}`pangeo_forge_recipes.recipe.XarrayZarrRecipe` class\n",
    "Let's examine its documentation string in our notebook."
   ]
  },
  {
   "cell_type": "code",
   "execution_count": null,
   "metadata": {},
   "outputs": [],
   "source": [
    "from pangeo_forge_recipes.recipes import XarrayZarrRecipe\n",
    "XarrayZarrRecipe?"
   ]
  },
  {
   "cell_type": "markdown",
   "metadata": {},
   "source": [
    "There are lots of optional parameters, but only `file_pattern` is required.\n",
    "We can initialize our recipe by passing the file pattern to the recipe class."
   ]
  },
  {
   "cell_type": "code",
   "execution_count": null,
   "metadata": {},
   "outputs": [],
   "source": [
    "from pangeo_forge_recipes.recipes import XarrayZarrRecipe\n",
    "\n",
    "recipe = XarrayZarrRecipe(pattern)\n",
    "recipe"
   ]
  },
  {
   "cell_type": "markdown",
   "metadata": {},
   "source": [
    "Now let's think about the Zarr chunks that this recipe will produce.\n",
    "Each target chunk corresponds to one input. So each variable chunk will only be a few MB.\n",
    "That is too small. Let's increase `inputs_per_chunk` to 10.\n",
    "This means that we will need to be able to hold 10 files like the one we examined above in memory at once.\n",
    "That's `16MB * 10 = 160MB`. Not a problem!"
   ]
  },
  {
   "cell_type": "code",
   "execution_count": null,
   "metadata": {},
   "outputs": [],
   "source": [
    "recipe = XarrayZarrRecipe(pattern, inputs_per_chunk=10)\n",
    "recipe"
   ]
  },
  {
   "cell_type": "markdown",
   "metadata": {},
   "source": [
    "## Step 4: Play with the recipe\n",
    "\n",
    "Now we will just explore our recipe a bit to check whether things make sense.\n",
    "\n",
    "We will also turn on Pangeo Forge's logging."
   ]
  },
  {
   "cell_type": "code",
   "execution_count": null,
   "metadata": {},
   "outputs": [],
   "source": [
    "from pangeo_forge_recipes.recipes import setup_logging"
   ]
  },
  {
   "cell_type": "code",
   "execution_count": null,
   "metadata": {},
   "outputs": [],
   "source": [
    "setup_logging()"
   ]
  },
  {
   "cell_type": "markdown",
   "metadata": {},
   "source": [
    "We can see how many inputs the recipe has like this:"
   ]
  },
  {
   "cell_type": "code",
   "execution_count": null,
   "metadata": {},
   "outputs": [],
   "source": [
    "all_inputs = list(recipe.iter_inputs())\n",
    "len(all_inputs)"
   ]
  },
  {
   "cell_type": "markdown",
   "metadata": {},
   "source": [
    "And how many chunks:"
   ]
  },
  {
   "cell_type": "code",
   "execution_count": null,
   "metadata": {},
   "outputs": [],
   "source": [
    "all_chunks = list(recipe.iter_chunks())\n",
    "len(all_chunks)"
   ]
  },
  {
   "cell_type": "markdown",
   "metadata": {},
   "source": [
    "We can now try to load the first chunk. This will raise an exception because we have not initialized any targets.\n",
    "\n",
    "(Note that the ``open_chunk`` and ``open_input`` methods must be called as context managers. "
   ]
  },
  {
   "cell_type": "code",
   "execution_count": null,
   "metadata": {},
   "outputs": [],
   "source": [
    "%xmode minimal\n",
    "\n",
    "from pangeo_forge_recipes.recipes.xarray_zarr import open_chunk\n",
    "\n",
    "try:\n",
    "    with open_chunk(all_chunks[0], config=recipe) as ds:\n",
    "        display(ds)\n",
    "except FileNotFoundError as e:\n",
    "    print(str(e))"
   ]
  },
  {
   "cell_type": "markdown",
   "metadata": {},
   "source": [
    "## Step 5: Create storage targets\n",
    "\n",
    "To experiment with our object a bit more, let's attempt to load a chunk."
   ]
  },
  {
   "cell_type": "code",
   "execution_count": null,
   "metadata": {},
   "outputs": [],
   "source": [
    "try:\n",
    "    with open_chunk(all_chunks[0], config=recipe) as ds:\n",
    "        display(ds)\n",
    "except FileNotFoundError as e:\n",
    "    print(e)"
   ]
  },
  {
   "cell_type": "markdown",
   "metadata": {},
   "source": [
    "It still didn't work! That's because we have not cached the inputs yet. We can have the recipe tell us which inputs are needed for each chunk via the `inputs_for_chunk` method."
   ]
  },
  {
   "cell_type": "code",
   "execution_count": null,
   "metadata": {},
   "outputs": [],
   "source": [
    "from pangeo_forge_recipes.recipes.xarray_zarr import cache_input, inputs_for_chunk\n",
    "\n",
    "ninputs = recipe.file_pattern.dims[\"time\"]\n",
    "\n",
    "for input_file in inputs_for_chunk(all_chunks[0], recipe.inputs_per_chunk, ninputs):\n",
    "    cache_input(input_file, config=recipe)"
   ]
  },
  {
   "cell_type": "markdown",
   "metadata": {},
   "source": [
    "## Step 6: Examine some chunks\n",
    "\n",
    "Now we can finally open the first chunk!"
   ]
  },
  {
   "cell_type": "code",
   "execution_count": null,
   "metadata": {},
   "outputs": [],
   "source": [
    "with open_chunk(all_chunks[0], config=recipe) as ds:\n",
    "    display(ds)\n",
    "    # need to load if we want to access the data outside of the context\n",
    "    ds.load()"
   ]
  },
  {
   "cell_type": "code",
   "execution_count": null,
   "metadata": {},
   "outputs": [],
   "source": [
    "print(f'Total chunk size: {ds.nbytes / 1e6} MB')"
   ]
  },
  {
   "cell_type": "markdown",
   "metadata": {},
   "source": [
    "👀 Inspect the Xarray HTML repr above carefully by clicking on the buttons to expand the different sections.\n",
    "- ✅ Is the shape of the variable what we expect?\n",
    "- ✅ Is `time` going in the right order?\n",
    "- ✅ Do the variable attributes make sense?\n",
    "\n",
    "\n",
    "Now let's visualize some data and make sure things look good"
   ]
  },
  {
   "cell_type": "code",
   "execution_count": null,
   "metadata": {},
   "outputs": [],
   "source": [
    "ds.sst[0].plot()"
   ]
  },
  {
   "cell_type": "code",
   "execution_count": null,
   "metadata": {},
   "outputs": [],
   "source": [
    "ds.ice[-1].plot()"
   ]
  },
  {
   "cell_type": "markdown",
   "metadata": {},
   "source": [
    "The data look good!\n",
    "Now let's try a random chunk from the middle."
   ]
  },
  {
   "cell_type": "code",
   "execution_count": null,
   "metadata": {},
   "outputs": [],
   "source": [
    "chunk_number = 500\n",
    "chunk_key = list(recipe.iter_chunks())[chunk_number]\n",
    "for input_file in inputs_for_chunk(chunk_key, recipe.inputs_per_chunk, ninputs):\n",
    "    cache_input(input_file, config=recipe)"
   ]
  },
  {
   "cell_type": "code",
   "execution_count": null,
   "metadata": {},
   "outputs": [],
   "source": [
    "with open_chunk(chunk_key, config=recipe) as ds_chunk:\n",
    "    ds_chunk.load()\n",
    "ds_chunk"
   ]
  },
  {
   "cell_type": "markdown",
   "metadata": {},
   "source": [
    "## Step 7: Try writing data\n",
    "\n",
    "Now that we can see our chunks opening correctly, we are ready to try writing data to our target.\n",
    "\n",
    "We can write a Zarr store containing only the first two timesteps of our dataset as follows:"
   ]
  },
  {
   "cell_type": "code",
   "execution_count": null,
   "metadata": {},
   "outputs": [],
   "source": [
    "pruned_recipe = recipe.copy_pruned()\n",
    "pruned_recipe.to_function()()"
   ]
  },
  {
   "cell_type": "markdown",
   "metadata": {},
   "source": [
    "Now we can examine the output of our pruned execution test:"
   ]
  },
  {
   "cell_type": "code",
   "execution_count": null,
   "metadata": {},
   "outputs": [],
   "source": [
    "ds = xr.open_zarr(recipe.target_mapper, consolidated=True)\n",
    "ds"
   ]
  },
  {
   "cell_type": "markdown",
   "metadata": {},
   "source": [
    "## Postscript: Execute the full recipe\n",
    "\n",
    "We are now confident that our recipe works as we expect.\n",
    "At this point we could either:\n",
    "- Execute it all ourselves (see {doc}`../../recipe_user_guide/execution`)\n",
    "- Make a {doc}`../../../pangeo_forge_cloud/recipe_contribution` to {doc}`../../../pangeo_forge_cloud/index` to have our recipe executed automatically on the cloud.\n",
    "\n",
    "Hopefully now you have a better understanding of how Pangeo Forge recipes work."
   ]
  },
  {
   "cell_type": "code",
   "execution_count": null,
   "metadata": {},
   "outputs": [],
   "source": []
  }
 ],
 "metadata": {
  "kernelspec": {
   "display_name": "Python 3 (ipykernel)",
   "language": "python",
   "name": "python3"
  },
  "language_info": {
   "codemirror_mode": {
    "name": "ipython",
    "version": 3
   },
   "file_extension": ".py",
   "mimetype": "text/x-python",
   "name": "python",
   "nbconvert_exporter": "python",
   "pygments_lexer": "ipython3",
   "version": "3.9.13"
  }
 },
 "nbformat": 4,
 "nbformat_minor": 4
}
